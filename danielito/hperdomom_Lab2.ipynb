{
  "nbformat": 4,
  "nbformat_minor": 0,
  "metadata": {
    "colab": {
      "name": "hperdomom_Lab1.ipynb",
      "provenance": [],
      "collapsed_sections": [
        "Xf4q5OqqxOmf",
        "9F97UZbmr3JX",
        "lUDpE3Rxhr0Y"
      ]
    },
    "kernelspec": {
      "name": "python3",
      "display_name": "Python 3"
    },
    "language_info": {
      "name": "python"
    }
  },
  "cells": [
    {
      "cell_type": "markdown",
      "source": [
        "# **Tutorial 1**\n",
        "### Introduction to Financial Python.I \n",
        "##### **Data Types and Data Structures**\n",
        "###### QUANTCONNECT"
      ],
      "metadata": {
        "id": "Xf4q5OqqxOmf"
      }
    },
    {
      "cell_type": "markdown",
      "source": [
        "# **Basic Variable Types**\n",
        "The basic types of variables in Python are: strings, integers, floating point numbers and booleans.\n",
        "\n",
        "Strings in python are identified as a contiguous set of characters represented in either single quotes (' ') or double quotes (\" \").\n"
      ],
      "metadata": {
        "id": "kWxcG3DWzDvn"
      }
    },
    {
      "cell_type": "code",
      "source": [
        "my_string1 = 'Welcome to'\n",
        "my_string2 = \"QuantConnect\"\n",
        "print(my_string1 + ' ' + my_string2)"
      ],
      "metadata": {
        "colab": {
          "base_uri": "https://localhost:8080/"
        },
        "id": "5-BLXUOEzOw_",
        "outputId": "3d8cf0f5-f001-4a3d-e24b-3681432c3bbc"
      },
      "execution_count": null,
      "outputs": [
        {
          "output_type": "stream",
          "name": "stdout",
          "text": [
            "Welcome to QuantConnect\n"
          ]
        }
      ]
    },
    {
      "cell_type": "markdown",
      "source": [
        "### My example 1\n",
        "\n"
      ],
      "metadata": {
        "id": "0AijCMoezZKV"
      }
    },
    {
      "cell_type": "code",
      "source": [
        "mi_texto1 = 'Bienvenidos'\n",
        "mi_texto2 = \"al laboratorio 1\"\n",
        "print(mi_texto1 + ' ' + mi_texto2)"
      ],
      "metadata": {
        "colab": {
          "base_uri": "https://localhost:8080/"
        },
        "id": "a_iJpY4azdbO",
        "outputId": "a87ffe07-d702-4971-c5ab-818c5b439143"
      },
      "execution_count": null,
      "outputs": [
        {
          "output_type": "stream",
          "name": "stdout",
          "text": [
            "Bienvenidos al laboratorio 1\n"
          ]
        }
      ]
    },
    {
      "cell_type": "markdown",
      "source": [
        "An integer is a round number with no values after the decimal point.\n"
      ],
      "metadata": {
        "id": "4AHPW6ARX6_m"
      }
    },
    {
      "cell_type": "code",
      "source": [
        "my_int = 10\n",
        "print(my_int)\n",
        "print(type(my_int))"
      ],
      "metadata": {
        "colab": {
          "base_uri": "https://localhost:8080/"
        },
        "id": "LfIFdBMPX-LG",
        "outputId": "c4f5ef0b-b954-4679-b928-4e4f07c97859"
      },
      "execution_count": null,
      "outputs": [
        {
          "output_type": "stream",
          "name": "stdout",
          "text": [
            "10\n",
            "<class 'int'>\n"
          ]
        }
      ]
    },
    {
      "cell_type": "markdown",
      "source": [
        "### my example 2\n"
      ],
      "metadata": {
        "id": "R22PxYQkYTxY"
      }
    },
    {
      "cell_type": "code",
      "source": [
        "mi_entero = 19\n",
        "print(mi_entero)\n",
        "print(type(mi_entero))"
      ],
      "metadata": {
        "colab": {
          "base_uri": "https://localhost:8080/"
        },
        "id": "X7tz4NlxYay4",
        "outputId": "d91684d5-cc1b-4711-a6b1-4eff39255946"
      },
      "execution_count": null,
      "outputs": [
        {
          "output_type": "stream",
          "name": "stdout",
          "text": [
            "19\n",
            "<class 'int'>\n"
          ]
        }
      ]
    },
    {
      "cell_type": "markdown",
      "source": [
        "The built-in function int() can convert a string into an integer."
      ],
      "metadata": {
        "id": "9UZkgKDxYlEi"
      }
    },
    {
      "cell_type": "code",
      "source": [
        "my_string = \"100\"\n",
        "print(type(my_string))\n",
        "\n",
        "my_int = int(my_string)\n",
        "print(type(my_int))"
      ],
      "metadata": {
        "colab": {
          "base_uri": "https://localhost:8080/"
        },
        "id": "f3CtzrUPYngI",
        "outputId": "5876d583-5e53-4454-9f29-183834a76ca2"
      },
      "execution_count": null,
      "outputs": [
        {
          "output_type": "stream",
          "name": "stdout",
          "text": [
            "<class 'str'>\n",
            "<class 'int'>\n"
          ]
        }
      ]
    },
    {
      "cell_type": "markdown",
      "source": [
        "### my example 3"
      ],
      "metadata": {
        "id": "qfZO9WcmYwOx"
      }
    },
    {
      "cell_type": "code",
      "source": [
        "mi_variable = \"100\"\n",
        "print(type(mi_variable))\n",
        "\n",
        "mi_variable = int(mi_variable)\n",
        "print(type(mi_variable))"
      ],
      "metadata": {
        "colab": {
          "base_uri": "https://localhost:8080/"
        },
        "id": "zKYGcvoCYzmM",
        "outputId": "44bb4e02-044e-445d-fd28-d02f67ce4085"
      },
      "execution_count": null,
      "outputs": [
        {
          "output_type": "stream",
          "name": "stdout",
          "text": [
            "<class 'str'>\n",
            "<class 'int'>\n"
          ]
        }
      ]
    },
    {
      "cell_type": "markdown",
      "source": [
        "A floating point number, or a float, is a real number in mathematics. In Python we need to include a value after a decimal point to define it as a float."
      ],
      "metadata": {
        "id": "vEV4QDPuZEfd"
      }
    },
    {
      "cell_type": "code",
      "source": [
        "my_float = 1.0\n",
        "print(type(my_float))\n",
        "\n",
        "my_int = 1\n",
        "print(type(my_int))\n"
      ],
      "metadata": {
        "colab": {
          "base_uri": "https://localhost:8080/"
        },
        "id": "M9DSnvLVZJ9t",
        "outputId": "5cbc6fa6-a1bc-4879-d023-7886f81bddb0"
      },
      "execution_count": null,
      "outputs": [
        {
          "output_type": "stream",
          "name": "stdout",
          "text": [
            "<class 'float'>\n",
            "<class 'int'>\n"
          ]
        }
      ]
    },
    {
      "cell_type": "markdown",
      "source": [
        "### my example 4"
      ],
      "metadata": {
        "id": "TeUL_GzfZOX9"
      }
    },
    {
      "cell_type": "code",
      "source": [
        "mi_decimal = 8.8\n",
        "print(type(my_float))\n",
        "print(mi_decimal)\n",
        "\n",
        "mi_entero = 1.9\n",
        "print(type(my_int))\n",
        "print(int(mi_entero))"
      ],
      "metadata": {
        "id": "PCFeKeVsZRG9",
        "colab": {
          "base_uri": "https://localhost:8080/"
        },
        "outputId": "c45b9d7e-c42a-43f0-a176-f1504ee7c0ab"
      },
      "execution_count": null,
      "outputs": [
        {
          "output_type": "stream",
          "name": "stdout",
          "text": [
            "<class 'float'>\n",
            "8.8\n",
            "<class 'int'>\n",
            "1\n"
          ]
        }
      ]
    },
    {
      "cell_type": "markdown",
      "source": [
        "As you can see above, if we don't include a decimal value, the variable would be defined as an integer. The built-in function float() can convert a string or an integer into a float."
      ],
      "metadata": {
        "id": "_4bKJJM1ZyHQ"
      }
    },
    {
      "cell_type": "code",
      "source": [
        "my_string = \"100\"\n",
        "my_float = float(my_string)\n",
        "print(type(my_float))\n"
      ],
      "metadata": {
        "colab": {
          "base_uri": "https://localhost:8080/"
        },
        "id": "Y6axlJ7xZ6bp",
        "outputId": "35a75758-9ddb-40f8-925a-7a3f948831a4"
      },
      "execution_count": null,
      "outputs": [
        {
          "output_type": "stream",
          "name": "stdout",
          "text": [
            "<class 'float'>\n"
          ]
        }
      ]
    },
    {
      "cell_type": "markdown",
      "source": [
        "### my example 5"
      ],
      "metadata": {
        "id": "TDX-sEqtaA-R"
      }
    },
    {
      "cell_type": "code",
      "source": [
        "mi_variable = \"0919\"\n",
        "mi_flotante = float(mi_variable)\n",
        "print(type(mi_flotante))"
      ],
      "metadata": {
        "colab": {
          "base_uri": "https://localhost:8080/"
        },
        "id": "85fghrItaGLS",
        "outputId": "bafce2ab-c56f-4e9d-85d7-d5ae60e25ba8"
      },
      "execution_count": null,
      "outputs": [
        {
          "output_type": "stream",
          "name": "stdout",
          "text": [
            "<class 'float'>\n"
          ]
        }
      ]
    },
    {
      "cell_type": "markdown",
      "source": [
        "A boolean, or bool, is a binary variable. Its value can only be True or False. It is useful when we do some logic operations, which would be covered in our next chapter."
      ],
      "metadata": {
        "id": "zk_wAgWRbACt"
      }
    },
    {
      "cell_type": "code",
      "source": [
        "my_bool = False\n",
        "print(my_bool)\n",
        "\n",
        "print(type(my_bool))\n"
      ],
      "metadata": {
        "id": "XRAeZJwFbGHU",
        "colab": {
          "base_uri": "https://localhost:8080/"
        },
        "outputId": "4a729054-d200-446f-810e-3a05b66c6a33"
      },
      "execution_count": null,
      "outputs": [
        {
          "output_type": "stream",
          "name": "stdout",
          "text": [
            "False\n",
            "<class 'bool'>\n"
          ]
        }
      ]
    },
    {
      "cell_type": "markdown",
      "source": [
        "### my example 6"
      ],
      "metadata": {
        "id": "ZI0BOha6bcD0"
      }
    },
    {
      "cell_type": "code",
      "source": [
        "mi_booleano = True\n",
        "print(mi_booleano)\n",
        "\n",
        "print(type(mi_booleano))\n"
      ],
      "metadata": {
        "id": "UH6LaVPVbKPF",
        "colab": {
          "base_uri": "https://localhost:8080/"
        },
        "outputId": "0cbe83b5-ecd4-44e5-a88d-87dcf5fbeace"
      },
      "execution_count": null,
      "outputs": [
        {
          "output_type": "stream",
          "name": "stdout",
          "text": [
            "True\n",
            "<class 'bool'>\n"
          ]
        }
      ]
    },
    {
      "cell_type": "markdown",
      "source": [
        "#**Basic Math Operations**\n",
        "######The basic math operators in python are demonstrated below:\n",
        "\n",
        "\n",
        "\n"
      ],
      "metadata": {
        "id": "mgjcyDWObniY"
      }
    },
    {
      "cell_type": "code",
      "source": [
        "print(\"Addition \", 1+1)\n",
        "print(\"Subtraction \", 5-2)\n",
        "print(\"Multiplication \", 2*3)\n",
        "print(\"Division\", 10/2)\n",
        "print(\"exponent\", 2**3)\n"
      ],
      "metadata": {
        "colab": {
          "base_uri": "https://localhost:8080/"
        },
        "id": "zTo8Y290b3QY",
        "outputId": "122d1744-2bb0-411d-fcab-397b04089ed5"
      },
      "execution_count": null,
      "outputs": [
        {
          "output_type": "stream",
          "name": "stdout",
          "text": [
            "Addition  2\n",
            "Subtraction  3\n",
            "Multiplication  6\n",
            "Division 5.0\n",
            "exponent 8\n"
          ]
        }
      ]
    },
    {
      "cell_type": "markdown",
      "source": [
        "### my example 7"
      ],
      "metadata": {
        "id": "DA-M5ivBb9NW"
      }
    },
    {
      "cell_type": "code",
      "source": [
        "print(\"suma \", 1+9)\n",
        "print(\"sustraccion \", 1-9)\n",
        "print(\"Multiplicacion \", 1*9)\n",
        "print(\"Division\", 1/9)\n",
        "print(\"exponente o potencia\", 2**9)"
      ],
      "metadata": {
        "colab": {
          "base_uri": "https://localhost:8080/"
        },
        "id": "SMFrXJn-cSHK",
        "outputId": "fb162032-8884-4619-d159-f987b2fef4d8"
      },
      "execution_count": null,
      "outputs": [
        {
          "output_type": "stream",
          "name": "stdout",
          "text": [
            "suma  10\n",
            "sustraccion  -8\n",
            "Multiplicacion  9\n",
            "Division 0.1111111111111111\n",
            "exponente o potencia 512\n"
          ]
        }
      ]
    },
    {
      "cell_type": "markdown",
      "source": [
        "#**Data Collections**\n",
        "###**List**\n",
        "######A list is an **ordered** collection of values. A list is mutable, which means you can change a list's value without changing the list itself. Creating a list is simply putting different comma-separated values between square brackets"
      ],
      "metadata": {
        "id": "oFVA-hQhcnN6"
      }
    },
    {
      "cell_type": "code",
      "source": [
        "my_list = ['Quant', 'Connect', 1,2,3]\n",
        "print(my_list)\n"
      ],
      "metadata": {
        "id": "HaqBYzBkdFJ8",
        "colab": {
          "base_uri": "https://localhost:8080/"
        },
        "outputId": "6fe70840-2803-4c5b-c83f-f88a0e77419e"
      },
      "execution_count": null,
      "outputs": [
        {
          "output_type": "stream",
          "name": "stdout",
          "text": [
            "['Quant', 'Connect', 1, 2, 3]\n"
          ]
        }
      ]
    },
    {
      "cell_type": "markdown",
      "source": [
        "###My example 8"
      ],
      "metadata": {
        "id": "zk1yjUvVdHk6"
      }
    },
    {
      "cell_type": "code",
      "source": [
        "mi_datos = ['hernan', 'perdomo', 9,19,20]\n",
        "print(mi_datos)"
      ],
      "metadata": {
        "colab": {
          "base_uri": "https://localhost:8080/"
        },
        "id": "fNUPAfzfdSy7",
        "outputId": "bdca7b69-ec6a-446e-a613-ef42d6627c86"
      },
      "execution_count": null,
      "outputs": [
        {
          "output_type": "stream",
          "name": "stdout",
          "text": [
            "['hernan', 'perdomo', 9, 19, 20]\n"
          ]
        }
      ]
    },
    {
      "cell_type": "markdown",
      "source": [
        "The values in a list are called \"elements\". We can access list elements by indexing. Python index starts from 0. So if you have a list of length n, the index of the first element will be 0, and that of the last element will be n − 1. By the way, the length of a list can be obtained by the built-in function len()."
      ],
      "metadata": {
        "id": "ZLj8zuPndikl"
      }
    },
    {
      "cell_type": "code",
      "source": [
        "my_list = ['Quant', 'Connect', 1,2,3]\n",
        "print(len(my_list))\n",
        "\n",
        "print(my_list[0])\n",
        "\n",
        "print(my_list[len(my_list) - 1])\n"
      ],
      "metadata": {
        "colab": {
          "base_uri": "https://localhost:8080/"
        },
        "id": "03KTeHkfdrQt",
        "outputId": "d1644aa5-4fd5-45b5-f010-c75962c84b90"
      },
      "execution_count": null,
      "outputs": [
        {
          "output_type": "stream",
          "name": "stdout",
          "text": [
            "5\n",
            "Quant\n",
            "3\n"
          ]
        }
      ]
    },
    {
      "cell_type": "markdown",
      "source": [
        "### my example 9"
      ],
      "metadata": {
        "id": "C7EHQrTadx8t"
      }
    },
    {
      "cell_type": "code",
      "source": [
        "mis_datos = ['hernan', 'perdomo', 9,19,20]\n",
        "print(len(mis_datos)) #numero de elementos\n",
        "\n",
        "print(mis_datos[0]) #elemento en posicion x\n",
        "\n",
        "print(mis_datos[len(mis_datos) - 3]) #\n"
      ],
      "metadata": {
        "id": "QrhztGcbd4A-",
        "colab": {
          "base_uri": "https://localhost:8080/"
        },
        "outputId": "0f3bd745-6b63-4dc2-d248-e134eb10d6c6"
      },
      "execution_count": null,
      "outputs": [
        {
          "output_type": "stream",
          "name": "stdout",
          "text": [
            "5\n",
            "hernan\n",
            "9\n"
          ]
        }
      ]
    },
    {
      "cell_type": "markdown",
      "source": [
        "You can also change the elements in the list by accessing an index and assigning a new value."
      ],
      "metadata": {
        "id": "GhY8glirfdyB"
      }
    },
    {
      "cell_type": "code",
      "source": [
        "my_list = ['Quant','Connect',1,2,3]\n",
        "my_list[2] = 'go'\n",
        "print(my_list)\n"
      ],
      "metadata": {
        "colab": {
          "base_uri": "https://localhost:8080/"
        },
        "id": "Ir0y44BQfiTR",
        "outputId": "9d381607-5f67-4555-ca80-378a9969a07b"
      },
      "execution_count": null,
      "outputs": [
        {
          "output_type": "stream",
          "name": "stdout",
          "text": [
            "['Quant', 'Connect', 'go', 2, 3]\n"
          ]
        }
      ]
    },
    {
      "cell_type": "markdown",
      "source": [
        "###My example 10"
      ],
      "metadata": {
        "id": "GfwjGa1CfnnZ"
      }
    },
    {
      "cell_type": "code",
      "source": [
        "mis_datos = ['Hernan','PERDOMO',9,19,20]\n",
        "mis_datos[2] = '1.84'\n",
        "print(mis_datos)"
      ],
      "metadata": {
        "colab": {
          "base_uri": "https://localhost:8080/"
        },
        "id": "8cA94_t9fuqD",
        "outputId": "bc6adb67-52b3-48d8-da10-8bc636128936"
      },
      "execution_count": null,
      "outputs": [
        {
          "output_type": "stream",
          "name": "stdout",
          "text": [
            "['Hernan', 'PERDOMO', '1.84', 19, 20]\n"
          ]
        }
      ]
    },
    {
      "cell_type": "markdown",
      "source": [
        "A list can also be sliced with a colon:"
      ],
      "metadata": {
        "id": "WYGD0BM_gLhp"
      }
    },
    {
      "cell_type": "code",
      "source": [
        "my_list = ['Quant','Connect',1,2,3]\n",
        "print(my_list[1:3])\n"
      ],
      "metadata": {
        "colab": {
          "base_uri": "https://localhost:8080/"
        },
        "id": "HwcGwKmFgPPv",
        "outputId": "1ca5f654-b179-4b7b-9bbe-0478df744780"
      },
      "execution_count": null,
      "outputs": [
        {
          "output_type": "stream",
          "name": "stdout",
          "text": [
            "['Connect', 1]\n"
          ]
        }
      ]
    },
    {
      "cell_type": "markdown",
      "source": [
        "###My example 11"
      ],
      "metadata": {
        "id": "zEIfTcgogbMT"
      }
    },
    {
      "cell_type": "code",
      "source": [
        "mis_datos= ['HERNAN','PERDOMO',9,19,20]\n",
        "print(mis_datos[1:4])"
      ],
      "metadata": {
        "colab": {
          "base_uri": "https://localhost:8080/"
        },
        "id": "jtOPlKjcgetb",
        "outputId": "ed27b5e6-d534-4112-b4e9-559977d3683a"
      },
      "execution_count": null,
      "outputs": [
        {
          "output_type": "stream",
          "name": "stdout",
          "text": [
            "['PERDOMO', 9, 19]\n"
          ]
        }
      ]
    },
    {
      "cell_type": "markdown",
      "source": [
        "The slice starts from the first element indicated, but excludes the last element indicated. Here we select all elements starting from index 1, which refers to the second element:"
      ],
      "metadata": {
        "id": "dus_vLTAg9fs"
      }
    },
    {
      "cell_type": "code",
      "source": [
        "print(my_list[1:])\n"
      ],
      "metadata": {
        "colab": {
          "base_uri": "https://localhost:8080/"
        },
        "id": "r7MTtpZ6hC81",
        "outputId": "94255e90-dba5-44bc-eef0-734e0ccddabc"
      },
      "execution_count": null,
      "outputs": [
        {
          "output_type": "stream",
          "name": "stdout",
          "text": [
            "['Connect', 1, 2, 3]\n"
          ]
        }
      ]
    },
    {
      "cell_type": "markdown",
      "source": [
        "###My example 12"
      ],
      "metadata": {
        "id": "3zi3JPV9hKZl"
      }
    },
    {
      "cell_type": "code",
      "source": [
        "print(mis_datos[2:])"
      ],
      "metadata": {
        "colab": {
          "base_uri": "https://localhost:8080/"
        },
        "id": "EoSSPkpqhOuP",
        "outputId": "31b34f2b-e544-4f0a-a105-5f1293e8279d"
      },
      "execution_count": null,
      "outputs": [
        {
          "output_type": "stream",
          "name": "stdout",
          "text": [
            "[9, 19, 20]\n"
          ]
        }
      ]
    },
    {
      "cell_type": "markdown",
      "source": [
        "And all elements up to but excluding index 3"
      ],
      "metadata": {
        "id": "l7KZaIrkha6O"
      }
    },
    {
      "cell_type": "code",
      "source": [
        "print(my_list[:3])"
      ],
      "metadata": {
        "colab": {
          "base_uri": "https://localhost:8080/"
        },
        "id": "_bzaUZR7heOt",
        "outputId": "aa385a21-8ac0-4a77-cfa9-63135fe4d684"
      },
      "execution_count": null,
      "outputs": [
        {
          "output_type": "stream",
          "name": "stdout",
          "text": [
            "['Quant', 'Connect', 1]\n"
          ]
        }
      ]
    },
    {
      "cell_type": "markdown",
      "source": [
        "###My example 13"
      ],
      "metadata": {
        "id": "0qOmN4s_hl5d"
      }
    },
    {
      "cell_type": "code",
      "source": [
        "print(mis_datos[:3])"
      ],
      "metadata": {
        "colab": {
          "base_uri": "https://localhost:8080/"
        },
        "id": "kcflinJ3hptF",
        "outputId": "d8af60ba-18e0-485a-d4c3-5e292f3d9bff"
      },
      "execution_count": null,
      "outputs": [
        {
          "output_type": "stream",
          "name": "stdout",
          "text": [
            "['HERNAN', 'PERDOMO', 9]\n"
          ]
        }
      ]
    },
    {
      "cell_type": "markdown",
      "source": [
        "If you wish to add or remove an element from a list, you can use the append() and remove() methods for lists as follows:\n",
        "\n"
      ],
      "metadata": {
        "id": "jQE1QQIDhxxV"
      }
    },
    {
      "cell_type": "code",
      "source": [
        "my_list = ['Hello', 'Quant']\n",
        "my_list.append('Hello')\n",
        "print(my_list)\n",
        "\n",
        "my_list.remove('Hello')\n",
        "print(my_list)\n"
      ],
      "metadata": {
        "colab": {
          "base_uri": "https://localhost:8080/"
        },
        "id": "5ZOVWTMYiANa",
        "outputId": "af485dae-31fe-4773-da14-2dd9aa9087b2"
      },
      "execution_count": null,
      "outputs": [
        {
          "output_type": "stream",
          "name": "stdout",
          "text": [
            "['Hello', 'Quant', 'Hello']\n",
            "['Quant', 'Hello']\n"
          ]
        }
      ]
    },
    {
      "cell_type": "markdown",
      "source": [
        "###My example 14"
      ],
      "metadata": {
        "id": "60zytm7oiDhv"
      }
    },
    {
      "cell_type": "code",
      "source": [
        "mi_nombre = ['Hernan', 'Perdomo']\n",
        "mi_nombre.append('Morales')\n",
        "print(mi_nombre)\n",
        "\n",
        "mi_nombre.remove('Hernan')\n",
        "print(mi_nombre)"
      ],
      "metadata": {
        "colab": {
          "base_uri": "https://localhost:8080/"
        },
        "id": "w1cvU4RtiGoH",
        "outputId": "8b45973c-271c-4974-c26f-37bacc327a71"
      },
      "execution_count": null,
      "outputs": [
        {
          "output_type": "stream",
          "name": "stdout",
          "text": [
            "['Hernan', 'Perdomo', 'Morales']\n",
            "['Perdomo', 'Morales']\n"
          ]
        }
      ]
    },
    {
      "cell_type": "markdown",
      "source": [
        "When there are repeated instances of \"Hello\", the first one is removed.\n",
        "\n",
        "###**Tuple**\n",
        "\n",
        "A tuple is a data structure type similar to a list. The difference is that a tuple is immutable, which means you can't change the elements in it once it's defined. We create a tuple by putting comma-separated values between parentheses."
      ],
      "metadata": {
        "id": "-LXyqE38ity4"
      }
    },
    {
      "cell_type": "code",
      "source": [
        "my_tuple = ('Welcome','to','QuantConnect')"
      ],
      "metadata": {
        "id": "vZGHqeWrjpd5"
      },
      "execution_count": null,
      "outputs": []
    },
    {
      "cell_type": "markdown",
      "source": [
        "###My example 15"
      ],
      "metadata": {
        "id": "2ZKimojHjvL5"
      }
    },
    {
      "cell_type": "code",
      "source": [
        "mi_tupla = ('HERNAN','FELIPE','PERDOMO')"
      ],
      "metadata": {
        "id": "UGw4S7rSj0jo"
      },
      "execution_count": null,
      "outputs": []
    },
    {
      "cell_type": "markdown",
      "source": [
        "Just like a list, a tuple can be sliced by using index"
      ],
      "metadata": {
        "id": "83vqgoyakP_P"
      }
    },
    {
      "cell_type": "code",
      "source": [
        "my_tuple = ('Welcome','to','QuantConnect')\n",
        "print(my_tuple[1:])\n"
      ],
      "metadata": {
        "colab": {
          "base_uri": "https://localhost:8080/"
        },
        "id": "DEklW6cykXO_",
        "outputId": "bcca9d0c-59b9-4176-9322-37269cb5a677"
      },
      "execution_count": null,
      "outputs": [
        {
          "output_type": "stream",
          "name": "stdout",
          "text": [
            "('to', 'QuantConnect')\n"
          ]
        }
      ]
    },
    {
      "cell_type": "markdown",
      "source": [
        "###My example 16"
      ],
      "metadata": {
        "id": "AeCSPUY-kb7X"
      }
    },
    {
      "cell_type": "code",
      "source": [
        "mi_tupla = ('HERNAN','FELIPE','PERDOMO')\n",
        "print(mi_tupla[1:])"
      ],
      "metadata": {
        "colab": {
          "base_uri": "https://localhost:8080/"
        },
        "id": "WQ1Nx9khkgtx",
        "outputId": "99e9b6b0-a063-478d-948a-72f392844aea"
      },
      "execution_count": null,
      "outputs": [
        {
          "output_type": "stream",
          "name": "stdout",
          "text": [
            "('FELIPE', 'PERDOMO')\n"
          ]
        }
      ]
    },
    {
      "cell_type": "markdown",
      "source": [
        "###**Set**\n",
        "\n",
        "A set is an **unordered** collection with **no duplicate** elements. The built-in function set() can be used to create sets."
      ],
      "metadata": {
        "id": "Uc_peW8Xkx0r"
      }
    },
    {
      "cell_type": "code",
      "source": [
        "stock_list = ['AAPL','GOOG','IBM','AAPL','IBM','FB','F','GOOG']\n",
        "stock_set = set(stock_list)\n",
        "print(stock_set)\n"
      ],
      "metadata": {
        "colab": {
          "base_uri": "https://localhost:8080/"
        },
        "id": "-pxO8IPMlEfy",
        "outputId": "4c61b8b8-c8c6-460c-c595-01a114cadf35"
      },
      "execution_count": null,
      "outputs": [
        {
          "output_type": "stream",
          "name": "stdout",
          "text": [
            "{'GOOG', 'AAPL', 'FB', 'IBM', 'F'}\n"
          ]
        }
      ]
    },
    {
      "cell_type": "markdown",
      "source": [
        "Set is an easy way to remove duplicate elements from a list."
      ],
      "metadata": {
        "id": "DfudF8binRan"
      }
    },
    {
      "cell_type": "markdown",
      "source": [
        "### My example 17"
      ],
      "metadata": {
        "id": "CT5U9L8ulN1D"
      }
    },
    {
      "cell_type": "code",
      "source": [
        "carreras_unal = ['Ingenieria','Medicina','Ingenieria','Derecho','Economia','Filologia','Medicina','Veterinaria','Ingenieria']\n",
        "carreras_unal = set(carreras_unal)\n",
        "print(carreras_unal)"
      ],
      "metadata": {
        "id": "CIdpOI6OlVYL",
        "colab": {
          "base_uri": "https://localhost:8080/"
        },
        "outputId": "fb23441f-740b-46fe-9958-1ee8ba1fb407"
      },
      "execution_count": null,
      "outputs": [
        {
          "output_type": "stream",
          "name": "stdout",
          "text": [
            "{'Economia', 'Medicina', 'Ingenieria', 'Veterinaria', 'Derecho', 'Filologia'}\n"
          ]
        }
      ]
    },
    {
      "cell_type": "markdown",
      "source": [
        "###**Dictionary**\n",
        "A dictionary is one of the most important data structures in Python. Unlike sequences which are indexed by integers, dictionaries are indexed by keys which can be either strings or floats.\n",
        "\n",
        "A dictionary is an unordered collection of key : value pairs, with the requirement that the keys are unique. We create a dictionary by placing a comma-separated list of key : value pairs within the braces.\n",
        "\n"
      ],
      "metadata": {
        "id": "IIVCCSpRnSXc"
      }
    },
    {
      "cell_type": "code",
      "source": [
        "my_dic = {'AAPL': 'Apple', 'FB': 'FaceBook', 'GOOG': 'Alphabet'}"
      ],
      "metadata": {
        "id": "vwfjS6HCngFd"
      },
      "execution_count": null,
      "outputs": []
    },
    {
      "cell_type": "markdown",
      "source": [
        "After defining a dictionary, we can access any value by indicating its key in brackets."
      ],
      "metadata": {
        "id": "snmyrL7Yn2GH"
      }
    },
    {
      "cell_type": "code",
      "source": [
        "print(my_dic['GOOG'])\n"
      ],
      "metadata": {
        "colab": {
          "base_uri": "https://localhost:8080/"
        },
        "id": "SZrGmxqPn4O-",
        "outputId": "d2b4ba91-d225-4f30-ae87-d88b403a527c"
      },
      "execution_count": null,
      "outputs": [
        {
          "output_type": "stream",
          "name": "stdout",
          "text": [
            "Alphabet\n"
          ]
        }
      ]
    },
    {
      "cell_type": "markdown",
      "source": [
        "###My example 18"
      ],
      "metadata": {
        "id": "m8-odErhoDGG"
      }
    },
    {
      "cell_type": "code",
      "source": [
        "mis_datos={'nombre':'Hernan','apellido':'Perdomo','estatura':'1.84','edad':'20'}\n",
        "print(mis_datos['nombre'])"
      ],
      "metadata": {
        "colab": {
          "base_uri": "https://localhost:8080/"
        },
        "id": "3GoaSc4mo1wX",
        "outputId": "ef4d1569-64b3-4dd4-b88d-05a916015246"
      },
      "execution_count": null,
      "outputs": [
        {
          "output_type": "stream",
          "name": "stdout",
          "text": [
            "Hernan\n"
          ]
        }
      ]
    },
    {
      "cell_type": "markdown",
      "source": [
        "We can also change the value associated with a specified key:"
      ],
      "metadata": {
        "id": "LNzghuyGprhi"
      }
    },
    {
      "cell_type": "code",
      "source": [
        "my_dic['GOOG'] = 'Alphabet Company'\n",
        "print(my_dic['GOOG'])\n"
      ],
      "metadata": {
        "id": "cbRL5nltpsyG",
        "colab": {
          "base_uri": "https://localhost:8080/"
        },
        "outputId": "a0f486c2-c3cf-4aa6-c447-a80cdf56bd58"
      },
      "execution_count": null,
      "outputs": [
        {
          "output_type": "stream",
          "name": "stdout",
          "text": [
            "Alphabet Company\n"
          ]
        }
      ]
    },
    {
      "cell_type": "markdown",
      "source": [
        "\n",
        "\n",
        "```\n",
        "# Esto tiene formato de código\n",
        "```\n",
        "\n",
        "###My example 19"
      ],
      "metadata": {
        "id": "HyUnCd-tp1_D"
      }
    },
    {
      "cell_type": "code",
      "source": [
        "mis_datos['nombre'] = 'HERNAN FELIPE'\n",
        "print(mis_datos['nombre'])"
      ],
      "metadata": {
        "colab": {
          "base_uri": "https://localhost:8080/"
        },
        "id": "e9WuN2DSp6yn",
        "outputId": "9f5cd8ee-07f1-4857-d532-12bf817adb7f"
      },
      "execution_count": null,
      "outputs": [
        {
          "output_type": "stream",
          "name": "stdout",
          "text": [
            "HERNAN FELIPE\n"
          ]
        }
      ]
    },
    {
      "cell_type": "markdown",
      "source": [
        "The built-in method of the dictionary object dict.keys() returns a list of all the keys used in the dictionary."
      ],
      "metadata": {
        "id": "oZO1AvZrqVqe"
      }
    },
    {
      "cell_type": "code",
      "source": [
        "print(my_dic.keys())\n"
      ],
      "metadata": {
        "colab": {
          "base_uri": "https://localhost:8080/"
        },
        "id": "mvXTiM8UqYRv",
        "outputId": "b6958e6e-95ec-4636-e9e7-7fe0db5911de"
      },
      "execution_count": null,
      "outputs": [
        {
          "output_type": "stream",
          "name": "stdout",
          "text": [
            "dict_keys(['AAPL', 'FB', 'GOOG'])\n"
          ]
        }
      ]
    },
    {
      "cell_type": "markdown",
      "source": [
        "###My example 20"
      ],
      "metadata": {
        "id": "N_QG2IeXqfgR"
      }
    },
    {
      "cell_type": "code",
      "source": [
        "print(mis_datos.keys())"
      ],
      "metadata": {
        "colab": {
          "base_uri": "https://localhost:8080/"
        },
        "id": "Uvm-Au2Iqi_5",
        "outputId": "f19c2db4-39a4-4824-e864-e8136bdb1bec"
      },
      "execution_count": null,
      "outputs": [
        {
          "output_type": "stream",
          "name": "stdout",
          "text": [
            "dict_keys(['nombre', 'apellido', 'estatura', 'edad'])\n"
          ]
        }
      ]
    },
    {
      "cell_type": "markdown",
      "source": [
        "#**Common String Operations**\n",
        "A string is an immutable sequence of characters. It can be sliced by index just like a tuple"
      ],
      "metadata": {
        "id": "gTx1mle6qqtB"
      }
    },
    {
      "cell_type": "code",
      "source": [
        "my_str = 'Welcome to QuantConnect'\n",
        "print(my_str[8:])\n"
      ],
      "metadata": {
        "colab": {
          "base_uri": "https://localhost:8080/"
        },
        "id": "p-u0zOrWq8IJ",
        "outputId": "375da1b6-edca-4003-f265-184e93294529"
      },
      "execution_count": null,
      "outputs": [
        {
          "output_type": "stream",
          "name": "stdout",
          "text": [
            "to QuantConnect\n"
          ]
        }
      ]
    },
    {
      "cell_type": "markdown",
      "source": [
        "There are many methods associated with strings. We can use string.count() to count the occurrences of a character in a string, use string.find() to return the index of a specific character, and use string.replace() to replace characters."
      ],
      "metadata": {
        "id": "JVgZdyGMrBko"
      }
    },
    {
      "cell_type": "code",
      "source": [
        "print(\"Counting the number of e's in this sentence\".count('e'))\n",
        "\n",
        "print('The first time e appears in this sentence'.find('e'))\n",
        "\n",
        "print('all the a in this sentence now becomes e'.replace('a','e'))\n"
      ],
      "metadata": {
        "colab": {
          "base_uri": "https://localhost:8080/"
        },
        "id": "-8qaJOCBrGBQ",
        "outputId": "c06425d4-c3a5-4178-e27d-e78013284206"
      },
      "execution_count": null,
      "outputs": [
        {
          "output_type": "stream",
          "name": "stdout",
          "text": [
            "6\n",
            "2\n",
            "ell the e in this sentence now becomes e\n"
          ]
        }
      ]
    },
    {
      "cell_type": "markdown",
      "source": [
        "The most commonly used method for strings is string.split(). This method will split the string by the indicated character and return a list:"
      ],
      "metadata": {
        "id": "EOLTbReqrR71"
      }
    },
    {
      "cell_type": "code",
      "source": [
        "Time = '2016-04-01 09:43:00'\n",
        "splited_list = Time.split(' ')\n",
        "date = splited_list[0]\n",
        "time = splited_list[1]\n",
        "print(date, time)\n",
        "\n",
        "hour = time.split(':')[0]\n",
        "print(hour)\n"
      ],
      "metadata": {
        "colab": {
          "base_uri": "https://localhost:8080/"
        },
        "id": "bcItilqerW26",
        "outputId": "e9d50a3c-6cec-449d-ad7b-776dbb89f747"
      },
      "execution_count": null,
      "outputs": [
        {
          "output_type": "stream",
          "name": "stdout",
          "text": [
            "2016-04-01 09:43:00\n",
            "09\n"
          ]
        }
      ]
    },
    {
      "cell_type": "markdown",
      "source": [
        "We can replace parts of a string by our variable. This is called string formatting."
      ],
      "metadata": {
        "id": "KANoNFF0rhz6"
      }
    },
    {
      "cell_type": "code",
      "source": [
        "my_time = 'Hour: {}, Minute: {}'.format(9, 43)\n",
        "print(my_time)\n"
      ],
      "metadata": {
        "colab": {
          "base_uri": "https://localhost:8080/"
        },
        "id": "Ar5OGi8orjFh",
        "outputId": "20cc35f0-6c69-4983-e7cc-d91837cf7479"
      },
      "execution_count": null,
      "outputs": [
        {
          "output_type": "stream",
          "name": "stdout",
          "text": [
            "Hour: 9, Minute: 43\n"
          ]
        }
      ]
    },
    {
      "cell_type": "markdown",
      "source": [
        "Another way to format a string is to use the % symbol."
      ],
      "metadata": {
        "id": "P_o8jo5Vrnic"
      }
    },
    {
      "cell_type": "code",
      "source": [
        "print ('pi is %f' % 3.14)\n",
        "\n",
        "print('%s to %s' % ('Welcome', 'QuantConnect'))\n"
      ],
      "metadata": {
        "colab": {
          "base_uri": "https://localhost:8080/"
        },
        "id": "Q26aE1DbrruJ",
        "outputId": "a3186928-c3df-44f2-8468-088c5361bb6e"
      },
      "execution_count": null,
      "outputs": [
        {
          "output_type": "stream",
          "name": "stdout",
          "text": [
            "pi is 3.140000\n",
            "Welcome to QuantConnect\n"
          ]
        }
      ]
    },
    {
      "cell_type": "markdown",
      "source": [
        "\n",
        "\n",
        "#**Summary**\n",
        "\n",
        "We have seen the basic data types and data structures in Python. It's important to keep practicing to become familiar with these data structures. In the next tutorial, we will cover for and while loops and logical operations in Python."
      ],
      "metadata": {
        "id": "9F97UZbmr3JX"
      }
    },
    {
      "cell_type": "markdown",
      "source": [
        "#**Introduction to Financial Python**\n",
        "#Logical Operations and Loops"
      ],
      "metadata": {
        "id": "JdfZ24DgbA3L"
      }
    },
    {
      "cell_type": "markdown",
      "source": [
        "**Introduction**\n",
        "\n",
        "We discussed the basic data types and data structures in Python in the last tutorial. This chapter covers logical operations and loops in Python, which are very common in programming."
      ],
      "metadata": {
        "id": "hFbItI6rbJcc"
      }
    },
    {
      "cell_type": "markdown",
      "source": [
        "**Logical Operations**\n",
        "\n",
        "Like most programming languages, Python has comparison operators:"
      ],
      "metadata": {
        "id": "3uT8pp9HbRBa"
      }
    },
    {
      "cell_type": "code",
      "source": [
        "print (1 == 0)   # 1 equals 0\n",
        "print (1 == 1)    # 1 equals 1\n",
        "print (1 != 0)    # 1 is not equal to 0\n",
        "print (5 >= 5)    # 5 is greater than or equal to 5\n",
        "print (5 >= 6)   # 5 is greater than or equal to 6"
      ],
      "metadata": {
        "colab": {
          "base_uri": "https://localhost:8080/"
        },
        "id": "gUG0SU2Wbbp1",
        "outputId": "23db475f-b7e0-4ef6-f9b4-8b494f4a4d67"
      },
      "execution_count": null,
      "outputs": [
        {
          "output_type": "stream",
          "name": "stdout",
          "text": [
            "False\n",
            "True\n",
            "True\n",
            "True\n",
            "False\n"
          ]
        }
      ]
    },
    {
      "cell_type": "markdown",
      "source": [
        "###My example 21"
      ],
      "metadata": {
        "id": "-6HYcxlcb514"
      }
    },
    {
      "cell_type": "code",
      "source": [
        "print (9 == 5)    # 9 equals 5\n",
        "print (9 == 9)    # 9 equals 9\n",
        "print (9 != 5)    # 9 is not equal to 5\n",
        "print (9 >= 9)   # 9 is greater than or equal to 9\n",
        "print (9 >= 10)    # 9 is greater than or equal to 10"
      ],
      "metadata": {
        "colab": {
          "base_uri": "https://localhost:8080/"
        },
        "id": "TmLJPpYzb-In",
        "outputId": "2128f752-a2b9-4a4d-bc87-d7669c5c6a0e"
      },
      "execution_count": null,
      "outputs": [
        {
          "output_type": "stream",
          "name": "stdout",
          "text": [
            "False\n",
            "True\n",
            "True\n",
            "True\n",
            "False\n"
          ]
        }
      ]
    },
    {
      "cell_type": "markdown",
      "source": [
        "Each statement above has a boolean value, which must be either True or False, but not both.\n",
        "\n",
        "We can combine simple statements P and Q to form complex statements using logical operators:\n",
        "\n",
        "* The statement \"P and Q\" is true if both P and Q are true, otherwise it is false.\n",
        "\n",
        "* The statement \"P or Q\" is false if both P and Q are false, otherwise it is true.\n",
        "\n",
        "* The statement \"not P\" is true if P is false, and vice versa."
      ],
      "metadata": {
        "id": "R7U2L3kiciks"
      }
    },
    {
      "cell_type": "code",
      "source": [
        "print (2 > 1 and 3 > 2)\n",
        "print (2 > 1 and 3 < 2)\n",
        "print (2 > 1 or  3 < 2)\n",
        "print (2 < 1 and 3 < 2)"
      ],
      "metadata": {
        "colab": {
          "base_uri": "https://localhost:8080/"
        },
        "id": "TzLDT7bJdAaL",
        "outputId": "dc959b85-d3b5-4abb-e006-2dc38adb55df"
      },
      "execution_count": null,
      "outputs": [
        {
          "output_type": "stream",
          "name": "stdout",
          "text": [
            "True\n",
            "False\n",
            "True\n",
            "False\n"
          ]
        }
      ]
    },
    {
      "cell_type": "markdown",
      "source": [
        "###My example 22"
      ],
      "metadata": {
        "id": "RyL3IzMpdYl-"
      }
    },
    {
      "cell_type": "code",
      "source": [
        "print (9 > 8 and 13 > 9)\n",
        "print (9 > 8 and 13 < 9)\n",
        "print (9 > 8 or  13 < 9)\n",
        "print (9 < 8 and 13 < 9)"
      ],
      "metadata": {
        "colab": {
          "base_uri": "https://localhost:8080/"
        },
        "id": "yNVIMVWTdd3u",
        "outputId": "544f8eb4-5a82-41ab-fc21-6e2969c9bf7e"
      },
      "execution_count": null,
      "outputs": [
        {
          "output_type": "stream",
          "name": "stdout",
          "text": [
            "True\n",
            "False\n",
            "True\n",
            "False\n"
          ]
        }
      ]
    },
    {
      "cell_type": "markdown",
      "source": [
        "When dealing with a very complex logical statement that involves in several statements, we can use brackets to separate and combine them."
      ],
      "metadata": {
        "id": "HIRUuPWKd6Pz"
      }
    },
    {
      "cell_type": "code",
      "source": [
        "print ((3 > 2 or 1 < 3) and (1!=3 and 4>3) and not ( 3 < 2 or 1 < 3) and (1!=3 and 4>3))\n",
        "print (3 > 2 or 1 < 3 and (1!=3 and 4>3) and not ( 3 < 2 or 1 < 3 and (1!=3 and 4>3)))"
      ],
      "metadata": {
        "colab": {
          "base_uri": "https://localhost:8080/"
        },
        "id": "qKQcgSYeegiM",
        "outputId": "de008389-9f90-45e8-da37-81148b2150e0"
      },
      "execution_count": null,
      "outputs": [
        {
          "output_type": "stream",
          "name": "stdout",
          "text": [
            "False\n",
            "True\n"
          ]
        }
      ]
    },
    {
      "cell_type": "markdown",
      "source": [
        "###My example 23"
      ],
      "metadata": {
        "id": "9Vmn_kVVe63R"
      }
    },
    {
      "cell_type": "code",
      "source": [
        "print ((9 > 8 or 7 < 9) and (7!=9 and 10>9) and not ( 9 < 8 or 7 < 9) and (7!=9 and 10>9))\n",
        "print (9 > 8 or 7 < 9 and (7!=9 and 10>9) and not ( 9 < 8 or 7 < 9 and (7!=9 and 10>9)))"
      ],
      "metadata": {
        "colab": {
          "base_uri": "https://localhost:8080/"
        },
        "id": "g1wa7Ncue90M",
        "outputId": "ec2dc3b5-20b3-4a68-ed92-455e43882cbd"
      },
      "execution_count": null,
      "outputs": [
        {
          "output_type": "stream",
          "name": "stdout",
          "text": [
            "False\n",
            "True\n"
          ]
        }
      ]
    },
    {
      "cell_type": "markdown",
      "source": [
        "**If Statement**\n",
        "\n",
        "An if statement executes a segment of code only if its condition is true. A standard if statement consists of 3 segments: if, elif and else"
      ],
      "metadata": {
        "id": "_-xCoKl1fnn2"
      }
    },
    {
      "cell_type": "code",
      "source": [
        "# if condition1:\n",
        "    # if condition1 is true, execute the code here\n",
        "    # and ignore the rest of this if statement\n",
        "#elif condition2:\n",
        "    # if condition1 is false, and condition2 is true, execute the code here\n",
        "    # and ignore the rest of this if statement\n",
        "#else:\n",
        "    # if none of the above conditions is True, execute the code here"
      ],
      "metadata": {
        "id": "JbJuDsIofvg1"
      },
      "execution_count": null,
      "outputs": []
    },
    {
      "cell_type": "markdown",
      "source": [
        "An if statement doesn't necessarily has elif and else part. If it's not specified, the indented block of code will be executed when the condition is true, otherwise the whole if statement will be skipped."
      ],
      "metadata": {
        "id": "ObOIIt_Zf1Sf"
      }
    },
    {
      "cell_type": "code",
      "source": [
        "i=0\n",
        "if i==0:\n",
        "  print (i==0)\n"
      ],
      "metadata": {
        "colab": {
          "base_uri": "https://localhost:8080/"
        },
        "id": "9i4LUuqrf5Ff",
        "outputId": "533610df-3c89-4756-fea9-919ca711e483"
      },
      "execution_count": null,
      "outputs": [
        {
          "output_type": "stream",
          "name": "stdout",
          "text": [
            "True\n"
          ]
        }
      ]
    },
    {
      "cell_type": "markdown",
      "source": [
        "###My example 24"
      ],
      "metadata": {
        "id": "lgAV9XRCgjhB"
      }
    },
    {
      "cell_type": "code",
      "source": [
        "i=9\n",
        "if i==9:\n",
        "  print(i==9)"
      ],
      "metadata": {
        "colab": {
          "base_uri": "https://localhost:8080/"
        },
        "id": "iA6L3lbUgrT1",
        "outputId": "ebf291a8-2d08-4f42-f382-ae7a016b19e3"
      },
      "execution_count": null,
      "outputs": [
        {
          "output_type": "stream",
          "name": "stdout",
          "text": [
            "True\n"
          ]
        }
      ]
    },
    {
      "cell_type": "markdown",
      "source": [
        "As we mentioned above, we can write some complex statements here:"
      ],
      "metadata": {
        "id": "to2przeYg5sh"
      }
    },
    {
      "cell_type": "code",
      "source": [
        "p = 1 > 0\n",
        "q = 2 > 3\n",
        "if p and q:\n",
        "    print (\"p and q is True\")\n",
        "elif p and not q:\n",
        "    print (\"q is False\")\n",
        "elif q and not p:\n",
        "    print (\"p is False\")\n",
        "else:\n",
        "    print (\"None of p and q is True\")"
      ],
      "metadata": {
        "colab": {
          "base_uri": "https://localhost:8080/"
        },
        "id": "PVM1WDyhg6ve",
        "outputId": "d7c65eba-d76c-4405-d948-281b5978c65f"
      },
      "execution_count": null,
      "outputs": [
        {
          "output_type": "stream",
          "name": "stdout",
          "text": [
            "q is False\n"
          ]
        }
      ]
    },
    {
      "cell_type": "markdown",
      "source": [
        "###My example 25"
      ],
      "metadata": {
        "id": "flJlwNKViDRj"
      }
    },
    {
      "cell_type": "code",
      "source": [
        "p = 1 > 0\n",
        "q = 2 > 3\n",
        "if p and q:\n",
        "    print (\"p and q is True\")\n",
        "elif p and not q:\n",
        "    print (\"q is False\")\n",
        "elif q and not p:\n",
        "    print (\"p is False\")\n",
        "else:\n",
        "    print (\"None of p and q is True\")"
      ],
      "metadata": {
        "id": "xCNhtqGUiH1q",
        "colab": {
          "base_uri": "https://localhost:8080/"
        },
        "outputId": "92bdd1a5-7ba1-400d-db47-d06ff01ad8f4"
      },
      "execution_count": null,
      "outputs": [
        {
          "output_type": "stream",
          "name": "stdout",
          "text": [
            "q is False\n"
          ]
        }
      ]
    },
    {
      "cell_type": "markdown",
      "source": [
        "###**Loop Structure**\n",
        "\n",
        "Loops are an essential part of programming. The \"for\" and \"while\" loops run a block of code repeatedly."
      ],
      "metadata": {
        "id": "8GkD5PG5iRr2"
      }
    },
    {
      "cell_type": "markdown",
      "source": [
        "**While Loop**\n",
        "\n",
        "A \"while\" loop will run repeatedly until a certain condition has been met."
      ],
      "metadata": {
        "id": "_pQz-ODfieub"
      }
    },
    {
      "cell_type": "code",
      "source": [
        "i = 0\n",
        "while i < 5:\n",
        "    print (i)\n",
        "    i += 1"
      ],
      "metadata": {
        "colab": {
          "base_uri": "https://localhost:8080/"
        },
        "id": "wo3NwUgFilbA",
        "outputId": "b3c8bfdc-176a-4489-bc78-e60127c28ad3"
      },
      "execution_count": null,
      "outputs": [
        {
          "output_type": "stream",
          "name": "stdout",
          "text": [
            "0\n",
            "1\n",
            "2\n",
            "3\n",
            "4\n"
          ]
        }
      ]
    },
    {
      "cell_type": "markdown",
      "source": [
        "###My example 26"
      ],
      "metadata": {
        "id": "MVztP3kFiqlh"
      }
    },
    {
      "cell_type": "code",
      "source": [
        "i = 0\n",
        "while i < 100:\n",
        "    print (i)\n",
        "    i += 10"
      ],
      "metadata": {
        "colab": {
          "base_uri": "https://localhost:8080/"
        },
        "id": "RFaEHn0cix8X",
        "outputId": "4618747d-f51b-4440-fe07-1ac106941f5c"
      },
      "execution_count": null,
      "outputs": [
        {
          "output_type": "stream",
          "name": "stdout",
          "text": [
            "0\n",
            "10\n",
            "20\n",
            "30\n",
            "40\n",
            "50\n",
            "60\n",
            "70\n",
            "80\n",
            "90\n"
          ]
        }
      ]
    },
    {
      "cell_type": "markdown",
      "source": [
        "When making a while loop, we need to ensure that something changes from iteration to iteration so that the while loop will terminate, otherwise, it will run forever. Here we used i += 1 (short for i = i + 1) to make i larger after each iteration. This is the most commonly used method to control a while loop."
      ],
      "metadata": {
        "id": "RsZFoavWjJr3"
      }
    },
    {
      "cell_type": "markdown",
      "source": [
        "**For Loop**\n",
        "\n",
        "A \"for\" loop will iterate over a sequence of value and terminate when the sequence has ended."
      ],
      "metadata": {
        "id": "B7kLDTA9jXBh"
      }
    },
    {
      "cell_type": "code",
      "source": [
        "for x in [1,2,3,4,5]: \n",
        "  print (x)"
      ],
      "metadata": {
        "colab": {
          "base_uri": "https://localhost:8080/"
        },
        "id": "VK_PZyBsjc1r",
        "outputId": "08230c2a-ae1d-49bf-d34b-0eaabef472ac"
      },
      "execution_count": null,
      "outputs": [
        {
          "output_type": "stream",
          "name": "stdout",
          "text": [
            "1\n",
            "2\n",
            "3\n",
            "4\n",
            "5\n"
          ]
        }
      ]
    },
    {
      "cell_type": "markdown",
      "source": [
        "###My example 27"
      ],
      "metadata": {
        "id": "tr492EnXjjFx"
      }
    },
    {
      "cell_type": "code",
      "source": [
        "for x in [9,88,775,46,645]: \n",
        "  print (x)"
      ],
      "metadata": {
        "colab": {
          "base_uri": "https://localhost:8080/"
        },
        "id": "I3FsQ-PBjlZ3",
        "outputId": "789a9453-8fdf-40b9-8b53-c4ba50ea8179"
      },
      "execution_count": null,
      "outputs": [
        {
          "output_type": "stream",
          "name": "stdout",
          "text": [
            "9\n",
            "88\n",
            "775\n",
            "46\n",
            "645\n"
          ]
        }
      ]
    },
    {
      "cell_type": "markdown",
      "source": [
        "We can also add if statements in a for loop. Here is a real example from our pairs trading algorithm:"
      ],
      "metadata": {
        "id": "3eiV8n4sj2tK"
      }
    },
    {
      "cell_type": "code",
      "source": [
        "stocks = ['AAPL','GOOG','IBM','FB','F','V', 'G', 'GE']\n",
        "selected = ['AAPL','IBM']\n",
        "new_list = []\n",
        "for stock in stocks:\n",
        "    if stock not in selected:\n",
        "        new_list.append(stock)\n",
        "print (new_list)\n"
      ],
      "metadata": {
        "colab": {
          "base_uri": "https://localhost:8080/"
        },
        "id": "dgGbhrLVj8dr",
        "outputId": "6599815c-d075-4df0-f513-c7566f665b02"
      },
      "execution_count": null,
      "outputs": [
        {
          "output_type": "stream",
          "name": "stdout",
          "text": [
            "['GOOG', 'FB', 'F', 'V', 'G', 'GE']\n"
          ]
        }
      ]
    },
    {
      "cell_type": "markdown",
      "source": [
        "###My example 28"
      ],
      "metadata": {
        "id": "BLvsHmrZkXoo"
      }
    },
    {
      "cell_type": "code",
      "source": [
        "carreras_ingenieria = ['medicina','mecanica','civil','quimica','sistemas','farmaceutica']\n",
        "carreras_no_ingenieria = ['medicina','farmaceutica']\n",
        "carreras_ing_corregidas = []\n",
        "for ingenierias in carreras_ingenieria:\n",
        "    if ingenierias not in carreras_no_ingenieria:\n",
        "        carreras_ing_corregidas.append(ingenierias)\n",
        "print(carreras_ing_corregidas)"
      ],
      "metadata": {
        "colab": {
          "base_uri": "https://localhost:8080/"
        },
        "id": "KYah1JrWkexX",
        "outputId": "0e68937c-b2a8-487f-929e-d335194d124a"
      },
      "execution_count": null,
      "outputs": [
        {
          "output_type": "stream",
          "name": "stdout",
          "text": [
            "['mecanica', 'civil', 'quimica', 'sistemas']\n"
          ]
        }
      ]
    },
    {
      "cell_type": "markdown",
      "source": [
        "Here we iterated all the elements in the list 'stocks'. Later in this chapter, we will introduce a smarter way to do this, which is just a one-line code."
      ],
      "metadata": {
        "id": "E-tUdvMxnH1Z"
      }
    },
    {
      "cell_type": "markdown",
      "source": [
        "**Break and continue**\n",
        "\n",
        "These are two commonly used commands in a for loop. If \"break\" is triggered while a loop is executing, the loop will terminate immediately:\n",
        "\n",
        "###My example 29"
      ],
      "metadata": {
        "id": "kk0diTexnLdG"
      }
    },
    {
      "cell_type": "code",
      "source": [
        "ingenierias = [\"mecanica\",\"civil\",\"sistemas\",\"quimica\",\"industrial\"]\n",
        "for carrera in ingenierias:\n",
        "    print(carrera)\n",
        "    if carrera == 'sistemas': break"
      ],
      "metadata": {
        "colab": {
          "base_uri": "https://localhost:8080/"
        },
        "id": "JfM3uhmSnR0f",
        "outputId": "0adfacc6-7a7f-4695-de5e-d15bd4d2244c"
      },
      "execution_count": null,
      "outputs": [
        {
          "output_type": "stream",
          "name": "stdout",
          "text": [
            "mecanica\n",
            "civil\n",
            "sistemas\n"
          ]
        }
      ]
    },
    {
      "cell_type": "markdown",
      "source": [
        "The \"continue\" command tells the loop to end this iteration and skip to the next iteration:"
      ],
      "metadata": {
        "id": "2OHsKODUod8F"
      }
    },
    {
      "cell_type": "code",
      "source": [
        "stocks = ['AAPL','GOOG','IBM','FB','F','V', 'G', 'GE']\n",
        "for stock in stocks:\n",
        "    if stock == 'FB': continue\n",
        "    print (stock)"
      ],
      "metadata": {
        "colab": {
          "base_uri": "https://localhost:8080/"
        },
        "id": "qDGbh4tIopdu",
        "outputId": "9f9f5008-09bc-4191-ad64-ba6dea9a5b37"
      },
      "execution_count": null,
      "outputs": [
        {
          "output_type": "stream",
          "name": "stdout",
          "text": [
            "AAPL\n",
            "GOOG\n",
            "IBM\n",
            "F\n",
            "V\n",
            "G\n",
            "GE\n"
          ]
        }
      ]
    },
    {
      "cell_type": "markdown",
      "source": [
        "###My example 30"
      ],
      "metadata": {
        "id": "OvRifi0ao6v0"
      }
    },
    {
      "cell_type": "code",
      "source": [
        "vocales = [\"a\",\"e\",\"i\",\"o\",\"u\"]\n",
        "for vocal in vocales:\n",
        "    if vocal == 'e': continue\n",
        "    print (vocal)"
      ],
      "metadata": {
        "colab": {
          "base_uri": "https://localhost:8080/"
        },
        "id": "OQMPJbdSpA31",
        "outputId": "bf7f6aca-b1b6-4544-b93b-2786b431d050"
      },
      "execution_count": null,
      "outputs": [
        {
          "output_type": "stream",
          "name": "stdout",
          "text": [
            "a\n",
            "i\n",
            "o\n",
            "u\n"
          ]
        }
      ]
    },
    {
      "cell_type": "markdown",
      "source": [
        "###**List Comprehension**\n",
        "\n",
        "List comprehension is a Pythonic way to create lists. Common applications are to make new lists where each element is the result of some operations applied to each member of another sequence. For example, if we want to create a list of squares using for loop:"
      ],
      "metadata": {
        "id": "v6lC0jdKpcKk"
      }
    },
    {
      "cell_type": "code",
      "source": [
        "squares = []\n",
        "for i in [1,2,3,4,5]:\n",
        "    squares.append(i**2)\n",
        "print (squares)\n"
      ],
      "metadata": {
        "colab": {
          "base_uri": "https://localhost:8080/"
        },
        "id": "UN115Vj5vYzg",
        "outputId": "9c760834-4ae1-4f04-d426-a8a20203bec5"
      },
      "execution_count": null,
      "outputs": [
        {
          "output_type": "stream",
          "name": "stdout",
          "text": [
            "[1, 4, 9, 16, 25]\n"
          ]
        }
      ]
    },
    {
      "cell_type": "markdown",
      "source": [
        "###My example 31"
      ],
      "metadata": {
        "id": "TU2mO-aWvlAs"
      }
    },
    {
      "cell_type": "code",
      "source": [
        "  n_cubo = []\n",
        "for i in [1,2,3,4,5]:\n",
        "    n_cubo.append(i**3)\n",
        "print (n_cubo)\n"
      ],
      "metadata": {
        "colab": {
          "base_uri": "https://localhost:8080/"
        },
        "id": "xms7UePsvp_4",
        "outputId": "3c611506-058c-448f-e9d5-9f983b36f42a"
      },
      "execution_count": null,
      "outputs": [
        {
          "output_type": "stream",
          "name": "stdout",
          "text": [
            "[1, 8, 27, 64, 125]\n"
          ]
        }
      ]
    },
    {
      "cell_type": "markdown",
      "source": [
        "Using list comprehension:"
      ],
      "metadata": {
        "id": "_ijDDpIgwDOH"
      }
    },
    {
      "cell_type": "code",
      "source": [
        "foo = [1,2,3,4,5]\n",
        "squares = [x**2 for x in foo]\n",
        "print (squares)"
      ],
      "metadata": {
        "colab": {
          "base_uri": "https://localhost:8080/"
        },
        "id": "SqasT6yvwFvP",
        "outputId": "8ea4b304-4504-481a-da80-20b72394b280"
      },
      "execution_count": null,
      "outputs": [
        {
          "output_type": "stream",
          "name": "stdout",
          "text": [
            "[1, 4, 9, 16, 25]\n"
          ]
        }
      ]
    },
    {
      "cell_type": "markdown",
      "source": [
        "###My example 32"
      ],
      "metadata": {
        "id": "Sqg1vUcqwQQ1"
      }
    },
    {
      "cell_type": "code",
      "source": [
        "valores = [1,2,3,4,5]\n",
        "cubos = [x**3 for x in valores]\n",
        "print (cubos)"
      ],
      "metadata": {
        "colab": {
          "base_uri": "https://localhost:8080/"
        },
        "id": "bU17bKA6wVPx",
        "outputId": "9f413f06-edce-4219-8a73-f6048fb9bb8a"
      },
      "execution_count": null,
      "outputs": [
        {
          "output_type": "stream",
          "name": "stdout",
          "text": [
            "[1, 8, 27, 64, 125]\n"
          ]
        }
      ]
    },
    {
      "cell_type": "markdown",
      "source": [
        "Recall the example above where we used a for loop to select stocks. Here we use list comprehension:"
      ],
      "metadata": {
        "id": "gKcTf0vEwllF"
      }
    },
    {
      "cell_type": "code",
      "source": [
        "stocks = ['AAPL','GOOG','IBM','FB','F','V', 'G', 'GE']\n",
        "selected = ['AAPL','IBM']\n",
        "new_list = [x for x in stocks if x not in selected]\n",
        "print (new_list)"
      ],
      "metadata": {
        "colab": {
          "base_uri": "https://localhost:8080/"
        },
        "id": "nqEOllGUwoFf",
        "outputId": "dfd008b1-679d-4e08-8451-9ee621bb08b8"
      },
      "execution_count": null,
      "outputs": [
        {
          "output_type": "stream",
          "name": "stdout",
          "text": [
            "['GOOG', 'FB', 'F', 'V', 'G', 'GE']\n"
          ]
        }
      ]
    },
    {
      "cell_type": "markdown",
      "source": [
        "###My example 33"
      ],
      "metadata": {
        "id": "diPF1o5HwwYJ"
      }
    },
    {
      "cell_type": "code",
      "source": [
        "vocales = [\"a\",\"e\",\"s\",\"i\",\"t\",\"o\",\"u\"]\n",
        "correccion = [\"s\",\"t\"]\n",
        "vocales_final = [x for x in vocales if x not in correccion]\n",
        "print (vocales_final)"
      ],
      "metadata": {
        "colab": {
          "base_uri": "https://localhost:8080/"
        },
        "id": "SwQNEbcxw32B",
        "outputId": "660d487d-93cc-4dbf-811b-674f8901498d"
      },
      "execution_count": null,
      "outputs": [
        {
          "output_type": "stream",
          "name": "stdout",
          "text": [
            "['a', 'e', 'i', 'o', 'u']\n"
          ]
        }
      ]
    },
    {
      "cell_type": "markdown",
      "source": [
        "A list comprehension consists of square brackets containing an expression followed by a \"for\" clause, and possibly \"for\" or \"if\" clauses. For example:"
      ],
      "metadata": {
        "id": "nfMJ4jE6xoVj"
      }
    },
    {
      "cell_type": "code",
      "source": [
        "print ([(x, y) for x in [1,2,3] for y in [3,1,4] if x != y])\n",
        "print ([str(x) + \"vs\" + str(y) for x in ['AAPL','GOOG','IBM','FB']\n",
        "                                for y in ['F','V','G','GE'] if x != y])"
      ],
      "metadata": {
        "colab": {
          "base_uri": "https://localhost:8080/"
        },
        "id": "WzHlMoxfx2Ta",
        "outputId": "201398c3-e78a-495b-da16-e7ac7b1fddd2"
      },
      "execution_count": null,
      "outputs": [
        {
          "output_type": "stream",
          "name": "stdout",
          "text": [
            "[(1, 3), (1, 4), (2, 3), (2, 1), (2, 4), (3, 1), (3, 4)]\n",
            "['AAPLvsF', 'AAPLvsV', 'AAPLvsG', 'AAPLvsGE', 'GOOGvsF', 'GOOGvsV', 'GOOGvsG', 'GOOGvsGE', 'IBMvsF', 'IBMvsV', 'IBMvsG', 'IBMvsGE', 'FBvsF', 'FBvsV', 'FBvsG', 'FBvsGE']\n"
          ]
        }
      ]
    },
    {
      "cell_type": "markdown",
      "source": [
        "###My example 34"
      ],
      "metadata": {
        "id": "frq9u3eo2Hyq"
      }
    },
    {
      "cell_type": "code",
      "source": [
        "print ([(x, y) for x in [9,8,7] for y in [6,7,5] if x != y])\n",
        "print ([str(x) + \"vs\" + str(y) for x in [\"charlie\",\"daniel\",\"hernan\",\"oscar\"]\n",
        "                                for y in [\"vanesa\",\"enfermera\",\"amigac\",\"paula\"] if x != y])"
      ],
      "metadata": {
        "id": "E0-x6K_k2Oye",
        "colab": {
          "base_uri": "https://localhost:8080/"
        },
        "outputId": "10ed34ae-8862-4bb5-9ec6-62753f515881"
      },
      "execution_count": null,
      "outputs": [
        {
          "output_type": "stream",
          "name": "stdout",
          "text": [
            "[(9, 6), (9, 7), (9, 5), (8, 6), (8, 7), (8, 5), (7, 6), (7, 5)]\n",
            "['charlievsvanesa', 'charlievsenfermera', 'charlievsamigac', 'charlievspaula', 'danielvsvanesa', 'danielvsenfermera', 'danielvsamigac', 'danielvspaula', 'hernanvsvanesa', 'hernanvsenfermera', 'hernanvsamigac', 'hernanvspaula', 'oscarvsvanesa', 'oscarvsenfermera', 'oscarvsamigac', 'oscarvspaula']\n"
          ]
        }
      ]
    },
    {
      "cell_type": "markdown",
      "source": [
        "List comprehension is an elegant way to organize one or more for loops when creating a list.\n",
        "\n",
        "**Summary**\n",
        "\n",
        "This chapter has introduced logical operations, loops, and list comprehension. In the next chapter, we will introduce functions and object-oriented programming, which will enable us to make our codes clean and versatile."
      ],
      "metadata": {
        "id": "-u8Gzj3u3JKg"
      }
    },
    {
      "cell_type": "markdown",
      "source": [
        "\n",
        "#**Introduction to Financial Python**\n",
        "\n",
        "#Functions and Objective-Oriented Programming"
      ],
      "metadata": {
        "id": "s6lhURTB3gUJ"
      }
    },
    {
      "cell_type": "markdown",
      "source": [
        "**Introduction**\n",
        "\n",
        "In the last tutorial we introduced logical operations, loops and list comprehension. We will introduce functions and object-oriented programming in this chapter, which will enable us to build complex algorithms in more flexible ways."
      ],
      "metadata": {
        "id": "P5nfZfbM3qo3"
      }
    },
    {
      "cell_type": "markdown",
      "source": [
        "**Functions**\n",
        "\n",
        "A function is a reusable block of code. We can use a function to output a value, or do anything else we want. We can easily define our own function by using the keyword \"def\""
      ],
      "metadata": {
        "id": "ply3xENn3vL0"
      }
    },
    {
      "cell_type": "code",
      "source": [
        "def product(x,y):\n",
        "    return x*y\n",
        "print (product(2,3))\n",
        "\n",
        "print (product(5,10))\n"
      ],
      "metadata": {
        "colab": {
          "base_uri": "https://localhost:8080/"
        },
        "id": "pZzIIDWl3_-n",
        "outputId": "babbb10c-6d67-4e45-d80e-4e54ce408c20"
      },
      "execution_count": null,
      "outputs": [
        {
          "output_type": "stream",
          "name": "stdout",
          "text": [
            "6\n",
            "50\n"
          ]
        }
      ]
    },
    {
      "cell_type": "markdown",
      "source": [
        "###My example 35"
      ],
      "metadata": {
        "id": "ddOs6u7E4KlC"
      }
    },
    {
      "cell_type": "code",
      "source": [
        "def product(x,y):\n",
        "    return x*y\n",
        "print (product(9,6))\n",
        "\n",
        "print (product(555,339))"
      ],
      "metadata": {
        "colab": {
          "base_uri": "https://localhost:8080/"
        },
        "id": "6n3FV26p4RsC",
        "outputId": "4095bf89-a393-4caa-ec24-b917b2f3aefc"
      },
      "execution_count": null,
      "outputs": [
        {
          "output_type": "stream",
          "name": "stdout",
          "text": [
            "54\n",
            "188145\n"
          ]
        }
      ]
    },
    {
      "cell_type": "markdown",
      "source": [
        "The keyword \"def\" is followed by the function name and the parenthesized list of formal parameters. The statements that form the body of the function start at the next line, and must be indented. The product() function above has \"x\" and \"y\" as its parameters. A function doesn't necessarily have parameters:"
      ],
      "metadata": {
        "id": "UxfHTOxM4cZI"
      }
    },
    {
      "cell_type": "code",
      "source": [
        "def say_hi():\n",
        "    print(\"Welcome to QuantConnect\")\n",
        "say_hi()"
      ],
      "metadata": {
        "colab": {
          "base_uri": "https://localhost:8080/"
        },
        "id": "KdxN_ZYn4f2B",
        "outputId": "744f758a-b6a7-4061-cd9b-06a9eb2144a6"
      },
      "execution_count": null,
      "outputs": [
        {
          "output_type": "stream",
          "name": "stdout",
          "text": [
            "Welcome to QuantConnect\n"
          ]
        }
      ]
    },
    {
      "cell_type": "markdown",
      "source": [
        "###My example 36"
      ],
      "metadata": {
        "id": "2Kq78YpT4pTY"
      }
    },
    {
      "cell_type": "code",
      "source": [
        "def decir_adios():\n",
        "    print (\"bye muchachos\")\n",
        "decir_adios()"
      ],
      "metadata": {
        "colab": {
          "base_uri": "https://localhost:8080/"
        },
        "id": "aRIok9vW4yDl",
        "outputId": "e57b32fc-960b-43fc-dcf6-b8f929ff14f6"
      },
      "execution_count": null,
      "outputs": [
        {
          "output_type": "stream",
          "name": "stdout",
          "text": [
            "bye muchachos\n"
          ]
        }
      ]
    },
    {
      "cell_type": "markdown",
      "source": [
        "###**Built-in Function**\n",
        "\n",
        "**range()** is a function that creates a list containing an arithmetic sequence. It's often used in for loops. The arguments must be integers. If the \"step\" argument is omitted, it defaults to 1."
      ],
      "metadata": {
        "id": "yxNBquT249Fz"
      }
    },
    {
      "cell_type": "code",
      "source": [
        "print(list(range(10)))\n",
        "print(list(range(1,11)))\n",
        "print(list(range(1,11,2)))"
      ],
      "metadata": {
        "colab": {
          "base_uri": "https://localhost:8080/"
        },
        "id": "-NxAE2YR5UTo",
        "outputId": "5bd0dd57-c7cf-47cf-8896-2f6f332d9e04"
      },
      "execution_count": null,
      "outputs": [
        {
          "output_type": "stream",
          "name": "stdout",
          "text": [
            "[0, 1, 2, 3, 4, 5, 6, 7, 8, 9]\n",
            "[1, 2, 3, 4, 5, 6, 7, 8, 9, 10]\n",
            "[1, 3, 5, 7, 9]\n"
          ]
        }
      ]
    },
    {
      "cell_type": "markdown",
      "source": [
        "###My example 37"
      ],
      "metadata": {
        "id": "Zh7oH8SW-gYe"
      }
    },
    {
      "cell_type": "code",
      "source": [
        "print(list(range(9)))\n",
        "print(list(range(3,19)))\n",
        "print(list(range(5,20,3)))"
      ],
      "metadata": {
        "colab": {
          "base_uri": "https://localhost:8080/"
        },
        "id": "UgftSR7v-WYh",
        "outputId": "ff0c0ebf-31c8-4486-9b64-07a5a1e003fa"
      },
      "execution_count": null,
      "outputs": [
        {
          "output_type": "stream",
          "name": "stdout",
          "text": [
            "[0, 1, 2, 3, 4, 5, 6, 7, 8]\n",
            "[3, 4, 5, 6, 7, 8, 9, 10, 11, 12, 13, 14, 15, 16, 17, 18]\n",
            "[5, 8, 11, 14, 17]\n"
          ]
        }
      ]
    },
    {
      "cell_type": "markdown",
      "source": [
        "###My example 38"
      ],
      "metadata": {
        "id": "7gHm-c9u73Jl"
      }
    },
    {
      "cell_type": "code",
      "source": [
        "for i in range(7):\n",
        "  print(i)\n",
        "print (\"fin\")\n",
        "for i in range(2,7):\n",
        "  print(i)\n",
        "print(\"FIN\")\n",
        "for i in range (2,11,2):\n",
        "  print (i)"
      ],
      "metadata": {
        "colab": {
          "base_uri": "https://localhost:8080/"
        },
        "id": "Ye7xuQ_r7_Jq",
        "outputId": "de63fa10-5026-4322-e609-ae487416760a"
      },
      "execution_count": null,
      "outputs": [
        {
          "output_type": "stream",
          "name": "stdout",
          "text": [
            "0\n",
            "1\n",
            "2\n",
            "3\n",
            "4\n",
            "5\n",
            "6\n",
            "fin\n",
            "2\n",
            "3\n",
            "4\n",
            "5\n",
            "6\n",
            "FIN\n",
            "2\n",
            "4\n",
            "6\n",
            "8\n",
            "10\n"
          ]
        }
      ]
    },
    {
      "cell_type": "markdown",
      "source": [
        "**len()** is another function used together with range() to create a for loop. This function returns the length of an object. The argument must be a sequence or a collection."
      ],
      "metadata": {
        "id": "Mz1UnWyb8nVB"
      }
    },
    {
      "cell_type": "code",
      "source": [
        "tickers = ['AAPL', 'GOOGL', 'IBM', 'FB', 'F', 'V', 'G', 'GE']\n",
        "print (\"The number of tickers is {}\".format(len(tickers)))\n",
        "for k in range(len(tickers)):\n",
        "    print (k + 1, tickers[k])"
      ],
      "metadata": {
        "colab": {
          "base_uri": "https://localhost:8080/"
        },
        "id": "1TOwJRqq8tP5",
        "outputId": "c40da82d-df0d-416e-945a-422ab08d6cf9"
      },
      "execution_count": null,
      "outputs": [
        {
          "output_type": "stream",
          "name": "stdout",
          "text": [
            "The number of tickers is 8\n",
            "1 AAPL\n",
            "2 GOOGL\n",
            "3 IBM\n",
            "4 FB\n",
            "5 F\n",
            "6 V\n",
            "7 G\n",
            "8 GE\n"
          ]
        }
      ]
    },
    {
      "cell_type": "markdown",
      "source": [
        "###My example 39"
      ],
      "metadata": {
        "id": "Sovl5UWe82Vb"
      }
    },
    {
      "cell_type": "code",
      "source": [
        "vocales = [\"a\",\"e\",\"i\",\"o\",\"u\"]\n",
        "print (\"el orden de las vocalies  es {}\".format(len(vocales)))\n",
        "for k in range(len(vocales)):\n",
        "    print (k + 1, vocales[k])"
      ],
      "metadata": {
        "colab": {
          "base_uri": "https://localhost:8080/"
        },
        "id": "ldvuewyS898I",
        "outputId": "a16d4235-f755-43fa-f308-c91ede2bb51e"
      },
      "execution_count": null,
      "outputs": [
        {
          "output_type": "stream",
          "name": "stdout",
          "text": [
            "el orden de las vocalies  es 5\n",
            "1 a\n",
            "2 e\n",
            "3 i\n",
            "4 o\n",
            "5 u\n"
          ]
        }
      ]
    },
    {
      "cell_type": "markdown",
      "source": [
        "*Note: If you want to print only the tickers without those numbers, then simply write \"for ticker in tickers: print ticker\"*\n",
        "\n",
        "**map()** is a function that applies a specific function to every item of a sequence or collection, and returns a list of the results.\n"
      ],
      "metadata": {
        "id": "Gdve3BvZ9wKo"
      }
    },
    {
      "cell_type": "code",
      "source": [
        "tickers = ['AAPL','GOOG','IBM','FB','F','V', 'G', 'GE']\n",
        "print(list(map(len,tickers)))\n"
      ],
      "metadata": {
        "colab": {
          "base_uri": "https://localhost:8080/"
        },
        "id": "Pcw4PzEV9_eN",
        "outputId": "0c383d29-f30e-4b0a-8661-e24ba8fd2b12"
      },
      "execution_count": null,
      "outputs": [
        {
          "output_type": "stream",
          "name": "stdout",
          "text": [
            "[4, 4, 3, 2, 1, 1, 1, 2]\n"
          ]
        }
      ]
    },
    {
      "cell_type": "markdown",
      "source": [
        "###My example 40"
      ],
      "metadata": {
        "id": "7fBd1WD_-qcx"
      }
    },
    {
      "cell_type": "code",
      "source": [
        "mi_nombre = [\"hernan\",\"felipe\",\"perdomo\",\"morales\"]\n",
        "print(list(map(len,mi_nombre)))"
      ],
      "metadata": {
        "colab": {
          "base_uri": "https://localhost:8080/"
        },
        "id": "C7IbjbEv-uIW",
        "outputId": "48f29180-c418-4b7c-b8f5-9163cd218f8f"
      },
      "execution_count": null,
      "outputs": [
        {
          "output_type": "stream",
          "name": "stdout",
          "text": [
            "[6, 6, 7, 7]\n"
          ]
        }
      ]
    },
    {
      "cell_type": "markdown",
      "source": [
        "The **lambda operator** is a way to create small anonymous functions. These functions are just needed where they have been created. For example:"
      ],
      "metadata": {
        "id": "6jFjw9Gt_PSJ"
      }
    },
    {
      "cell_type": "code",
      "source": [
        "print(list(map(lambda x:x**2,range(10))))"
      ],
      "metadata": {
        "colab": {
          "base_uri": "https://localhost:8080/"
        },
        "id": "x6DZvWvg_UdP",
        "outputId": "60689ecd-0b95-4f3e-f889-440c887af3ce"
      },
      "execution_count": null,
      "outputs": [
        {
          "output_type": "stream",
          "name": "stdout",
          "text": [
            "[0, 1, 4, 9, 16, 25, 36, 49, 64, 81]\n"
          ]
        }
      ]
    },
    {
      "cell_type": "markdown",
      "source": [
        "###My example 41"
      ],
      "metadata": {
        "id": "jDrYMzjJA13G"
      }
    },
    {
      "cell_type": "code",
      "source": [
        "print(list(map(lambda x:x**3,range(20))))"
      ],
      "metadata": {
        "colab": {
          "base_uri": "https://localhost:8080/"
        },
        "id": "MFVofR3KA6Bd",
        "outputId": "1a0134d2-16b8-43a7-9a87-be1ab31a262c"
      },
      "execution_count": null,
      "outputs": [
        {
          "output_type": "stream",
          "name": "stdout",
          "text": [
            "[0, 1, 8, 27, 64, 125, 216, 343, 512, 729, 1000, 1331, 1728, 2197, 2744, 3375, 4096, 4913, 5832, 6859]\n"
          ]
        }
      ]
    },
    {
      "cell_type": "markdown",
      "source": [
        "map() can be applied to more than one list. The lists have to have the same length.\n",
        "\n"
      ],
      "metadata": {
        "id": "nk5L2eH2BE8F"
      }
    },
    {
      "cell_type": "code",
      "source": [
        "print(list(map(lambda x, y: x+y, [1,2,3,4,5], [5,4,3,2,1])))"
      ],
      "metadata": {
        "colab": {
          "base_uri": "https://localhost:8080/"
        },
        "id": "N4Vltv7TBGF1",
        "outputId": "d309bc1c-2243-4476-95a8-98caa1c04aa2"
      },
      "execution_count": null,
      "outputs": [
        {
          "output_type": "stream",
          "name": "stdout",
          "text": [
            "[6, 6, 6, 6, 6]\n"
          ]
        }
      ]
    },
    {
      "cell_type": "markdown",
      "source": [
        "###My example 42"
      ],
      "metadata": {
        "id": "W0UtoMElBRHV"
      }
    },
    {
      "cell_type": "code",
      "source": [
        "print(list(map(lambda x, y: x+y, [1,2,3,4,5], [6,5,4,3,2])))"
      ],
      "metadata": {
        "colab": {
          "base_uri": "https://localhost:8080/"
        },
        "id": "TesV12mLBVh3",
        "outputId": "5fae11b4-c954-415a-d2c7-a06da0c1b98d"
      },
      "execution_count": null,
      "outputs": [
        {
          "output_type": "stream",
          "name": "stdout",
          "text": [
            "[7, 7, 7, 7, 7]\n"
          ]
        }
      ]
    },
    {
      "cell_type": "markdown",
      "source": [
        "\n",
        "**sorted()** takes a list or set and returns a new sorted list:\n"
      ],
      "metadata": {
        "id": "fG24qgVaBep4"
      }
    },
    {
      "cell_type": "code",
      "source": [
        "sorted([5,2,3,4,1])"
      ],
      "metadata": {
        "colab": {
          "base_uri": "https://localhost:8080/"
        },
        "id": "HHcq80DJBkv7",
        "outputId": "3c6e061c-3859-4816-91c2-23868476eafe"
      },
      "execution_count": null,
      "outputs": [
        {
          "output_type": "execute_result",
          "data": {
            "text/plain": [
              "[1, 2, 3, 4, 5]"
            ]
          },
          "metadata": {},
          "execution_count": 655
        }
      ]
    },
    {
      "cell_type": "markdown",
      "source": [
        "###My example 43"
      ],
      "metadata": {
        "id": "s_PJF8HiBq0u"
      }
    },
    {
      "cell_type": "code",
      "source": [
        "sorted([3,51,5,6,52,1,123])"
      ],
      "metadata": {
        "colab": {
          "base_uri": "https://localhost:8080/"
        },
        "id": "KPY8_VceBvlZ",
        "outputId": "ae660b3b-c525-4863-ee43-eda4b8c9e99d"
      },
      "execution_count": null,
      "outputs": [
        {
          "output_type": "execute_result",
          "data": {
            "text/plain": [
              "[1, 3, 5, 6, 51, 52, 123]"
            ]
          },
          "metadata": {},
          "execution_count": 656
        }
      ]
    },
    {
      "cell_type": "markdown",
      "source": [
        "We can add a \"key\" parameter to specify a function to be called on each list element prior to making comparisons. For example:"
      ],
      "metadata": {
        "id": "XXfujp7qB27x"
      }
    },
    {
      "cell_type": "code",
      "source": [
        "price_list = [('AAPL', 144.09), ('GOOGL', 911.71), ('MSFT', 69), ('FB', 150), ('WMT', 75.32)]\n",
        "sorted(price_list, key = lambda x: x[1])"
      ],
      "metadata": {
        "colab": {
          "base_uri": "https://localhost:8080/"
        },
        "id": "4LyLeYhHB8um",
        "outputId": "d48f944f-cc20-48b0-9599-0cde4ea2b9cb"
      },
      "execution_count": null,
      "outputs": [
        {
          "output_type": "execute_result",
          "data": {
            "text/plain": [
              "[('MSFT', 69),\n",
              " ('WMT', 75.32),\n",
              " ('AAPL', 144.09),\n",
              " ('FB', 150),\n",
              " ('GOOGL', 911.71)]"
            ]
          },
          "metadata": {},
          "execution_count": 657
        }
      ]
    },
    {
      "cell_type": "markdown",
      "source": [
        "###My example 44"
      ],
      "metadata": {
        "id": "Z90HajKvCMPf"
      }
    },
    {
      "cell_type": "code",
      "source": [
        "altura_lista = [('hernan', 1.84), ('felipe', 1.80), ('sebatian',1.69 ),('jorge', 1.50), ('daniel',1.70 )]\n",
        "sorted(altura_lista, key = lambda x: x[1])"
      ],
      "metadata": {
        "colab": {
          "base_uri": "https://localhost:8080/"
        },
        "id": "Xb4dgfzXCbSq",
        "outputId": "0cdbbe85-8b5f-44b8-d6d0-2a046a36c3b2"
      },
      "execution_count": null,
      "outputs": [
        {
          "output_type": "execute_result",
          "data": {
            "text/plain": [
              "[('jorge', 1.5),\n",
              " ('sebatian', 1.69),\n",
              " ('daniel', 1.7),\n",
              " ('felipe', 1.8),\n",
              " ('hernan', 1.84)]"
            ]
          },
          "metadata": {},
          "execution_count": 658
        }
      ]
    },
    {
      "cell_type": "markdown",
      "source": [
        "By default the values are sorted by ascending order. We can change it to descending by adding an optional parameter \"reverse'."
      ],
      "metadata": {
        "id": "iYj-aG8BWj9J"
      }
    },
    {
      "cell_type": "code",
      "source": [
        "price_list = [('AAPL', 144.09), ('GOOGL', 911.71), ('MSFT', 69), ('FB', 150), ('WMT', 75.32)]\n",
        "sorted(price_list, key = lambda x: x[1], reverse = True)\n"
      ],
      "metadata": {
        "colab": {
          "base_uri": "https://localhost:8080/"
        },
        "id": "3ESq3tnnWkr-",
        "outputId": "c8c1caed-2fae-4eea-ae83-5015146702c1"
      },
      "execution_count": null,
      "outputs": [
        {
          "output_type": "execute_result",
          "data": {
            "text/plain": [
              "[('GOOGL', 911.71),\n",
              " ('FB', 150),\n",
              " ('AAPL', 144.09),\n",
              " ('WMT', 75.32),\n",
              " ('MSFT', 69)]"
            ]
          },
          "metadata": {},
          "execution_count": 659
        }
      ]
    },
    {
      "cell_type": "markdown",
      "source": [
        "###My example 45"
      ],
      "metadata": {
        "id": "5rCvidmpW4Rc"
      }
    },
    {
      "cell_type": "code",
      "source": [
        "altura_lista = [('hernan', 1.84), ('felipe', 1.80), ('sebatian',1.69 ),('jorge', 1.50), ('daniel',1.70 )]\n",
        "sorted(altura_lista, key = lambda x: x[1],reverse=True)"
      ],
      "metadata": {
        "colab": {
          "base_uri": "https://localhost:8080/"
        },
        "id": "zL42EfdOW_TQ",
        "outputId": "69aa832d-4f68-4b01-e153-4a6ffd6808c1"
      },
      "execution_count": null,
      "outputs": [
        {
          "output_type": "execute_result",
          "data": {
            "text/plain": [
              "[('hernan', 1.84),\n",
              " ('felipe', 1.8),\n",
              " ('daniel', 1.7),\n",
              " ('sebatian', 1.69),\n",
              " ('jorge', 1.5)]"
            ]
          },
          "metadata": {},
          "execution_count": 660
        }
      ]
    },
    {
      "cell_type": "markdown",
      "source": [
        "Lists also have a function list.sort(). This function takes the same \"key\" and \"reverse\" arguments as sorted(), but it doesn't return a new list."
      ],
      "metadata": {
        "id": "YFT1WvwPXJo5"
      }
    },
    {
      "cell_type": "code",
      "source": [
        "price_list = [('AAPL', 144.09), ('GOOGL', 911.71), ('MSFT', 69), ('FB', 150), ('WMT', 75.32)]\n",
        "price_list.sort(key = lambda x: x[1])\n",
        "print (price_list)\n"
      ],
      "metadata": {
        "colab": {
          "base_uri": "https://localhost:8080/"
        },
        "id": "XxbVuhwSXSAp",
        "outputId": "0db41d22-7022-4d97-82a0-53b0f55ca61f"
      },
      "execution_count": null,
      "outputs": [
        {
          "output_type": "stream",
          "name": "stdout",
          "text": [
            "[('MSFT', 69), ('WMT', 75.32), ('AAPL', 144.09), ('FB', 150), ('GOOGL', 911.71)]\n"
          ]
        }
      ]
    },
    {
      "cell_type": "markdown",
      "source": [
        "###My example 46"
      ],
      "metadata": {
        "id": "M4NLiUw7XaID"
      }
    },
    {
      "cell_type": "code",
      "source": [
        "altura_lista = [('hernan', 1.84), ('felipe', 1.80), ('sebastian', 1.69), ('jorge', 1.50), ('daniel', 1.70)]\n",
        "altura_lista.sort(key = lambda x: x[1])\n",
        "print (altura_lista)"
      ],
      "metadata": {
        "colab": {
          "base_uri": "https://localhost:8080/"
        },
        "id": "U58lcO-Ue3e5",
        "outputId": "66a25f59-caf1-4330-8b51-4f015d84ae39"
      },
      "execution_count": 37,
      "outputs": [
        {
          "output_type": "stream",
          "name": "stdout",
          "text": [
            "[('jorge', 1.5), ('sebastian', 1.69), ('daniel', 1.7), ('felipe', 1.8), ('hernan', 1.84)]\n"
          ]
        }
      ]
    },
    {
      "cell_type": "markdown",
      "source": [
        "#**Object-Oriented Programming**\n",
        "\n",
        "Python is an object-oriented programming language. It's important to understand the concept of \"objects\" because almost every kind of data from QuantConnect API is an object.\n",
        "\n",
        "**Class**\n",
        "\n",
        "A class is a type of data, just like a string, float, or list. When we create an object of that data type, we call it an **instance** of a class.\n",
        "\n",
        "In Python, everything is an object - everything is an instance of some class. The data stored inside an object are called **attributes** , and the functions which are associated with the object are called **methods**.\n",
        "\n",
        "For example, as mentioned above, a list is an object of the \"list\" class, and it has a method list.sort().\n",
        "\n",
        "We can create our own objects by defining a class. We would do this when it's helpful to group certain functions together. For example, we define a class named \"Stock\" here:"
      ],
      "metadata": {
        "id": "HEImiRWzXmmM"
      }
    },
    {
      "cell_type": "code",
      "source": [
        "class Stock:\n",
        "    def __init__(self, ticker, open, close, volume):\n",
        "        self.ticker = ticker\n",
        "        self.open = open\n",
        "        self.close = close\n",
        "        self.volume = volume\n",
        "        self.rate_return = float(close)/open - 1\n",
        "\n",
        "    def update(self, open, close):\n",
        "        self.open = open\n",
        "        self.close = close\n",
        "        self.rate_return = float(self.close)/self.open - 1\n",
        "\n",
        "    def print_return(self):\n",
        "        print (self.rate_return)"
      ],
      "metadata": {
        "id": "bY3Gk9LTad0W"
      },
      "execution_count": null,
      "outputs": []
    },
    {
      "cell_type": "markdown",
      "source": [
        "The \"Stock\" class has attributes \"ticker\", \"open\", \"close\", \"volume\" and \"rate_return\". Inside the class body, the first method is called __init__, which is a special method. When we create a new instance of the class, the __init__ method is immediately executed with all the parameters that we pass to the \"Stock\" object. The purpose of this method is to set up a new \"Stock\" object using data we have provided.\n",
        "\n",
        "Here we create two Stock objects named \"apple\" and \"google\"."
      ],
      "metadata": {
        "id": "-fZRPGU_anoy"
      }
    },
    {
      "cell_type": "code",
      "source": [
        "apple  = Stock('AAPL', 143.69, 144.09, 20109375)\n",
        "google = Stock('GOOGL', 898.7, 911.7, 1561616)"
      ],
      "metadata": {
        "id": "hlN1Esd-bCQI"
      },
      "execution_count": null,
      "outputs": []
    },
    {
      "cell_type": "markdown",
      "source": [
        "Stock objects also have two other methods: update() and print_return(). We can access the attribues of a Stock object and call its methods:"
      ],
      "metadata": {
        "id": "TbtRTjDTbJQ7"
      }
    },
    {
      "cell_type": "code",
      "source": [
        "apple.ticker\n",
        "google.print_return()\n",
        "google.update(912.8,913.4)\n",
        "google.print_return()\n"
      ],
      "metadata": {
        "colab": {
          "base_uri": "https://localhost:8080/"
        },
        "id": "n-dAwhBabQJl",
        "outputId": "7c117965-4aca-463a-85a0-75c8a606d54b"
      },
      "execution_count": null,
      "outputs": [
        {
          "output_type": "stream",
          "name": "stdout",
          "text": [
            "0.014465338822744034\n",
            "0.0006573181419806673\n"
          ]
        }
      ]
    },
    {
      "cell_type": "markdown",
      "source": [
        "By calling the update() function, we updated the open and close prices of a stock. Please note that when we use the attributes or call the methods **inside** a **class**, we need to specify them as self.attribute or self.method(), otherwise Python will deem them as global variables and thus raise an error.\n",
        "\n",
        "We can add an attribute to an object anywhere:"
      ],
      "metadata": {
        "id": "Z5beNn6iciEo"
      }
    },
    {
      "cell_type": "code",
      "source": [
        "apple.ceo = 'Tim Cook'\n",
        "\n",
        "apple.ceo"
      ],
      "metadata": {
        "colab": {
          "base_uri": "https://localhost:8080/",
          "height": 34
        },
        "id": "IUd4ZHpXc5ts",
        "outputId": "c66923ed-673c-47e9-a92e-c970d8a245ee"
      },
      "execution_count": null,
      "outputs": [
        {
          "output_type": "execute_result",
          "data": {
            "text/plain": [
              "'Tim Cook'"
            ],
            "application/vnd.google.colaboratory.intrinsic+json": {
              "type": "string"
            }
          },
          "metadata": {},
          "execution_count": 666
        }
      ]
    },
    {
      "cell_type": "markdown",
      "source": [
        "###My example 47"
      ],
      "metadata": {
        "id": "4Cw2wBgierTx"
      }
    },
    {
      "cell_type": "code",
      "source": [
        "apple.ceo=\"hernan perdomo\"\n",
        "apple.ceo"
      ],
      "metadata": {
        "colab": {
          "base_uri": "https://localhost:8080/",
          "height": 34
        },
        "id": "kfp2WqU1dez2",
        "outputId": "b3923eed-6e78-46e6-baf0-d558291b1a81"
      },
      "execution_count": null,
      "outputs": [
        {
          "output_type": "execute_result",
          "data": {
            "text/plain": [
              "'hernan perdomo'"
            ],
            "application/vnd.google.colaboratory.intrinsic+json": {
              "type": "string"
            }
          },
          "metadata": {},
          "execution_count": 667
        }
      ]
    },
    {
      "cell_type": "markdown",
      "source": [
        "We can check what names (i.e. attributes and methods) are defined on an object using the dir() function:"
      ],
      "metadata": {
        "id": "2234V1xHfpos"
      }
    },
    {
      "cell_type": "code",
      "source": [
        "dir(apple)"
      ],
      "metadata": {
        "colab": {
          "base_uri": "https://localhost:8080/"
        },
        "id": "8qB4Q7BGfunA",
        "outputId": "95f8e749-ec49-4089-d67e-ba5f7bad96b9"
      },
      "execution_count": null,
      "outputs": [
        {
          "output_type": "execute_result",
          "data": {
            "text/plain": [
              "['__class__',\n",
              " '__delattr__',\n",
              " '__dict__',\n",
              " '__dir__',\n",
              " '__doc__',\n",
              " '__eq__',\n",
              " '__format__',\n",
              " '__ge__',\n",
              " '__getattribute__',\n",
              " '__gt__',\n",
              " '__hash__',\n",
              " '__init__',\n",
              " '__init_subclass__',\n",
              " '__le__',\n",
              " '__lt__',\n",
              " '__module__',\n",
              " '__ne__',\n",
              " '__new__',\n",
              " '__reduce__',\n",
              " '__reduce_ex__',\n",
              " '__repr__',\n",
              " '__setattr__',\n",
              " '__sizeof__',\n",
              " '__str__',\n",
              " '__subclasshook__',\n",
              " '__weakref__',\n",
              " 'ceo',\n",
              " 'close',\n",
              " 'open',\n",
              " 'print_return',\n",
              " 'rate_return',\n",
              " 'ticker',\n",
              " 'update',\n",
              " 'volume']"
            ]
          },
          "metadata": {},
          "execution_count": 668
        }
      ]
    },
    {
      "cell_type": "markdown",
      "source": [
        "**Inheritance**\n",
        "\n",
        "Inheritance is a way of arranging classes in a hierarchy from the most general to the most specific. A \"child\" class is a more specific type of a \"parent\" class because a child class will inherit all the attribues and methods of its parent. For example, we define a class named \"Child\" which inherits \"Stock\":"
      ],
      "metadata": {
        "id": "6yte6bXsf3Gn"
      }
    },
    {
      "cell_type": "code",
      "source": [
        "class Child(Stock):\n",
        "    def __init__(self, name):\n",
        "        self.name = name"
      ],
      "metadata": {
        "id": "jFF9kN54gNll"
      },
      "execution_count": null,
      "outputs": []
    },
    {
      "cell_type": "markdown",
      "source": [
        "Then we create an object:"
      ],
      "metadata": {
        "id": "XnD1pdHcgShA"
      }
    },
    {
      "cell_type": "code",
      "source": [
        "aa = Child('AA')\n",
        "print (aa.name)\n",
        "aa.update(100, 102)\n",
        "print (aa.open)\n",
        "print (aa.close)\n",
        "print (aa.print_return())"
      ],
      "metadata": {
        "colab": {
          "base_uri": "https://localhost:8080/"
        },
        "id": "xFk7qVZ1gUnH",
        "outputId": "fd44ec0c-cea3-4e52-c994-175d587e2810"
      },
      "execution_count": null,
      "outputs": [
        {
          "output_type": "stream",
          "name": "stdout",
          "text": [
            "AA\n",
            "100\n",
            "102\n",
            "0.020000000000000018\n",
            "None\n"
          ]
        }
      ]
    },
    {
      "cell_type": "markdown",
      "source": [
        "###My example 48"
      ],
      "metadata": {
        "id": "Ws7FqIBJgrA3"
      }
    },
    {
      "cell_type": "code",
      "source": [
        "class estudiantes(Stock):\n",
        "    def __init__(self, nombre):\n",
        "        self.nombre = nombre\n",
        "hernan = estudiantes('HERNAN')\n",
        "print (hernan.nombre)\n",
        "hernan.update(100, 102)\n",
        "print (hernan.open)\n",
        "print (hernan.close)\n",
        "print (hernan.print_return())"
      ],
      "metadata": {
        "colab": {
          "base_uri": "https://localhost:8080/"
        },
        "id": "27H31TNBgvF3",
        "outputId": "ae89f0bd-254b-431c-81f0-c20f48ae6423"
      },
      "execution_count": null,
      "outputs": [
        {
          "output_type": "stream",
          "name": "stdout",
          "text": [
            "HERNAN\n",
            "100\n",
            "102\n",
            "0.020000000000000018\n",
            "None\n"
          ]
        }
      ]
    },
    {
      "cell_type": "markdown",
      "source": [
        "As seen above, the new class Child has inherited the methods from Stock."
      ],
      "metadata": {
        "id": "R_s9kVdZhk5t"
      }
    },
    {
      "cell_type": "markdown",
      "source": [
        "#**Summary**\n",
        "In this chapter we have introduced functions and classes. When we write a QuantConnect algorithm, we would define our algorithm as a class (QCAlgorithm). This means our algorithm inherited the QC API methods from QCAlgorithm class.\n",
        "\n",
        "In the next chapter, we will introduce NumPy and Pandas, which enable us to conduct scientific calculations in Python."
      ],
      "metadata": {
        "id": "lUDpE3Rxhr0Y"
      }
    },
    {
      "cell_type": "markdown",
      "source": [
        "#**Introduction to Financial Python**\n",
        "#NumPy and Basic Pandas"
      ],
      "metadata": {
        "id": "bRazxXQCh51a"
      }
    },
    {
      "cell_type": "markdown",
      "source": [
        "###**Introduction**\n",
        "\n",
        "Now that we have introduced the fundamentals of Python, it's time to learn about NumPy and Pandas.\n",
        "\n",
        "###**NumPy**\n",
        "NumPy is the core library for scientific computing in Python. It provides a high-performance multidimensional array object, and tools for working with these arrays. It also has strong integration with Pandas, which is another powerful tool for manipulating financial data.\n",
        "\n",
        "Python packages like NumPy and Pandas contain classes and methods which we can use by importing the package:"
      ],
      "metadata": {
        "id": "Mx24BFCFiCfY"
      }
    },
    {
      "cell_type": "code",
      "source": [
        "import numpy as np"
      ],
      "metadata": {
        "id": "5RHo87uNiVFI"
      },
      "execution_count": null,
      "outputs": []
    },
    {
      "cell_type": "markdown",
      "source": [
        "###**Basic NumPy Arrays**\n",
        "A NumPy array is a grid of values, all of the same type, and is indexed by a tuple of nonnegative integers. Here we make an array by passing a list of Apple stock prices:"
      ],
      "metadata": {
        "id": "5N3LFQZQilT5"
      }
    },
    {
      "cell_type": "code",
      "source": [
        "price_list = [143.73, 145.83, 143.68, 144.02, 143.5, 142.62]\n",
        "price_array = np.array(price_list)\n",
        "print (price_array, type(price_array))"
      ],
      "metadata": {
        "colab": {
          "base_uri": "https://localhost:8080/"
        },
        "id": "mEMs8dG4ivbR",
        "outputId": "93f83b6f-6783-4e6b-ac01-b69a5436f11a"
      },
      "execution_count": null,
      "outputs": [
        {
          "output_type": "stream",
          "name": "stdout",
          "text": [
            "[143.73 145.83 143.68 144.02 143.5  142.62] <class 'numpy.ndarray'>\n"
          ]
        }
      ]
    },
    {
      "cell_type": "markdown",
      "source": [
        "###My example 49"
      ],
      "metadata": {
        "id": "7I91XcT1jRk2"
      }
    },
    {
      "cell_type": "code",
      "source": [
        "altura_lista = [1.84,1.50,1.90,1.87,1.70]\n",
        "altura_arreglo = np.array(altura_lista)\n",
        "print (altura_arreglo, type(altura_arreglo))"
      ],
      "metadata": {
        "colab": {
          "base_uri": "https://localhost:8080/"
        },
        "id": "rI95HYGvjWs-",
        "outputId": "882f15d4-6f3d-424d-9c48-04d2fce03f78"
      },
      "execution_count": null,
      "outputs": [
        {
          "output_type": "stream",
          "name": "stdout",
          "text": [
            "[1.84 1.5  1.9  1.87 1.7 ] <class 'numpy.ndarray'>\n"
          ]
        }
      ]
    },
    {
      "cell_type": "markdown",
      "source": [
        "Notice that the type of array is \"ndarray\" which is a multi-dimensional array. If we pass np.array() a list of lists, it will create a 2-dimensional array."
      ],
      "metadata": {
        "id": "LN9qc5sGkPep"
      }
    },
    {
      "cell_type": "code",
      "source": [
        "Ar = np.array([[1,3], [2,4]])\n",
        "print (Ar, type(Ar))"
      ],
      "metadata": {
        "colab": {
          "base_uri": "https://localhost:8080/"
        },
        "id": "Zjhpjvj-ka1E",
        "outputId": "e923f0d8-51f3-4179-9861-51fab41aa3b3"
      },
      "execution_count": null,
      "outputs": [
        {
          "output_type": "stream",
          "name": "stdout",
          "text": [
            "[[1 3]\n",
            " [2 4]] <class 'numpy.ndarray'>\n"
          ]
        }
      ]
    },
    {
      "cell_type": "markdown",
      "source": [
        "###My example 50"
      ],
      "metadata": {
        "id": "cTSh3lBUkqXF"
      }
    },
    {
      "cell_type": "code",
      "source": [
        "matriz = np.array([[\"a\",\"b\"], [\"c\",\"d\"]])\n",
        "print (matriz , type(matriz))"
      ],
      "metadata": {
        "colab": {
          "base_uri": "https://localhost:8080/"
        },
        "id": "WamojP3kkuxF",
        "outputId": "1992a124-801b-4078-d676-9f8d1238b04d"
      },
      "execution_count": null,
      "outputs": [
        {
          "output_type": "stream",
          "name": "stdout",
          "text": [
            "[['a' 'b']\n",
            " ['c' 'd']] <class 'numpy.ndarray'>\n"
          ]
        }
      ]
    },
    {
      "cell_type": "markdown",
      "source": [
        "We get the dimensions of an ndarray using the .shape attribute:"
      ],
      "metadata": {
        "id": "0nWMbP80lcQZ"
      }
    },
    {
      "cell_type": "code",
      "source": [
        "print (Ar.shape)\n"
      ],
      "metadata": {
        "colab": {
          "base_uri": "https://localhost:8080/"
        },
        "id": "iBxtEHR_lrGi",
        "outputId": "7d9b6dec-31d9-4125-8960-a4c060d738d5"
      },
      "execution_count": null,
      "outputs": [
        {
          "output_type": "stream",
          "name": "stdout",
          "text": [
            "(2, 2)\n"
          ]
        }
      ]
    },
    {
      "cell_type": "markdown",
      "source": [
        "###My example 51"
      ],
      "metadata": {
        "id": "RETOSj1NlglS"
      }
    },
    {
      "cell_type": "code",
      "source": [
        "print (matriz.shape)"
      ],
      "metadata": {
        "colab": {
          "base_uri": "https://localhost:8080/"
        },
        "id": "Qtoa3QS2lkQ_",
        "outputId": "0734718c-365b-4278-f7b0-39927cdf823f"
      },
      "execution_count": null,
      "outputs": [
        {
          "output_type": "stream",
          "name": "stdout",
          "text": [
            "(2, 2)\n"
          ]
        }
      ]
    },
    {
      "cell_type": "markdown",
      "source": [
        "###My example 52"
      ],
      "metadata": {
        "id": "1lE6HUrolzqq"
      }
    },
    {
      "cell_type": "code",
      "source": [
        "matriz_a = np.array([[\"a\",\"b\",\"c\"], [\"d\",\"f\",\"g\"]])\n",
        "print (matriz_a , type(matriz_a))\n",
        "print (matriz_a.shape)"
      ],
      "metadata": {
        "colab": {
          "base_uri": "https://localhost:8080/"
        },
        "id": "7dKBnBK_l3iB",
        "outputId": "70d4d1da-2739-48fa-eb8a-a0b973a4e372"
      },
      "execution_count": null,
      "outputs": [
        {
          "output_type": "stream",
          "name": "stdout",
          "text": [
            "[['a' 'b' 'c']\n",
            " ['d' 'f' 'g']] <class 'numpy.ndarray'>\n",
            "(2, 3)\n"
          ]
        }
      ]
    },
    {
      "cell_type": "markdown",
      "source": [
        "###My example 53"
      ],
      "metadata": {
        "id": "Eom-GicLmJFq"
      }
    },
    {
      "cell_type": "code",
      "source": [
        "matriz_b = np.array([[\"w\",\"x\",\"y\"], [\"i\",\"j\",\"k\"],[\"h\",\"i\",\"j\"]])\n",
        "print (matriz_b , type(matriz_b))\n",
        "print (matriz_b.shape)"
      ],
      "metadata": {
        "colab": {
          "base_uri": "https://localhost:8080/"
        },
        "id": "TFyyanHVmNpr",
        "outputId": "61e05f4e-9d4b-4fa1-e2a7-4d408d0d613d"
      },
      "execution_count": null,
      "outputs": [
        {
          "output_type": "stream",
          "name": "stdout",
          "text": [
            "[['w' 'x' 'y']\n",
            " ['i' 'j' 'k']\n",
            " ['h' 'i' 'j']] <class 'numpy.ndarray'>\n",
            "(3, 3)\n"
          ]
        }
      ]
    },
    {
      "cell_type": "markdown",
      "source": [
        "If we create an 2-dimensional array (i.e. matrix), each row can be accessed by index:"
      ],
      "metadata": {
        "id": "_-Y7EhvmmghE"
      }
    },
    {
      "cell_type": "code",
      "source": [
        "print (Ar[0])\n",
        "\n",
        "print (Ar[1])\n"
      ],
      "metadata": {
        "colab": {
          "base_uri": "https://localhost:8080/"
        },
        "id": "36fT8Yz_miOa",
        "outputId": "e4b51398-999a-4c2e-ba99-573095538939"
      },
      "execution_count": null,
      "outputs": [
        {
          "output_type": "stream",
          "name": "stdout",
          "text": [
            "[1 3]\n",
            "[2 4]\n"
          ]
        }
      ]
    },
    {
      "cell_type": "markdown",
      "source": [
        "###My example 54"
      ],
      "metadata": {
        "id": "ODee4bf6m4YH"
      }
    },
    {
      "cell_type": "code",
      "source": [
        "print (matriz[0])\n",
        "print (matriz[1])\n",
        "print (matriz_a[0])\n",
        "print (matriz_a[1])\n",
        "print (matriz_b[0])\n",
        "print (matriz_b[1])\n",
        "print (matriz_b[2])"
      ],
      "metadata": {
        "colab": {
          "base_uri": "https://localhost:8080/"
        },
        "id": "8F_qEjzDm7fi",
        "outputId": "d3b94f59-8b1d-4499-c949-f8fd0ec46167"
      },
      "execution_count": null,
      "outputs": [
        {
          "output_type": "stream",
          "name": "stdout",
          "text": [
            "['a' 'b']\n",
            "['c' 'd']\n",
            "['a' 'b' 'c']\n",
            "['d' 'f' 'g']\n",
            "['w' 'x' 'y']\n",
            "['i' 'j' 'k']\n",
            "['h' 'i' 'j']\n"
          ]
        }
      ]
    },
    {
      "cell_type": "markdown",
      "source": [
        "If we want to access the matrix by column instead:"
      ],
      "metadata": {
        "id": "kZVlTe99nykL"
      }
    },
    {
      "cell_type": "code",
      "source": [
        "print ('First column:', Ar[:,0])\n",
        "\n",
        "print ('Second column:', Ar[:,1])\n"
      ],
      "metadata": {
        "colab": {
          "base_uri": "https://localhost:8080/"
        },
        "id": "EieWyfZsn7Pe",
        "outputId": "4b33b5b8-334e-47e7-bf2a-9f759fb0267b"
      },
      "execution_count": null,
      "outputs": [
        {
          "output_type": "stream",
          "name": "stdout",
          "text": [
            "First column: [1 2]\n",
            "Second column: [3 4]\n"
          ]
        }
      ]
    },
    {
      "cell_type": "markdown",
      "source": [
        "###My example 55"
      ],
      "metadata": {
        "id": "T_btVicboLST"
      }
    },
    {
      "cell_type": "code",
      "source": [
        "print ('First column:', matriz[:,0])\n",
        "\n",
        "print ('Second column:', matriz[:,1])\n",
        "\n",
        "print ('first column', matriz_a[:,0])\n",
        "\n",
        "print ('Second column:', matriz_a[:,1])\n",
        "\n",
        "print ('first column', matriz_b[:,0])\n",
        "\n",
        "print ('Second column:', matriz_b[:,1])\n",
        "\n",
        "print ('third column:', matriz_b[:,2])\n"
      ],
      "metadata": {
        "colab": {
          "base_uri": "https://localhost:8080/"
        },
        "id": "3hGg4SsVoN0D",
        "outputId": "7c18b450-7fd9-489f-a723-43a9dc5c8fe7"
      },
      "execution_count": null,
      "outputs": [
        {
          "output_type": "stream",
          "name": "stdout",
          "text": [
            "First column: ['a' 'c']\n",
            "Second column: ['b' 'd']\n",
            "first column ['a' 'd']\n",
            "Second column: ['b' 'f']\n",
            "first column ['w' 'i' 'h']\n",
            "Second column: ['x' 'j' 'i']\n",
            "third column: ['y' 'k' 'j']\n"
          ]
        }
      ]
    },
    {
      "cell_type": "markdown",
      "source": [
        "###**Array Functions**\n",
        "Some functions built in NumPy that allow us to perform calculations on arrays. For example, we can apply the natural logarithm to each element of an array"
      ],
      "metadata": {
        "id": "hotlBrp1pJSD"
      }
    },
    {
      "cell_type": "code",
      "source": [
        "np.log(price_array)"
      ],
      "metadata": {
        "colab": {
          "base_uri": "https://localhost:8080/"
        },
        "id": "6ZAEUP8YpVO7",
        "outputId": "81259d69-9bad-4e58-b0f7-b53cee1d3a0d"
      },
      "execution_count": null,
      "outputs": [
        {
          "output_type": "execute_result",
          "data": {
            "text/plain": [
              "array([4.96793654, 4.98244156, 4.9675886 , 4.96995218, 4.96633504,\n",
              "       4.96018375])"
            ]
          },
          "metadata": {},
          "execution_count": 685
        }
      ]
    },
    {
      "cell_type": "markdown",
      "source": [
        "###My example 56"
      ],
      "metadata": {
        "id": "YTwfV6L-qlib"
      }
    },
    {
      "cell_type": "code",
      "source": [
        "np.log(altura_arreglo)"
      ],
      "metadata": {
        "colab": {
          "base_uri": "https://localhost:8080/"
        },
        "id": "ktcFUDeCqqJu",
        "outputId": "a91596bc-751a-40c1-e7ce-08d5bbe29e7b"
      },
      "execution_count": null,
      "outputs": [
        {
          "output_type": "execute_result",
          "data": {
            "text/plain": [
              "array([0.60976557, 0.40546511, 0.64185389, 0.62593843, 0.53062825])"
            ]
          },
          "metadata": {},
          "execution_count": 686
        }
      ]
    },
    {
      "cell_type": "markdown",
      "source": [
        "Other functions return a single value:\n",
        "\n"
      ],
      "metadata": {
        "id": "f6r2S7dapuko"
      }
    },
    {
      "cell_type": "code",
      "source": [
        "print (np.mean(price_array))\n",
        "\n",
        "print (np.std(price_array))\n",
        "\n",
        "print (np.sum(price_array))\n",
        "\n",
        "print (np.max(price_array))\n"
      ],
      "metadata": {
        "colab": {
          "base_uri": "https://localhost:8080/"
        },
        "id": "H5uVQSV8pv67",
        "outputId": "4f8ee5c3-cd15-4faf-f81e-d53831f2c6bd"
      },
      "execution_count": null,
      "outputs": [
        {
          "output_type": "stream",
          "name": "stdout",
          "text": [
            "143.89666666666668\n",
            "0.9673790478515796\n",
            "863.38\n",
            "145.83\n"
          ]
        }
      ]
    },
    {
      "cell_type": "markdown",
      "source": [
        "###My example 57"
      ],
      "metadata": {
        "id": "JscEXSwHrIh-"
      }
    },
    {
      "cell_type": "code",
      "source": [
        "print (np.mean(altura_arreglo))\n",
        "\n",
        "print (np.std(altura_arreglo))\n",
        "\n",
        "print (np.sum(altura_arreglo))\n",
        "\n",
        "print (np.max(altura_arreglo))"
      ],
      "metadata": {
        "colab": {
          "base_uri": "https://localhost:8080/"
        },
        "id": "cPLz2AzHrLbk",
        "outputId": "d3d33e42-f4ce-42a4-b197-25815c9ad02d"
      },
      "execution_count": null,
      "outputs": [
        {
          "output_type": "stream",
          "name": "stdout",
          "text": [
            "1.762\n",
            "0.14783774890061063\n",
            "8.81\n",
            "1.9\n"
          ]
        }
      ]
    },
    {
      "cell_type": "markdown",
      "source": [
        "The functions above return the mean, standard deviation, total and maximum value of an array"
      ],
      "metadata": {
        "id": "K9pLGAZXrgSw"
      }
    },
    {
      "cell_type": "markdown",
      "source": [
        "#**Pandas**\n",
        "Pandas is one of the most powerful tools for dealing with financial data. First we need to import Pandas:"
      ],
      "metadata": {
        "id": "QVV0t_jsrlTV"
      }
    },
    {
      "cell_type": "code",
      "source": [
        "import pandas as pd"
      ],
      "metadata": {
        "id": "U6vcna1Brptk"
      },
      "execution_count": null,
      "outputs": []
    },
    {
      "cell_type": "markdown",
      "source": [
        "###**Series**\n",
        "Series is a one-dimensional labeled array capable of holding any data type (integers, strings, float, Python object, etc.)\n",
        "\n",
        "We create a Series by calling pd.Series(data), where data can be a dictionary, an array or just a scalar value."
      ],
      "metadata": {
        "id": "EkEeICsFrvmX"
      }
    },
    {
      "cell_type": "code",
      "source": [
        "price = [143.73, 145.83, 143.68, 144.02, 143.5, 142.62]\n",
        "s = pd.Series(price)\n",
        "print(s)"
      ],
      "metadata": {
        "colab": {
          "base_uri": "https://localhost:8080/"
        },
        "id": "UokngEMNr5q9",
        "outputId": "cbf7b10a-ab56-4db1-b6c8-f954cdc44662"
      },
      "execution_count": null,
      "outputs": [
        {
          "output_type": "stream",
          "name": "stdout",
          "text": [
            "0    143.73\n",
            "1    145.83\n",
            "2    143.68\n",
            "3    144.02\n",
            "4    143.50\n",
            "5    142.62\n",
            "dtype: float64\n"
          ]
        }
      ]
    },
    {
      "cell_type": "markdown",
      "source": [
        "###My example 58"
      ],
      "metadata": {
        "id": "sLEJm0mxsDU0"
      }
    },
    {
      "cell_type": "code",
      "source": [
        "altura = [1.84, 1.70, 1.56, 1.70, 1.98, 1.66]\n",
        "h = pd.Series(altura)\n",
        "print(h)"
      ],
      "metadata": {
        "colab": {
          "base_uri": "https://localhost:8080/"
        },
        "id": "sKe1fRPUsHIN",
        "outputId": "4aed343c-f2b1-4b76-b6d8-824d969b5457"
      },
      "execution_count": null,
      "outputs": [
        {
          "output_type": "stream",
          "name": "stdout",
          "text": [
            "0    1.84\n",
            "1    1.70\n",
            "2    1.56\n",
            "3    1.70\n",
            "4    1.98\n",
            "5    1.66\n",
            "dtype: float64\n"
          ]
        }
      ]
    },
    {
      "cell_type": "markdown",
      "source": [
        "We can customize the indices of a new Series:"
      ],
      "metadata": {
        "id": "cGgXjx6NtaEu"
      }
    },
    {
      "cell_type": "code",
      "source": [
        "s = pd.Series(price, index = ['a', 'b', 'c', 'd', 'e', 'f'])\n",
        "print (s)"
      ],
      "metadata": {
        "colab": {
          "base_uri": "https://localhost:8080/"
        },
        "id": "IkAtbyv8tc_o",
        "outputId": "a2591c79-f127-4e6e-a08b-4e21e8dd1ba4"
      },
      "execution_count": null,
      "outputs": [
        {
          "output_type": "stream",
          "name": "stdout",
          "text": [
            "a    143.73\n",
            "b    145.83\n",
            "c    143.68\n",
            "d    144.02\n",
            "e    143.50\n",
            "f    142.62\n",
            "dtype: float64\n"
          ]
        }
      ]
    },
    {
      "cell_type": "markdown",
      "source": [
        "###My example 59"
      ],
      "metadata": {
        "id": "LHadxYtNthMo"
      }
    },
    {
      "cell_type": "code",
      "source": [
        "h = pd.Series(altura, index = ['z', 'x', 'y', 'w', 'i', 'j'])\n",
        "print (h)"
      ],
      "metadata": {
        "colab": {
          "base_uri": "https://localhost:8080/"
        },
        "id": "6n2YvM49toeX",
        "outputId": "d9108099-12ac-4045-f678-51ed311b7236"
      },
      "execution_count": null,
      "outputs": [
        {
          "output_type": "stream",
          "name": "stdout",
          "text": [
            "z    1.84\n",
            "x    1.70\n",
            "y    1.56\n",
            "w    1.70\n",
            "i    1.98\n",
            "j    1.66\n",
            "dtype: float64\n"
          ]
        }
      ]
    },
    {
      "cell_type": "markdown",
      "source": [
        "Or we can change the indices of an existing Series:"
      ],
      "metadata": {
        "id": "UPKVhaI-t8Ix"
      }
    },
    {
      "cell_type": "code",
      "source": [
        "s.index = [6,5,4,3,2,1]\n",
        "print (s)"
      ],
      "metadata": {
        "colab": {
          "base_uri": "https://localhost:8080/"
        },
        "id": "GbWjGoUut-km",
        "outputId": "0abc6196-09da-44d5-fdeb-e03a7d058ea8"
      },
      "execution_count": null,
      "outputs": [
        {
          "output_type": "stream",
          "name": "stdout",
          "text": [
            "6    143.73\n",
            "5    145.83\n",
            "4    143.68\n",
            "3    144.02\n",
            "2    143.50\n",
            "1    142.62\n",
            "dtype: float64\n"
          ]
        }
      ]
    },
    {
      "cell_type": "markdown",
      "source": [
        "###My example 60"
      ],
      "metadata": {
        "id": "9hauv4BSuCD3"
      }
    },
    {
      "cell_type": "code",
      "source": [
        "h.index = [1,2,3,4,5,6]\n",
        "print (h)"
      ],
      "metadata": {
        "colab": {
          "base_uri": "https://localhost:8080/"
        },
        "id": "Q_U6La80uFhV",
        "outputId": "106ed406-5339-4f07-e58b-125cc6d77dc2"
      },
      "execution_count": null,
      "outputs": [
        {
          "output_type": "stream",
          "name": "stdout",
          "text": [
            "1    1.84\n",
            "2    1.70\n",
            "3    1.56\n",
            "4    1.70\n",
            "5    1.98\n",
            "6    1.66\n",
            "dtype: float64\n"
          ]
        }
      ]
    },
    {
      "cell_type": "markdown",
      "source": [
        "Series is like a list since it can be sliced by index:"
      ],
      "metadata": {
        "id": "URyNtS26uVk-"
      }
    },
    {
      "cell_type": "code",
      "source": [
        "print (s[1:])\n",
        "print (s[:-2])"
      ],
      "metadata": {
        "colab": {
          "base_uri": "https://localhost:8080/"
        },
        "id": "fr1VJpFTucqO",
        "outputId": "9d71f8d3-8083-4c03-cf1d-2c6a828df9b9"
      },
      "execution_count": null,
      "outputs": [
        {
          "output_type": "stream",
          "name": "stdout",
          "text": [
            "5    145.83\n",
            "4    143.68\n",
            "3    144.02\n",
            "2    143.50\n",
            "1    142.62\n",
            "dtype: float64\n",
            "6    143.73\n",
            "5    145.83\n",
            "4    143.68\n",
            "3    144.02\n",
            "dtype: float64\n"
          ]
        }
      ]
    },
    {
      "cell_type": "markdown",
      "source": [
        "###My example 61"
      ],
      "metadata": {
        "id": "hMka-MmfulAv"
      }
    },
    {
      "cell_type": "code",
      "source": [
        "print(h[1:])\n",
        "print(h[:-2])"
      ],
      "metadata": {
        "colab": {
          "base_uri": "https://localhost:8080/"
        },
        "id": "Z8PrLB8-upvZ",
        "outputId": "2eab6fb6-e7bd-47c3-e78a-2e9d6718d07c"
      },
      "execution_count": null,
      "outputs": [
        {
          "output_type": "stream",
          "name": "stdout",
          "text": [
            "2    1.70\n",
            "3    1.56\n",
            "4    1.70\n",
            "5    1.98\n",
            "6    1.66\n",
            "dtype: float64\n",
            "1    1.84\n",
            "2    1.70\n",
            "3    1.56\n",
            "4    1.70\n",
            "dtype: float64\n"
          ]
        }
      ]
    },
    {
      "cell_type": "markdown",
      "source": [
        "Series is also like a dictionary whose values can be set or fetched by index label:"
      ],
      "metadata": {
        "id": "WvQQZ1eZu3CZ"
      }
    },
    {
      "cell_type": "code",
      "source": [
        "print (s[4])\n",
        "s[4] = 0\n",
        "print (s)"
      ],
      "metadata": {
        "colab": {
          "base_uri": "https://localhost:8080/"
        },
        "id": "tgVX7LJcu6iO",
        "outputId": "43328e8c-adcf-4365-b944-e315b1d1a4de"
      },
      "execution_count": null,
      "outputs": [
        {
          "output_type": "stream",
          "name": "stdout",
          "text": [
            "143.68\n",
            "6    143.73\n",
            "5    145.83\n",
            "4      0.00\n",
            "3    144.02\n",
            "2    143.50\n",
            "1    142.62\n",
            "dtype: float64\n"
          ]
        }
      ]
    },
    {
      "cell_type": "markdown",
      "source": [
        "###My example 62"
      ],
      "metadata": {
        "id": "YY9P5a47vIZV"
      }
    },
    {
      "cell_type": "code",
      "source": [
        "print (h[4])\n",
        "h[4] = 0\n",
        "print (h)"
      ],
      "metadata": {
        "colab": {
          "base_uri": "https://localhost:8080/"
        },
        "id": "y4p_kodXvM-2",
        "outputId": "d2b87294-cc9b-4690-fa97-fa821f33c611"
      },
      "execution_count": null,
      "outputs": [
        {
          "output_type": "stream",
          "name": "stdout",
          "text": [
            "1.7\n",
            "1    1.84\n",
            "2    1.70\n",
            "3    1.56\n",
            "4    0.00\n",
            "5    1.98\n",
            "6    1.66\n",
            "dtype: float64\n"
          ]
        }
      ]
    },
    {
      "cell_type": "markdown",
      "source": [
        "Series can also have a name attribute, which will be used when we make up a Pandas DataFrame using several series."
      ],
      "metadata": {
        "id": "1AhaWBjuvVVf"
      }
    },
    {
      "cell_type": "code",
      "source": [
        "s = pd.Series(price, name = 'Apple Prices')\n",
        "print (s)\n",
        "print (s.name)"
      ],
      "metadata": {
        "colab": {
          "base_uri": "https://localhost:8080/"
        },
        "id": "i2PnT53tvg0f",
        "outputId": "d4f4764e-4ec4-4dbc-edfa-8b6641fe7b91"
      },
      "execution_count": null,
      "outputs": [
        {
          "output_type": "stream",
          "name": "stdout",
          "text": [
            "0    143.73\n",
            "1    145.83\n",
            "2    143.68\n",
            "3    144.02\n",
            "4    143.50\n",
            "5    142.62\n",
            "Name: Apple Prices, dtype: float64\n",
            "Apple Prices\n"
          ]
        }
      ]
    },
    {
      "cell_type": "markdown",
      "source": [
        "###My example 63"
      ],
      "metadata": {
        "id": "j67AoCR8vnYT"
      }
    },
    {
      "cell_type": "code",
      "source": [
        "h = pd.Series(altura, name = 'altura estudiantes')\n",
        "print (h)\n",
        "print (h.name)"
      ],
      "metadata": {
        "colab": {
          "base_uri": "https://localhost:8080/"
        },
        "id": "V8QFt1AMvq7m",
        "outputId": "f7c7f52d-5f67-4099-8c3a-6492f17724c5"
      },
      "execution_count": null,
      "outputs": [
        {
          "output_type": "stream",
          "name": "stdout",
          "text": [
            "0    1.84\n",
            "1    1.70\n",
            "2    1.56\n",
            "3    1.70\n",
            "4    1.98\n",
            "5    1.66\n",
            "Name: altura estudiantes, dtype: float64\n",
            "altura estudiantes\n"
          ]
        }
      ]
    },
    {
      "cell_type": "markdown",
      "source": [
        "We can get the statistical summaries of a Series:"
      ],
      "metadata": {
        "id": "Ab6HFyhdv47Z"
      }
    },
    {
      "cell_type": "code",
      "source": [
        "print (s.describe())"
      ],
      "metadata": {
        "colab": {
          "base_uri": "https://localhost:8080/"
        },
        "id": "ydyuERPhv9fW",
        "outputId": "22d78999-cc32-40c8-9e6b-36696d4ea84a"
      },
      "execution_count": null,
      "outputs": [
        {
          "output_type": "stream",
          "name": "stdout",
          "text": [
            "count      6.000000\n",
            "mean     143.896667\n",
            "std        1.059711\n",
            "min      142.620000\n",
            "25%      143.545000\n",
            "50%      143.705000\n",
            "75%      143.947500\n",
            "max      145.830000\n",
            "Name: Apple Prices, dtype: float64\n"
          ]
        }
      ]
    },
    {
      "cell_type": "markdown",
      "source": [
        "###My example 64"
      ],
      "metadata": {
        "id": "hyKE7IacwDGv"
      }
    },
    {
      "cell_type": "code",
      "source": [
        "print (h.describe())"
      ],
      "metadata": {
        "colab": {
          "base_uri": "https://localhost:8080/"
        },
        "id": "ur0mU1dawGv3",
        "outputId": "ed7335cb-7930-4192-8dab-9e2132f33a9f"
      },
      "execution_count": null,
      "outputs": [
        {
          "output_type": "stream",
          "name": "stdout",
          "text": [
            "count    6.000000\n",
            "mean     1.740000\n",
            "std      0.148054\n",
            "min      1.560000\n",
            "25%      1.670000\n",
            "50%      1.700000\n",
            "75%      1.805000\n",
            "max      1.980000\n",
            "Name: altura estudiantes, dtype: float64\n"
          ]
        }
      ]
    },
    {
      "cell_type": "markdown",
      "source": [
        "###**Time Index**\n",
        "Pandas has a built-in function specifically for creating date indices: pd.date_range(). We use it to create a new index for our Series:"
      ],
      "metadata": {
        "id": "wLx9Rju-wZqX"
      }
    },
    {
      "cell_type": "code",
      "source": [
        "time_index = pd.date_range('2017-01-01', periods = len(s), freq = 'D')\n",
        "print (time_index)\n",
        "s.index = time_index\n",
        "print (s)"
      ],
      "metadata": {
        "colab": {
          "base_uri": "https://localhost:8080/"
        },
        "id": "KnXZGwOnwi5I",
        "outputId": "b1387ca6-f4c8-4d5e-c4ab-48f04b31759d"
      },
      "execution_count": null,
      "outputs": [
        {
          "output_type": "stream",
          "name": "stdout",
          "text": [
            "DatetimeIndex(['2017-01-01', '2017-01-02', '2017-01-03', '2017-01-04',\n",
            "               '2017-01-05', '2017-01-06'],\n",
            "              dtype='datetime64[ns]', freq='D')\n",
            "2017-01-01    143.73\n",
            "2017-01-02    145.83\n",
            "2017-01-03    143.68\n",
            "2017-01-04    144.02\n",
            "2017-01-05    143.50\n",
            "2017-01-06    142.62\n",
            "Freq: D, Name: Apple Prices, dtype: float64\n"
          ]
        }
      ]
    },
    {
      "cell_type": "markdown",
      "source": [
        "###My example 65"
      ],
      "metadata": {
        "id": "GE_gFq73w1DL"
      }
    },
    {
      "cell_type": "code",
      "source": [
        "time_index = pd.date_range('2022-04-02', periods = len(s), freq = 'D')\n",
        "print (time_index)\n",
        "h.index = time_index\n",
        "print (h)"
      ],
      "metadata": {
        "colab": {
          "base_uri": "https://localhost:8080/"
        },
        "id": "hNM6xM_Bw6T3",
        "outputId": "a29794e3-5bb4-47de-82b1-74a59fc61d30"
      },
      "execution_count": null,
      "outputs": [
        {
          "output_type": "stream",
          "name": "stdout",
          "text": [
            "DatetimeIndex(['2022-04-02', '2022-04-03', '2022-04-04', '2022-04-05',\n",
            "               '2022-04-06', '2022-04-07'],\n",
            "              dtype='datetime64[ns]', freq='D')\n",
            "2022-04-02    1.84\n",
            "2022-04-03    1.70\n",
            "2022-04-04    1.56\n",
            "2022-04-05    1.70\n",
            "2022-04-06    1.98\n",
            "2022-04-07    1.66\n",
            "Freq: D, Name: altura estudiantes, dtype: float64\n"
          ]
        }
      ]
    },
    {
      "cell_type": "markdown",
      "source": [
        "Series are usually accessed using the iloc[] and loc[] methods. iloc[] is used to access elements by integer index, and loc[] is used to access the index of the series.\n",
        "\n",
        "iloc[] is necessary when the index of a series are integers, take our previous defined series as example:"
      ],
      "metadata": {
        "id": "WRSSFwlxxZBI"
      }
    },
    {
      "cell_type": "code",
      "source": [
        "s.index = [6,5,4,3,2,1]\n",
        "print (s)\n",
        "print (s[1])"
      ],
      "metadata": {
        "colab": {
          "base_uri": "https://localhost:8080/"
        },
        "id": "1THcfT_txgeD",
        "outputId": "7a9b5ff5-b68a-4c46-b94c-b9d823275074"
      },
      "execution_count": null,
      "outputs": [
        {
          "output_type": "stream",
          "name": "stdout",
          "text": [
            "6    143.73\n",
            "5    145.83\n",
            "4    143.68\n",
            "3    144.02\n",
            "2    143.50\n",
            "1    142.62\n",
            "Name: Apple Prices, dtype: float64\n",
            "142.62\n"
          ]
        }
      ]
    },
    {
      "cell_type": "markdown",
      "source": [
        "###My example 66"
      ],
      "metadata": {
        "id": "gU3csQvqxnK_"
      }
    },
    {
      "cell_type": "code",
      "source": [
        "h.index = [6,5,4,3,2,1]\n",
        "print (h)\n",
        "print (h[4])"
      ],
      "metadata": {
        "colab": {
          "base_uri": "https://localhost:8080/"
        },
        "id": "IJEAfNV9xtNQ",
        "outputId": "56c438f9-671e-4c1b-d558-bc737e1581d3"
      },
      "execution_count": null,
      "outputs": [
        {
          "output_type": "stream",
          "name": "stdout",
          "text": [
            "6    1.84\n",
            "5    1.70\n",
            "4    1.56\n",
            "3    1.70\n",
            "2    1.98\n",
            "1    1.66\n",
            "Name: altura estudiantes, dtype: float64\n",
            "1.56\n"
          ]
        }
      ]
    },
    {
      "cell_type": "markdown",
      "source": [
        "If we intended to take the second element of the series, we would make a mistake here, because the index are integers. In order to access to the element we want, we use iloc[] here:"
      ],
      "metadata": {
        "id": "cbkMLhncx4hP"
      }
    },
    {
      "cell_type": "code",
      "source": [
        "print (s.iloc[1])"
      ],
      "metadata": {
        "colab": {
          "base_uri": "https://localhost:8080/"
        },
        "id": "2QKrOX3cx7mk",
        "outputId": "af69fe71-2ff1-4518-e627-373345126d05"
      },
      "execution_count": null,
      "outputs": [
        {
          "output_type": "stream",
          "name": "stdout",
          "text": [
            "145.83\n"
          ]
        }
      ]
    },
    {
      "cell_type": "markdown",
      "source": [
        "###My example 67"
      ],
      "metadata": {
        "id": "EIdHww2oyEWv"
      }
    },
    {
      "cell_type": "code",
      "source": [
        "print (h.iloc[1])"
      ],
      "metadata": {
        "colab": {
          "base_uri": "https://localhost:8080/"
        },
        "id": "ZPSpy1KfyIMh",
        "outputId": "56bc4504-ab32-4f89-f0a4-972e1a5d0aa8"
      },
      "execution_count": null,
      "outputs": [
        {
          "output_type": "stream",
          "name": "stdout",
          "text": [
            "1.7\n"
          ]
        }
      ]
    },
    {
      "cell_type": "markdown",
      "source": [
        "While working with time series data, we often use time as the index. Pandas provides us with various methods to access the data by time index."
      ],
      "metadata": {
        "id": "d8DpkE5cyc-K"
      }
    },
    {
      "cell_type": "code",
      "source": [
        "s.index = time_index\n",
        "print (s['2017-01-04'])"
      ],
      "metadata": {
        "colab": {
          "base_uri": "https://localhost:8080/"
        },
        "id": "sN6Cfvzsyf9o",
        "outputId": "5f485053-d37b-49ab-ae92-33effef40f2c"
      },
      "execution_count": null,
      "outputs": [
        {
          "output_type": "stream",
          "name": "stdout",
          "text": [
            "144.02\n"
          ]
        }
      ]
    },
    {
      "cell_type": "markdown",
      "source": [
        "###My example 68"
      ],
      "metadata": {
        "id": "fGJWiqY1yryH"
      }
    },
    {
      "cell_type": "code",
      "source": [
        "h.index = time_index\n",
        "print (h['2022-04-06'])"
      ],
      "metadata": {
        "colab": {
          "base_uri": "https://localhost:8080/"
        },
        "id": "greVXWgNyvSI",
        "outputId": "af26fc7c-54f2-4c52-e971-40e71cd00ec2"
      },
      "execution_count": null,
      "outputs": [
        {
          "output_type": "stream",
          "name": "stdout",
          "text": [
            "1.98\n"
          ]
        }
      ]
    },
    {
      "cell_type": "markdown",
      "source": [
        "We can even access to a range of dates:"
      ],
      "metadata": {
        "id": "VVzwm0Key8vv"
      }
    },
    {
      "cell_type": "code",
      "source": [
        "print (s['2017-01-02':'2017-01-05'])"
      ],
      "metadata": {
        "colab": {
          "base_uri": "https://localhost:8080/"
        },
        "id": "4Y19k5fmzA9P",
        "outputId": "d42cc52b-6830-4a2a-9b10-75d73c7e0576"
      },
      "execution_count": null,
      "outputs": [
        {
          "output_type": "stream",
          "name": "stdout",
          "text": [
            "2017-01-02    145.83\n",
            "2017-01-03    143.68\n",
            "2017-01-04    144.02\n",
            "2017-01-05    143.50\n",
            "Freq: D, Name: Apple Prices, dtype: float64\n"
          ]
        }
      ]
    },
    {
      "cell_type": "markdown",
      "source": [
        "###My example 69"
      ],
      "metadata": {
        "id": "OvKoevNszEpB"
      }
    },
    {
      "cell_type": "code",
      "source": [
        "print (h['2022-04-03':'2022-04-06'])"
      ],
      "metadata": {
        "colab": {
          "base_uri": "https://localhost:8080/"
        },
        "id": "bouxgl_czIhi",
        "outputId": "eed0f38f-7331-4a0e-a783-e5b1561e181c"
      },
      "execution_count": null,
      "outputs": [
        {
          "output_type": "stream",
          "name": "stdout",
          "text": [
            "2022-04-03    1.70\n",
            "2022-04-04    1.56\n",
            "2022-04-05    1.70\n",
            "2022-04-06    1.98\n",
            "Freq: D, Name: altura estudiantes, dtype: float64\n"
          ]
        }
      ]
    },
    {
      "cell_type": "markdown",
      "source": [
        "Series[] provides us a very flexible way to index data. We can add any condition in the square brackets:"
      ],
      "metadata": {
        "id": "RS6ELXMlzT2X"
      }
    },
    {
      "cell_type": "code",
      "source": [
        "print (s[s < np.mean(s)])\n",
        "print (s[(s > np.mean(s)) & (s < np.mean(s) + 1.64*np.std(s))])"
      ],
      "metadata": {
        "colab": {
          "base_uri": "https://localhost:8080/"
        },
        "id": "q89LFx6ozWW5",
        "outputId": "bc5cab78-df66-4386-be4b-eb0248aa3bac"
      },
      "execution_count": null,
      "outputs": [
        {
          "output_type": "stream",
          "name": "stdout",
          "text": [
            "2017-01-01    143.73\n",
            "2017-01-03    143.68\n",
            "2017-01-05    143.50\n",
            "2017-01-06    142.62\n",
            "Name: Apple Prices, dtype: float64\n",
            "2017-01-04    144.02\n",
            "Freq: D, Name: Apple Prices, dtype: float64\n"
          ]
        }
      ]
    },
    {
      "cell_type": "markdown",
      "source": [
        "###My example 70"
      ],
      "metadata": {
        "id": "M94iHYOXzeIA"
      }
    },
    {
      "cell_type": "code",
      "source": [
        "print (h[h < np.mean(h)])\n",
        "print (h[(h > np.mean(h)) & (h < np.mean(h) + 1.64*np.std(h))])"
      ],
      "metadata": {
        "colab": {
          "base_uri": "https://localhost:8080/"
        },
        "id": "C4xUr_XozlFk",
        "outputId": "b6c4bdd5-ee18-4842-f883-9ccbcfb404a8"
      },
      "execution_count": null,
      "outputs": [
        {
          "output_type": "stream",
          "name": "stdout",
          "text": [
            "2022-04-03    1.70\n",
            "2022-04-04    1.56\n",
            "2022-04-05    1.70\n",
            "2022-04-07    1.66\n",
            "Name: altura estudiantes, dtype: float64\n",
            "2022-04-02    1.84\n",
            "Freq: D, Name: altura estudiantes, dtype: float64\n"
          ]
        }
      ]
    },
    {
      "cell_type": "markdown",
      "source": [
        "As demonstrated, we can use logical operators like & (and), | (or) and ~ (not) to group multiple conditions.\n",
        "\n",
        "###**Summary**\n",
        "Here we have introduced NumPy and Pandas for scientific computing in Python. In the next chapter, we will dive into Pandas to learn resampling and manipulating Pandas DataFrame, which are commonly used in financial data analysis."
      ],
      "metadata": {
        "id": "ilCtqX1Hz6y4"
      }
    },
    {
      "cell_type": "markdown",
      "source": [
        "#**Introduction to Financial Python**\n",
        "#Pandas-Resampling and DataFrame"
      ],
      "metadata": {
        "id": "N5ytKxJAlbzi"
      }
    },
    {
      "cell_type": "markdown",
      "source": [
        "###**Introduction**\n",
        "\n",
        "In the last chapter we had a glimpse of Pandas. In this chapter we will learn about resampling methods and the DataFrame object, which is a powerful tool for financial data analysis.\n",
        "\n",
        "###**Fetching Data**\n",
        "\n",
        "Here we use the Quandl API to retrieve data."
      ],
      "metadata": {
        "id": "cl1tKf1algkz"
      }
    },
    {
      "cell_type": "code",
      "source": [
        "!pip install quandl\n",
        "import quandl"
      ],
      "metadata": {
        "colab": {
          "base_uri": "https://localhost:8080/"
        },
        "id": "pkwB-45KnQtH",
        "outputId": "b3c82a39-8053-40e1-ad15-45154f47d1d5"
      },
      "execution_count": 9,
      "outputs": [
        {
          "output_type": "stream",
          "name": "stdout",
          "text": [
            "Collecting quandl\n",
            "  Downloading Quandl-3.7.0-py2.py3-none-any.whl (26 kB)\n",
            "Requirement already satisfied: numpy>=1.8 in /usr/local/lib/python3.7/dist-packages (from quandl) (1.21.5)\n",
            "Requirement already satisfied: python-dateutil in /usr/local/lib/python3.7/dist-packages (from quandl) (2.8.2)\n",
            "Collecting inflection>=0.3.1\n",
            "  Downloading inflection-0.5.1-py2.py3-none-any.whl (9.5 kB)\n",
            "Requirement already satisfied: pandas>=0.14 in /usr/local/lib/python3.7/dist-packages (from quandl) (1.3.5)\n",
            "Requirement already satisfied: requests>=2.7.0 in /usr/local/lib/python3.7/dist-packages (from quandl) (2.23.0)\n",
            "Requirement already satisfied: more-itertools in /usr/local/lib/python3.7/dist-packages (from quandl) (8.12.0)\n",
            "Requirement already satisfied: six in /usr/local/lib/python3.7/dist-packages (from quandl) (1.15.0)\n",
            "Requirement already satisfied: pytz>=2017.3 in /usr/local/lib/python3.7/dist-packages (from pandas>=0.14->quandl) (2018.9)\n",
            "Requirement already satisfied: urllib3!=1.25.0,!=1.25.1,<1.26,>=1.21.1 in /usr/local/lib/python3.7/dist-packages (from requests>=2.7.0->quandl) (1.24.3)\n",
            "Requirement already satisfied: certifi>=2017.4.17 in /usr/local/lib/python3.7/dist-packages (from requests>=2.7.0->quandl) (2021.10.8)\n",
            "Requirement already satisfied: chardet<4,>=3.0.2 in /usr/local/lib/python3.7/dist-packages (from requests>=2.7.0->quandl) (3.0.4)\n",
            "Requirement already satisfied: idna<3,>=2.5 in /usr/local/lib/python3.7/dist-packages (from requests>=2.7.0->quandl) (2.10)\n",
            "Installing collected packages: inflection, quandl\n",
            "Successfully installed inflection-0.5.1 quandl-3.7.0\n"
          ]
        }
      ]
    },
    {
      "cell_type": "code",
      "source": [
        "import quandl\n",
        "quandl.ApiConfig.api_key = \"q5heqTn2ya382eymzEeG\""
      ],
      "metadata": {
        "id": "xEcFVtBWncpG"
      },
      "execution_count": 27,
      "outputs": []
    },
    {
      "cell_type": "markdown",
      "source": [
        "We will create a Series named \"aapl\" whose values are Apple's daily closing prices, which are of course indexed by dates:"
      ],
      "metadata": {
        "id": "ypo3rZVxn4jB"
      }
    },
    {
      "cell_type": "code",
      "source": [
        "aapl_table = quandl.get('WIKI/AAPL')\n",
        "aapl = aapl_table['Adj. Close']['2017']\n",
        "print (aapl)"
      ],
      "metadata": {
        "colab": {
          "base_uri": "https://localhost:8080/"
        },
        "id": "87WZ2pSRn5QY",
        "outputId": "bac1ca7e-ab4a-4374-af43-8963bbb581fd"
      },
      "execution_count": 28,
      "outputs": [
        {
          "output_type": "stream",
          "name": "stdout",
          "text": [
            "Date\n",
            "2017-01-03    114.715378\n",
            "2017-01-04    114.586983\n",
            "2017-01-05    115.169696\n",
            "2017-01-06    116.453639\n",
            "2017-01-09    117.520300\n",
            "                 ...    \n",
            "2017-12-22    175.010000\n",
            "2017-12-26    170.570000\n",
            "2017-12-27    170.600000\n",
            "2017-12-28    171.080000\n",
            "2017-12-29    169.230000\n",
            "Name: Adj. Close, Length: 249, dtype: float64\n"
          ]
        }
      ]
    },
    {
      "cell_type": "markdown",
      "source": [
        "Recall that we can fetch a specific data point using series['yyyy-mm-dd']. We can also fetch the data in a specific month using series['yyyy-mm']"
      ],
      "metadata": {
        "id": "CgYlOppMoGAQ"
      }
    },
    {
      "cell_type": "code",
      "source": [
        "print (aapl['2017-3'])"
      ],
      "metadata": {
        "colab": {
          "base_uri": "https://localhost:8080/"
        },
        "id": "0KfGplEsoKZV",
        "outputId": "30b9e8e3-dae1-4698-a8db-05e57277f250"
      },
      "execution_count": 29,
      "outputs": [
        {
          "output_type": "stream",
          "name": "stdout",
          "text": [
            "Date\n",
            "2017-03-01    138.657681\n",
            "2017-03-02    137.834404\n",
            "2017-03-03    138.647762\n",
            "2017-03-06    138.211326\n",
            "2017-03-07    138.389868\n",
            "2017-03-08    137.874080\n",
            "2017-03-09    137.556672\n",
            "2017-03-10    138.012946\n",
            "2017-03-13    138.072460\n",
            "2017-03-14    137.864161\n",
            "2017-03-15    139.322254\n",
            "2017-03-16    139.550391\n",
            "2017-03-17    138.856061\n",
            "2017-03-20    140.314154\n",
            "2017-03-21    138.707276\n",
            "2017-03-22    140.274478\n",
            "2017-03-23    139.778528\n",
            "2017-03-24    139.500796\n",
            "2017-03-27    139.738852\n",
            "2017-03-28    142.635200\n",
            "2017-03-29    142.952608\n",
            "2017-03-30    142.764147\n",
            "2017-03-31    142.496334\n",
            "Name: Adj. Close, dtype: float64\n"
          ]
        }
      ]
    },
    {
      "cell_type": "markdown",
      "source": [
        "###My example 71"
      ],
      "metadata": {
        "id": "UP9i_GfiqISF"
      }
    },
    {
      "cell_type": "code",
      "source": [
        "print (aapl['2017-4'])"
      ],
      "metadata": {
        "colab": {
          "base_uri": "https://localhost:8080/"
        },
        "id": "RFWtwu-8qMCY",
        "outputId": "de956759-9f2c-4c49-9bfe-7615f6fdab1d"
      },
      "execution_count": 30,
      "outputs": [
        {
          "output_type": "stream",
          "name": "stdout",
          "text": [
            "Date\n",
            "2017-04-03    142.536010\n",
            "2017-04-04    143.597342\n",
            "2017-04-05    142.853418\n",
            "2017-04-06    142.496334\n",
            "2017-04-07    142.178926\n",
            "2017-04-10    142.010303\n",
            "2017-04-11    140.482777\n",
            "2017-04-12    140.651400\n",
            "2017-04-13    139.907475\n",
            "2017-04-17    140.681157\n",
            "2017-04-18    140.056260\n",
            "2017-04-19    139.540472\n",
            "2017-04-20    141.286216\n",
            "2017-04-21    141.117593\n",
            "2017-04-24    142.476496\n",
            "2017-04-25    143.369205\n",
            "2017-04-26    142.487208\n",
            "2017-04-27    142.625281\n",
            "2017-04-28    142.486415\n",
            "Name: Adj. Close, dtype: float64\n"
          ]
        }
      ]
    },
    {
      "cell_type": "markdown",
      "source": [
        "###My example 72"
      ],
      "metadata": {
        "id": "cI33-u8MqY7a"
      }
    },
    {
      "cell_type": "code",
      "source": [
        "print (aapl['2017-4-4'])"
      ],
      "metadata": {
        "colab": {
          "base_uri": "https://localhost:8080/"
        },
        "id": "dnEsP-EbqdDK",
        "outputId": "00c8bbf9-1975-4b8c-c0f9-c1ca0f46091f"
      },
      "execution_count": 31,
      "outputs": [
        {
          "output_type": "stream",
          "name": "stdout",
          "text": [
            "143.59734244423\n"
          ]
        }
      ]
    },
    {
      "cell_type": "markdown",
      "source": [
        "Or in several consecutive months:"
      ],
      "metadata": {
        "id": "fTNwHlnOqlGZ"
      }
    },
    {
      "cell_type": "code",
      "source": [
        "aapl['2017-2':'2017-4']"
      ],
      "metadata": {
        "colab": {
          "base_uri": "https://localhost:8080/"
        },
        "id": "HIcl8FTbql8X",
        "outputId": "e392cf9a-0c53-463c-ddad-72766f417bac"
      },
      "execution_count": 32,
      "outputs": [
        {
          "output_type": "execute_result",
          "data": {
            "text/plain": [
              "Date\n",
              "2017-02-01    127.159749\n",
              "2017-02-02    126.942467\n",
              "2017-02-03    127.485673\n",
              "2017-02-06    128.680728\n",
              "2017-02-07    129.905412\n",
              "                 ...    \n",
              "2017-04-24    142.476496\n",
              "2017-04-25    143.369205\n",
              "2017-04-26    142.487208\n",
              "2017-04-27    142.625281\n",
              "2017-04-28    142.486415\n",
              "Name: Adj. Close, Length: 61, dtype: float64"
            ]
          },
          "metadata": {},
          "execution_count": 32
        }
      ]
    },
    {
      "cell_type": "markdown",
      "source": [
        "###My example 73"
      ],
      "metadata": {
        "id": "OZ5oI1Vrqox2"
      }
    },
    {
      "cell_type": "code",
      "source": [
        "aapl['2017-4':'2017-5']"
      ],
      "metadata": {
        "colab": {
          "base_uri": "https://localhost:8080/"
        },
        "id": "jCYT542OqtFH",
        "outputId": "c8cf7a4b-a3d3-4489-a8db-eb081cb6f99e"
      },
      "execution_count": 34,
      "outputs": [
        {
          "output_type": "execute_result",
          "data": {
            "text/plain": [
              "Date\n",
              "2017-04-03    142.536010\n",
              "2017-04-04    143.597342\n",
              "2017-04-05    142.853418\n",
              "2017-04-06    142.496334\n",
              "2017-04-07    142.178926\n",
              "2017-04-10    142.010303\n",
              "2017-04-11    140.482777\n",
              "2017-04-12    140.651400\n",
              "2017-04-13    139.907475\n",
              "2017-04-17    140.681157\n",
              "2017-04-18    140.056260\n",
              "2017-04-19    139.540472\n",
              "2017-04-20    141.286216\n",
              "2017-04-21    141.117593\n",
              "2017-04-24    142.476496\n",
              "2017-04-25    143.369205\n",
              "2017-04-26    142.487208\n",
              "2017-04-27    142.625281\n",
              "2017-04-28    142.486415\n",
              "2017-05-01    145.412519\n",
              "2017-05-02    146.315148\n",
              "2017-05-03    145.868793\n",
              "2017-05-04    145.343086\n",
              "2017-05-05    147.753403\n",
              "2017-05-08    151.760678\n",
              "2017-05-09    152.712902\n",
              "2017-05-10    152.018572\n",
              "2017-05-11    153.327880\n",
              "2017-05-12    155.469192\n",
              "2017-05-15    155.070808\n",
              "2017-05-16    154.841738\n",
              "2017-05-17    149.642832\n",
              "2017-05-18    151.923578\n",
              "2017-05-19    152.341881\n",
              "2017-05-22    153.367718\n",
              "2017-05-23    153.178486\n",
              "2017-05-24    152.720345\n",
              "2017-05-25    153.248203\n",
              "2017-05-26    152.989254\n",
              "2017-05-30    153.049012\n",
              "2017-05-31    152.142689\n",
              "Name: Adj. Close, dtype: float64"
            ]
          },
          "metadata": {},
          "execution_count": 34
        }
      ]
    },
    {
      "cell_type": "markdown",
      "source": [
        ".head(N) and .tail(N) are methods for quickly accessing the first or last N elements."
      ],
      "metadata": {
        "id": "fipooGHgq4Rg"
      }
    },
    {
      "cell_type": "code",
      "source": [
        "print (aapl.head(10))\n",
        "print (aapl.tail(10))"
      ],
      "metadata": {
        "colab": {
          "base_uri": "https://localhost:8080/"
        },
        "id": "vqN82Wmuq5HC",
        "outputId": "ed85d1df-f13b-4a49-85b4-b27efafcf437"
      },
      "execution_count": 36,
      "outputs": [
        {
          "output_type": "stream",
          "name": "stdout",
          "text": [
            "Date\n",
            "2017-01-03    114.715378\n",
            "2017-01-04    114.586983\n",
            "2017-01-05    115.169696\n",
            "2017-01-06    116.453639\n",
            "2017-01-09    117.520300\n",
            "2017-01-10    117.638817\n",
            "2017-01-11    118.270913\n",
            "2017-01-12    117.777088\n",
            "2017-01-13    117.569682\n",
            "2017-01-17    118.517825\n",
            "Name: Adj. Close, dtype: float64\n",
            "Date\n",
            "2017-12-15    173.87\n",
            "2017-12-18    176.42\n",
            "2017-12-19    174.54\n",
            "2017-12-20    174.35\n",
            "2017-12-21    175.01\n",
            "2017-12-22    175.01\n",
            "2017-12-26    170.57\n",
            "2017-12-27    170.60\n",
            "2017-12-28    171.08\n",
            "2017-12-29    169.23\n",
            "Name: Adj. Close, dtype: float64\n"
          ]
        }
      ]
    },
    {
      "cell_type": "markdown",
      "source": [
        "###My example 74"
      ],
      "metadata": {
        "id": "a7pTTbcAshSb"
      }
    },
    {
      "cell_type": "code",
      "source": [
        "print (aapl.head(6))\n",
        "print (aapl.tail(5))"
      ],
      "metadata": {
        "colab": {
          "base_uri": "https://localhost:8080/"
        },
        "id": "XoD8HE_DtzKK",
        "outputId": "c2a81e6d-b701-4b39-fcce-5ab48dcaaefa"
      },
      "execution_count": 39,
      "outputs": [
        {
          "output_type": "stream",
          "name": "stdout",
          "text": [
            "Date\n",
            "2017-01-03    114.715378\n",
            "2017-01-04    114.586983\n",
            "2017-01-05    115.169696\n",
            "2017-01-06    116.453639\n",
            "2017-01-09    117.520300\n",
            "2017-01-10    117.638817\n",
            "Name: Adj. Close, dtype: float64\n",
            "Date\n",
            "2017-12-22    175.01\n",
            "2017-12-26    170.57\n",
            "2017-12-27    170.60\n",
            "2017-12-28    171.08\n",
            "2017-12-29    169.23\n",
            "Name: Adj. Close, dtype: float64\n"
          ]
        }
      ]
    },
    {
      "cell_type": "markdown",
      "source": [
        "###**Resampling**"
      ],
      "metadata": {
        "id": "pDBdkJ6WucXg"
      }
    },
    {
      "cell_type": "markdown",
      "source": [
        "series.resample(freq) is a class called \"DatetimeIndexResampler\" which groups data in a Series object into regular time intervals. The argument \"freq\" determines the length of each interval.\n",
        "\n",
        "series.resample.mean() is a complete statement that groups data into intervals, and then compute the mean of each interval. For example, if we want to aggregate the daily data into monthly data by mean:"
      ],
      "metadata": {
        "id": "odHqpRO6uf0T"
      }
    },
    {
      "cell_type": "code",
      "source": [
        "by_month = aapl.resample('M').mean()\n",
        "print (by_month)"
      ],
      "metadata": {
        "colab": {
          "base_uri": "https://localhost:8080/"
        },
        "id": "Mk4s8fT5uoqC",
        "outputId": "ad2cbbc0-b09e-43ba-c916-55e647f31379"
      },
      "execution_count": 40,
      "outputs": [
        {
          "output_type": "stream",
          "name": "stdout",
          "text": [
            "Date\n",
            "2017-01-31    118.093136\n",
            "2017-02-28    132.456268\n",
            "2017-03-31    139.478802\n",
            "2017-04-30    141.728436\n",
            "2017-05-31    151.386305\n",
            "2017-06-30    147.233064\n",
            "2017-07-31    147.706190\n",
            "2017-08-31    158.856375\n",
            "2017-09-30    157.606500\n",
            "2017-10-31    157.811627\n",
            "2017-11-30    172.214500\n",
            "2017-12-31    171.893100\n",
            "Freq: M, Name: Adj. Close, dtype: float64\n"
          ]
        }
      ]
    },
    {
      "cell_type": "markdown",
      "source": [
        "###My example 75"
      ],
      "metadata": {
        "id": "U8NTsqfuu9JG"
      }
    },
    {
      "cell_type": "code",
      "source": [
        "by_month = aapl.resample('D').mean()\n",
        "print (by_month)"
      ],
      "metadata": {
        "colab": {
          "base_uri": "https://localhost:8080/"
        },
        "id": "99PV-DWrvB_Q",
        "outputId": "f775771c-541a-4663-d076-cd0f1e09a8c2"
      },
      "execution_count": 45,
      "outputs": [
        {
          "output_type": "stream",
          "name": "stdout",
          "text": [
            "Date\n",
            "2017-01-03    114.715378\n",
            "2017-01-04    114.586983\n",
            "2017-01-05    115.169696\n",
            "2017-01-06    116.453639\n",
            "2017-01-07           NaN\n",
            "                 ...    \n",
            "2017-12-25           NaN\n",
            "2017-12-26    170.570000\n",
            "2017-12-27    170.600000\n",
            "2017-12-28    171.080000\n",
            "2017-12-29    169.230000\n",
            "Freq: D, Name: Adj. Close, Length: 361, dtype: float64\n"
          ]
        }
      ]
    },
    {
      "cell_type": "markdown",
      "source": [
        "We can also aggregate the data by week:"
      ],
      "metadata": {
        "id": "qj1QCpo6u2Zy"
      }
    },
    {
      "cell_type": "code",
      "source": [
        "by_week = aapl.resample('W').mean()\n",
        "print (by_week.head())"
      ],
      "metadata": {
        "colab": {
          "base_uri": "https://localhost:8080/"
        },
        "id": "-Gmygi-Cu3to",
        "outputId": "77885948-5efe-4b55-93ce-e6456b3bbd2b"
      },
      "execution_count": 46,
      "outputs": [
        {
          "output_type": "stream",
          "name": "stdout",
          "text": [
            "Date\n",
            "2017-01-08    115.231424\n",
            "2017-01-15    117.755360\n",
            "2017-01-22    118.461035\n",
            "2017-01-29    119.667448\n",
            "2017-02-05    124.313346\n",
            "Freq: W-SUN, Name: Adj. Close, dtype: float64\n"
          ]
        }
      ]
    },
    {
      "cell_type": "markdown",
      "source": [
        "###My example 76"
      ],
      "metadata": {
        "id": "66771JFLvQ2M"
      }
    },
    {
      "cell_type": "code",
      "source": [
        "by_week = aapl.resample('D').mean()\n",
        "print (by_week.head())"
      ],
      "metadata": {
        "colab": {
          "base_uri": "https://localhost:8080/"
        },
        "id": "KECTwbkevTrS",
        "outputId": "621df40e-df5c-49b2-b19f-969092236c82"
      },
      "execution_count": 47,
      "outputs": [
        {
          "output_type": "stream",
          "name": "stdout",
          "text": [
            "Date\n",
            "2017-01-03    114.715378\n",
            "2017-01-04    114.586983\n",
            "2017-01-05    115.169696\n",
            "2017-01-06    116.453639\n",
            "2017-01-07           NaN\n",
            "Freq: D, Name: Adj. Close, dtype: float64\n"
          ]
        }
      ]
    },
    {
      "cell_type": "markdown",
      "source": [
        "We can choose almost any frequency by using the format 'nf', where 'n' is an integer and 'f' is M for month, W for week and D for day."
      ],
      "metadata": {
        "id": "E-xEX-4DvaaN"
      }
    },
    {
      "cell_type": "code",
      "source": [
        "three_day = aapl.resample('3D').mean()\n",
        "two_week  = aapl.resample('2W').mean()\n",
        "two_month = aapl.resample('2M').mean()"
      ],
      "metadata": {
        "id": "nUrg7PksvwKu"
      },
      "execution_count": 48,
      "outputs": []
    },
    {
      "cell_type": "markdown",
      "source": [
        "Besides the mean() method, other methods can also be used with the resampler:"
      ],
      "metadata": {
        "id": "lsvAM66BvyrO"
      }
    },
    {
      "cell_type": "code",
      "source": [
        "std = aapl.resample('W').std()    # standard deviation\n",
        "max = aapl.resample('W').max()    # maximum value\n",
        "min = aapl.resample('W').min()    # minimum value"
      ],
      "metadata": {
        "id": "Syl_pj3-v0VS"
      },
      "execution_count": null,
      "outputs": []
    },
    {
      "cell_type": "markdown",
      "source": [
        "Often we want to calculate monthly returns of a stock, based on prices on the last day of each month. To fetch those prices, we use the series.resample.agg() method:"
      ],
      "metadata": {
        "id": "ljGmZRrdv4GX"
      }
    },
    {
      "cell_type": "code",
      "source": [
        "last_day = aapl.resample('M').agg(lambda x: x[-1])\n",
        "print (last_day)"
      ],
      "metadata": {
        "colab": {
          "base_uri": "https://localhost:8080/"
        },
        "id": "AdrmhDAPv57D",
        "outputId": "2524bace-0bd2-4baf-b50e-93af35f28252"
      },
      "execution_count": 49,
      "outputs": [
        {
          "output_type": "stream",
          "name": "stdout",
          "text": [
            "Date\n",
            "2017-01-31    119.851150\n",
            "2017-02-28    135.880362\n",
            "2017-03-31    142.496334\n",
            "2017-04-30    142.486415\n",
            "2017-05-31    152.142689\n",
            "2017-06-30    143.438008\n",
            "2017-07-31    148.248489\n",
            "2017-08-31    164.000000\n",
            "2017-09-30    154.120000\n",
            "2017-10-31    169.040000\n",
            "2017-11-30    171.850000\n",
            "2017-12-31    169.230000\n",
            "Freq: M, Name: Adj. Close, dtype: float64\n"
          ]
        }
      ]
    },
    {
      "cell_type": "markdown",
      "source": [
        "###My example 77"
      ],
      "metadata": {
        "id": "zsFImJTVv__M"
      }
    },
    {
      "cell_type": "code",
      "source": [
        "last_day = aapl.resample('W').agg(lambda x: x[-1])\n",
        "print (last_day)"
      ],
      "metadata": {
        "colab": {
          "base_uri": "https://localhost:8080/"
        },
        "id": "pJroopsnwFGG",
        "outputId": "1f405f43-544c-42fd-cdca-d5981bc0350f"
      },
      "execution_count": 50,
      "outputs": [
        {
          "output_type": "stream",
          "name": "stdout",
          "text": [
            "Date\n",
            "2017-01-08    116.453639\n",
            "2017-01-15    117.569682\n",
            "2017-01-22    118.517825\n",
            "2017-01-29    120.443739\n",
            "2017-02-05    127.485673\n",
            "2017-02-12    131.049809\n",
            "2017-02-19    134.620649\n",
            "2017-02-26    135.553035\n",
            "2017-03-05    138.647762\n",
            "2017-03-12    138.012946\n",
            "2017-03-19    138.856061\n",
            "2017-03-26    139.500796\n",
            "2017-04-02    142.496334\n",
            "2017-04-09    142.178926\n",
            "2017-04-16    139.907475\n",
            "2017-04-23    141.117593\n",
            "2017-04-30    142.486415\n",
            "2017-05-07    147.753403\n",
            "2017-05-14    155.469192\n",
            "2017-05-21    152.341881\n",
            "2017-05-28    152.989254\n",
            "2017-06-04    154.821818\n",
            "2017-06-11    148.377964\n",
            "2017-06-18    141.695080\n",
            "2017-06-25    145.758592\n",
            "2017-07-02    143.438008\n",
            "2017-07-09    143.597361\n",
            "2017-07-16    148.437722\n",
            "2017-07-23    149.662751\n",
            "2017-07-30    148.895863\n",
            "2017-08-06    155.758020\n",
            "2017-08-13    157.480000\n",
            "2017-08-20    157.500000\n",
            "2017-08-27    159.860000\n",
            "2017-09-03    164.050000\n",
            "2017-09-10    158.630000\n",
            "2017-09-17    159.880000\n",
            "2017-09-24    151.890000\n",
            "2017-10-01    154.120000\n",
            "2017-10-08    155.300000\n",
            "2017-10-15    156.990000\n",
            "2017-10-22    156.160000\n",
            "2017-10-29    163.050000\n",
            "2017-11-05    172.500000\n",
            "2017-11-12    174.670000\n",
            "2017-11-19    170.150000\n",
            "2017-11-26    174.970000\n",
            "2017-12-03    171.050000\n",
            "2017-12-10    169.370000\n",
            "2017-12-17    173.870000\n",
            "2017-12-24    175.010000\n",
            "2017-12-31    169.230000\n",
            "Freq: W-SUN, Name: Adj. Close, dtype: float64\n"
          ]
        }
      ]
    },
    {
      "cell_type": "markdown",
      "source": [
        "Or directly calculate the monthly rates of return using the data for the first day and the last day:"
      ],
      "metadata": {
        "id": "qwPA5hFdwOkR"
      }
    },
    {
      "cell_type": "code",
      "source": [
        "monthly_return = aapl.resample('M').agg(lambda x: x[-1]/x[1] - 1)\n",
        "print (monthly_return)"
      ],
      "metadata": {
        "colab": {
          "base_uri": "https://localhost:8080/"
        },
        "id": "PGceQ1ewwQti",
        "outputId": "1293838c-ba37-490f-9e49-b7805c0acd0f"
      },
      "execution_count": 58,
      "outputs": [
        {
          "output_type": "stream",
          "name": "stdout",
          "text": [
            "Date\n",
            "2017-01-31    0.045940\n",
            "2017-02-28    0.070409\n",
            "2017-03-31    0.033823\n",
            "2017-04-30   -0.007736\n",
            "2017-05-31    0.039829\n",
            "2017-06-30   -0.073528\n",
            "2017-07-31    0.033035\n",
            "2017-08-31    0.047890\n",
            "2017-09-30   -0.049112\n",
            "2017-10-31    0.094252\n",
            "2017-11-30    0.022247\n",
            "2017-12-31   -0.003357\n",
            "Freq: M, Name: Adj. Close, dtype: float64\n"
          ]
        }
      ]
    },
    {
      "cell_type": "markdown",
      "source": [
        "###My example 78"
      ],
      "metadata": {
        "id": "327P0VT5wc1m"
      }
    },
    {
      "cell_type": "code",
      "source": [
        "monthli_return = aapl.resample('W').agg(lambda x: x[-1]/x[1] - 1)\n",
        "print (monthli_return)"
      ],
      "metadata": {
        "colab": {
          "base_uri": "https://localhost:8080/"
        },
        "id": "Hae5wAEHweIp",
        "outputId": "c27f7fd9-be1e-4222-d31e-b8770868e736"
      },
      "execution_count": 57,
      "outputs": [
        {
          "output_type": "stream",
          "name": "stdout",
          "text": [
            "Date\n",
            "2017-01-08    0.016290\n",
            "2017-01-15   -0.000588\n",
            "2017-01-22    0.000083\n",
            "2017-01-29    0.016504\n",
            "2017-02-05    0.063700\n",
            "2017-02-12    0.008809\n",
            "2017-02-19    0.005184\n",
            "2017-02-26   -0.003282\n",
            "2017-03-05    0.020366\n",
            "2017-03-12   -0.002724\n",
            "2017-03-19    0.007195\n",
            "2017-03-26    0.005721\n",
            "2017-04-02   -0.000974\n",
            "2017-04-09   -0.009878\n",
            "2017-04-16   -0.004095\n",
            "2017-04-23    0.007578\n",
            "2017-04-30   -0.006157\n",
            "2017-05-07    0.009830\n",
            "2017-05-14    0.018049\n",
            "2017-05-21   -0.016145\n",
            "2017-05-28   -0.001235\n",
            "2017-06-04    0.017609\n",
            "2017-06-11   -0.035416\n",
            "2017-06-18   -0.029470\n",
            "2017-06-25    0.009241\n",
            "2017-07-02    0.001948\n",
            "2017-07-09    0.000625\n",
            "2017-07-16    0.024119\n",
            "2017-07-23    0.001266\n",
            "2017-07-30   -0.021213\n",
            "2017-08-06    0.042253\n",
            "2017-08-13   -0.018260\n",
            "2017-08-20   -0.025371\n",
            "2017-08-27    0.000501\n",
            "2017-09-03    0.006998\n",
            "2017-09-10   -0.020258\n",
            "2017-09-17   -0.005845\n",
            "2017-09-24   -0.043092\n",
            "2017-10-01    0.006399\n",
            "2017-10-08    0.005308\n",
            "2017-10-15    0.006992\n",
            "2017-10-22   -0.026859\n",
            "2017-10-29    0.037874\n",
            "2017-11-05    0.020469\n",
            "2017-11-12   -0.000801\n",
            "2017-11-19   -0.006945\n",
            "2017-11-26    0.010569\n",
            "2017-12-03   -0.011672\n",
            "2017-12-10   -0.001592\n",
            "2017-12-17    0.012638\n",
            "2017-12-24    0.002693\n",
            "2017-12-31   -0.008030\n",
            "Freq: W-SUN, Name: Adj. Close, dtype: float64\n"
          ]
        }
      ]
    },
    {
      "cell_type": "markdown",
      "source": [
        "Series object also provides us some convenient methods to do some quick calculation."
      ],
      "metadata": {
        "id": "GWdoeTvvwlSU"
      }
    },
    {
      "cell_type": "code",
      "source": [
        "print (monthly_return.mean())\n",
        "print (monthly_return.std())\n",
        "print (monthly_return.max())"
      ],
      "metadata": {
        "colab": {
          "base_uri": "https://localhost:8080/"
        },
        "id": "KrlsDf0xwmBA",
        "outputId": "38c87578-09ea-4a1e-9dcd-658c337d2455"
      },
      "execution_count": 63,
      "outputs": [
        {
          "output_type": "stream",
          "name": "stdout",
          "text": [
            "0.02114094011940022\n",
            "0.04775652864223314\n",
            "0.09425168306576914\n"
          ]
        }
      ]
    },
    {
      "cell_type": "markdown",
      "source": [
        "###My example 79"
      ],
      "metadata": {
        "id": "G1FHDtwNxI5i"
      }
    },
    {
      "cell_type": "code",
      "source": [
        "print (monthli_return.mean())\n",
        "print (monthli_return.std())\n",
        "print (monthli_return.max())"
      ],
      "metadata": {
        "colab": {
          "base_uri": "https://localhost:8080/"
        },
        "id": "BbwrvKN3xLlb",
        "outputId": "88feec76-60f8-40e9-d8a4-47de727b0764"
      },
      "execution_count": 64,
      "outputs": [
        {
          "output_type": "stream",
          "name": "stdout",
          "text": [
            "0.0016713417417660475\n",
            "0.01871361094465892\n",
            "0.06370004120314543\n"
          ]
        }
      ]
    },
    {
      "cell_type": "markdown",
      "source": [
        "Another two methods frequently used on Series are .diff() and .pct_change(). The former calculates the difference between consecutive elements, and the latter calculates the percentage change"
      ],
      "metadata": {
        "id": "6N4lzEkkxSF6"
      }
    },
    {
      "cell_type": "code",
      "source": [
        "print (last_day.diff())\n",
        "print (last_day.pct_change())"
      ],
      "metadata": {
        "colab": {
          "base_uri": "https://localhost:8080/"
        },
        "id": "Duk7NKtnxT9s",
        "outputId": "b2577dae-e38d-4832-d666-3b990389fde9"
      },
      "execution_count": 65,
      "outputs": [
        {
          "output_type": "stream",
          "name": "stdout",
          "text": [
            "Date\n",
            "2017-01-08         NaN\n",
            "2017-01-15    1.116043\n",
            "2017-01-22    0.948143\n",
            "2017-01-29    1.925915\n",
            "2017-02-05    7.041934\n",
            "2017-02-12    3.564136\n",
            "2017-02-19    3.570839\n",
            "2017-02-26    0.932386\n",
            "2017-03-05    3.094728\n",
            "2017-03-12   -0.634816\n",
            "2017-03-19    0.843115\n",
            "2017-03-26    0.644735\n",
            "2017-04-02    2.995538\n",
            "2017-04-09   -0.317408\n",
            "2017-04-16   -2.271451\n",
            "2017-04-23    1.210118\n",
            "2017-04-30    1.368822\n",
            "2017-05-07    5.266988\n",
            "2017-05-14    7.715789\n",
            "2017-05-21   -3.127311\n",
            "2017-05-28    0.647373\n",
            "2017-06-04    1.832564\n",
            "2017-06-11   -6.443854\n",
            "2017-06-18   -6.682885\n",
            "2017-06-25    4.063513\n",
            "2017-07-02   -2.320584\n",
            "2017-07-09    0.159353\n",
            "2017-07-16    4.840360\n",
            "2017-07-23    1.225030\n",
            "2017-07-30   -0.766888\n",
            "2017-08-06    6.862157\n",
            "2017-08-13    1.721980\n",
            "2017-08-20    0.020000\n",
            "2017-08-27    2.360000\n",
            "2017-09-03    4.190000\n",
            "2017-09-10   -5.420000\n",
            "2017-09-17    1.250000\n",
            "2017-09-24   -7.990000\n",
            "2017-10-01    2.230000\n",
            "2017-10-08    1.180000\n",
            "2017-10-15    1.690000\n",
            "2017-10-22   -0.830000\n",
            "2017-10-29    6.890000\n",
            "2017-11-05    9.450000\n",
            "2017-11-12    2.170000\n",
            "2017-11-19   -4.520000\n",
            "2017-11-26    4.820000\n",
            "2017-12-03   -3.920000\n",
            "2017-12-10   -1.680000\n",
            "2017-12-17    4.500000\n",
            "2017-12-24    1.140000\n",
            "2017-12-31   -5.780000\n",
            "Freq: W-SUN, Name: Adj. Close, dtype: float64\n",
            "Date\n",
            "2017-01-08         NaN\n",
            "2017-01-15    0.009584\n",
            "2017-01-22    0.008065\n",
            "2017-01-29    0.016250\n",
            "2017-02-05    0.058467\n",
            "2017-02-12    0.027957\n",
            "2017-02-19    0.027248\n",
            "2017-02-26    0.006926\n",
            "2017-03-05    0.022830\n",
            "2017-03-12   -0.004579\n",
            "2017-03-19    0.006109\n",
            "2017-03-26    0.004643\n",
            "2017-04-02    0.021473\n",
            "2017-04-09   -0.002227\n",
            "2017-04-16   -0.015976\n",
            "2017-04-23    0.008649\n",
            "2017-04-30    0.009700\n",
            "2017-05-07    0.036965\n",
            "2017-05-14    0.052221\n",
            "2017-05-21   -0.020115\n",
            "2017-05-28    0.004249\n",
            "2017-06-04    0.011978\n",
            "2017-06-11   -0.041621\n",
            "2017-06-18   -0.045040\n",
            "2017-06-25    0.028678\n",
            "2017-07-02   -0.015921\n",
            "2017-07-09    0.001111\n",
            "2017-07-16    0.033708\n",
            "2017-07-23    0.008253\n",
            "2017-07-30   -0.005124\n",
            "2017-08-06    0.046087\n",
            "2017-08-13    0.011055\n",
            "2017-08-20    0.000127\n",
            "2017-08-27    0.014984\n",
            "2017-09-03    0.026210\n",
            "2017-09-10   -0.033039\n",
            "2017-09-17    0.007880\n",
            "2017-09-24   -0.049975\n",
            "2017-10-01    0.014682\n",
            "2017-10-08    0.007656\n",
            "2017-10-15    0.010882\n",
            "2017-10-22   -0.005287\n",
            "2017-10-29    0.044121\n",
            "2017-11-05    0.057958\n",
            "2017-11-12    0.012580\n",
            "2017-11-19   -0.025877\n",
            "2017-11-26    0.028328\n",
            "2017-12-03   -0.022404\n",
            "2017-12-10   -0.009822\n",
            "2017-12-17    0.026569\n",
            "2017-12-24    0.006557\n",
            "2017-12-31   -0.033027\n",
            "Freq: W-SUN, Name: Adj. Close, dtype: float64\n"
          ]
        }
      ]
    },
    {
      "cell_type": "markdown",
      "source": [
        "otice that we induced a NaN value while calculating percentage changes i.e. returns.\n",
        "\n",
        "When dealing with NaN values, we usually either removing the data point or fill it with a specific value. Here we fill it with 0:"
      ],
      "metadata": {
        "id": "fBmV3ShmxeOs"
      }
    },
    {
      "cell_type": "code",
      "source": [
        "daily_return = last_day.pct_change()\n",
        "print (daily_return.fillna(0))"
      ],
      "metadata": {
        "colab": {
          "base_uri": "https://localhost:8080/"
        },
        "id": "6HvRE0vfxgH7",
        "outputId": "ceb35d27-02b1-4eff-b72d-9e7d3b1b4056"
      },
      "execution_count": 66,
      "outputs": [
        {
          "output_type": "stream",
          "name": "stdout",
          "text": [
            "Date\n",
            "2017-01-08    0.000000\n",
            "2017-01-15    0.009584\n",
            "2017-01-22    0.008065\n",
            "2017-01-29    0.016250\n",
            "2017-02-05    0.058467\n",
            "2017-02-12    0.027957\n",
            "2017-02-19    0.027248\n",
            "2017-02-26    0.006926\n",
            "2017-03-05    0.022830\n",
            "2017-03-12   -0.004579\n",
            "2017-03-19    0.006109\n",
            "2017-03-26    0.004643\n",
            "2017-04-02    0.021473\n",
            "2017-04-09   -0.002227\n",
            "2017-04-16   -0.015976\n",
            "2017-04-23    0.008649\n",
            "2017-04-30    0.009700\n",
            "2017-05-07    0.036965\n",
            "2017-05-14    0.052221\n",
            "2017-05-21   -0.020115\n",
            "2017-05-28    0.004249\n",
            "2017-06-04    0.011978\n",
            "2017-06-11   -0.041621\n",
            "2017-06-18   -0.045040\n",
            "2017-06-25    0.028678\n",
            "2017-07-02   -0.015921\n",
            "2017-07-09    0.001111\n",
            "2017-07-16    0.033708\n",
            "2017-07-23    0.008253\n",
            "2017-07-30   -0.005124\n",
            "2017-08-06    0.046087\n",
            "2017-08-13    0.011055\n",
            "2017-08-20    0.000127\n",
            "2017-08-27    0.014984\n",
            "2017-09-03    0.026210\n",
            "2017-09-10   -0.033039\n",
            "2017-09-17    0.007880\n",
            "2017-09-24   -0.049975\n",
            "2017-10-01    0.014682\n",
            "2017-10-08    0.007656\n",
            "2017-10-15    0.010882\n",
            "2017-10-22   -0.005287\n",
            "2017-10-29    0.044121\n",
            "2017-11-05    0.057958\n",
            "2017-11-12    0.012580\n",
            "2017-11-19   -0.025877\n",
            "2017-11-26    0.028328\n",
            "2017-12-03   -0.022404\n",
            "2017-12-10   -0.009822\n",
            "2017-12-17    0.026569\n",
            "2017-12-24    0.006557\n",
            "2017-12-31   -0.033027\n",
            "Freq: W-SUN, Name: Adj. Close, dtype: float64\n"
          ]
        }
      ]
    },
    {
      "cell_type": "markdown",
      "source": [
        "###My example 81"
      ],
      "metadata": {
        "id": "qhcPCfNqxx6t"
      }
    },
    {
      "cell_type": "code",
      "source": [
        "daily_return = last_day.pct_change()\n",
        "print (daily_return.fillna(1))"
      ],
      "metadata": {
        "colab": {
          "base_uri": "https://localhost:8080/"
        },
        "id": "SEludW_Ax0O0",
        "outputId": "fc1701be-1891-4c80-a87a-02b6a242ff12"
      },
      "execution_count": 69,
      "outputs": [
        {
          "output_type": "stream",
          "name": "stdout",
          "text": [
            "Date\n",
            "2017-01-08    1.000000\n",
            "2017-01-15    0.009584\n",
            "2017-01-22    0.008065\n",
            "2017-01-29    0.016250\n",
            "2017-02-05    0.058467\n",
            "2017-02-12    0.027957\n",
            "2017-02-19    0.027248\n",
            "2017-02-26    0.006926\n",
            "2017-03-05    0.022830\n",
            "2017-03-12   -0.004579\n",
            "2017-03-19    0.006109\n",
            "2017-03-26    0.004643\n",
            "2017-04-02    0.021473\n",
            "2017-04-09   -0.002227\n",
            "2017-04-16   -0.015976\n",
            "2017-04-23    0.008649\n",
            "2017-04-30    0.009700\n",
            "2017-05-07    0.036965\n",
            "2017-05-14    0.052221\n",
            "2017-05-21   -0.020115\n",
            "2017-05-28    0.004249\n",
            "2017-06-04    0.011978\n",
            "2017-06-11   -0.041621\n",
            "2017-06-18   -0.045040\n",
            "2017-06-25    0.028678\n",
            "2017-07-02   -0.015921\n",
            "2017-07-09    0.001111\n",
            "2017-07-16    0.033708\n",
            "2017-07-23    0.008253\n",
            "2017-07-30   -0.005124\n",
            "2017-08-06    0.046087\n",
            "2017-08-13    0.011055\n",
            "2017-08-20    0.000127\n",
            "2017-08-27    0.014984\n",
            "2017-09-03    0.026210\n",
            "2017-09-10   -0.033039\n",
            "2017-09-17    0.007880\n",
            "2017-09-24   -0.049975\n",
            "2017-10-01    0.014682\n",
            "2017-10-08    0.007656\n",
            "2017-10-15    0.010882\n",
            "2017-10-22   -0.005287\n",
            "2017-10-29    0.044121\n",
            "2017-11-05    0.057958\n",
            "2017-11-12    0.012580\n",
            "2017-11-19   -0.025877\n",
            "2017-11-26    0.028328\n",
            "2017-12-03   -0.022404\n",
            "2017-12-10   -0.009822\n",
            "2017-12-17    0.026569\n",
            "2017-12-24    0.006557\n",
            "2017-12-31   -0.033027\n",
            "Freq: W-SUN, Name: Adj. Close, dtype: float64\n"
          ]
        }
      ]
    },
    {
      "cell_type": "markdown",
      "source": [
        "###My example 80"
      ],
      "metadata": {
        "id": "XmV9MkyXxlFM"
      }
    },
    {
      "cell_type": "code",
      "source": [
        "daily_return = last_day.pct_change()\n",
        "print (daily_return.fillna(2))"
      ],
      "metadata": {
        "colab": {
          "base_uri": "https://localhost:8080/"
        },
        "id": "8WGX1J1AxqbT",
        "outputId": "ca1c8a66-131c-469f-ce60-ccca514611f9"
      },
      "execution_count": 68,
      "outputs": [
        {
          "output_type": "stream",
          "name": "stdout",
          "text": [
            "Date\n",
            "2017-01-08    2.000000\n",
            "2017-01-15    0.009584\n",
            "2017-01-22    0.008065\n",
            "2017-01-29    0.016250\n",
            "2017-02-05    0.058467\n",
            "2017-02-12    0.027957\n",
            "2017-02-19    0.027248\n",
            "2017-02-26    0.006926\n",
            "2017-03-05    0.022830\n",
            "2017-03-12   -0.004579\n",
            "2017-03-19    0.006109\n",
            "2017-03-26    0.004643\n",
            "2017-04-02    0.021473\n",
            "2017-04-09   -0.002227\n",
            "2017-04-16   -0.015976\n",
            "2017-04-23    0.008649\n",
            "2017-04-30    0.009700\n",
            "2017-05-07    0.036965\n",
            "2017-05-14    0.052221\n",
            "2017-05-21   -0.020115\n",
            "2017-05-28    0.004249\n",
            "2017-06-04    0.011978\n",
            "2017-06-11   -0.041621\n",
            "2017-06-18   -0.045040\n",
            "2017-06-25    0.028678\n",
            "2017-07-02   -0.015921\n",
            "2017-07-09    0.001111\n",
            "2017-07-16    0.033708\n",
            "2017-07-23    0.008253\n",
            "2017-07-30   -0.005124\n",
            "2017-08-06    0.046087\n",
            "2017-08-13    0.011055\n",
            "2017-08-20    0.000127\n",
            "2017-08-27    0.014984\n",
            "2017-09-03    0.026210\n",
            "2017-09-10   -0.033039\n",
            "2017-09-17    0.007880\n",
            "2017-09-24   -0.049975\n",
            "2017-10-01    0.014682\n",
            "2017-10-08    0.007656\n",
            "2017-10-15    0.010882\n",
            "2017-10-22   -0.005287\n",
            "2017-10-29    0.044121\n",
            "2017-11-05    0.057958\n",
            "2017-11-12    0.012580\n",
            "2017-11-19   -0.025877\n",
            "2017-11-26    0.028328\n",
            "2017-12-03   -0.022404\n",
            "2017-12-10   -0.009822\n",
            "2017-12-17    0.026569\n",
            "2017-12-24    0.006557\n",
            "2017-12-31   -0.033027\n",
            "Freq: W-SUN, Name: Adj. Close, dtype: float64\n"
          ]
        }
      ]
    },
    {
      "cell_type": "markdown",
      "source": [
        "Alternatively, we can fill a NaN with the next fitted value. This is called 'backward fill', or 'bfill' in short"
      ],
      "metadata": {
        "id": "ydIVK-tyxi3_"
      }
    },
    {
      "cell_type": "code",
      "source": [
        "daily_return = last_day.pct_change()\n",
        "print (daily_return.fillna(method = 'bfill'))"
      ],
      "metadata": {
        "colab": {
          "base_uri": "https://localhost:8080/"
        },
        "id": "sIlDJpu1xkS9",
        "outputId": "cd285b47-1c93-49ad-d6d5-27f62c4970a7"
      },
      "execution_count": 70,
      "outputs": [
        {
          "output_type": "stream",
          "name": "stdout",
          "text": [
            "Date\n",
            "2017-01-08    0.009584\n",
            "2017-01-15    0.009584\n",
            "2017-01-22    0.008065\n",
            "2017-01-29    0.016250\n",
            "2017-02-05    0.058467\n",
            "2017-02-12    0.027957\n",
            "2017-02-19    0.027248\n",
            "2017-02-26    0.006926\n",
            "2017-03-05    0.022830\n",
            "2017-03-12   -0.004579\n",
            "2017-03-19    0.006109\n",
            "2017-03-26    0.004643\n",
            "2017-04-02    0.021473\n",
            "2017-04-09   -0.002227\n",
            "2017-04-16   -0.015976\n",
            "2017-04-23    0.008649\n",
            "2017-04-30    0.009700\n",
            "2017-05-07    0.036965\n",
            "2017-05-14    0.052221\n",
            "2017-05-21   -0.020115\n",
            "2017-05-28    0.004249\n",
            "2017-06-04    0.011978\n",
            "2017-06-11   -0.041621\n",
            "2017-06-18   -0.045040\n",
            "2017-06-25    0.028678\n",
            "2017-07-02   -0.015921\n",
            "2017-07-09    0.001111\n",
            "2017-07-16    0.033708\n",
            "2017-07-23    0.008253\n",
            "2017-07-30   -0.005124\n",
            "2017-08-06    0.046087\n",
            "2017-08-13    0.011055\n",
            "2017-08-20    0.000127\n",
            "2017-08-27    0.014984\n",
            "2017-09-03    0.026210\n",
            "2017-09-10   -0.033039\n",
            "2017-09-17    0.007880\n",
            "2017-09-24   -0.049975\n",
            "2017-10-01    0.014682\n",
            "2017-10-08    0.007656\n",
            "2017-10-15    0.010882\n",
            "2017-10-22   -0.005287\n",
            "2017-10-29    0.044121\n",
            "2017-11-05    0.057958\n",
            "2017-11-12    0.012580\n",
            "2017-11-19   -0.025877\n",
            "2017-11-26    0.028328\n",
            "2017-12-03   -0.022404\n",
            "2017-12-10   -0.009822\n",
            "2017-12-17    0.026569\n",
            "2017-12-24    0.006557\n",
            "2017-12-31   -0.033027\n",
            "Freq: W-SUN, Name: Adj. Close, dtype: float64\n"
          ]
        }
      ]
    },
    {
      "cell_type": "markdown",
      "source": [
        "As expected, since there is a 'backward fill' method, there must be a 'forward fill' method, or 'ffill' in short. However we can't use it here because the NaN is the first value.\n",
        "\n",
        "We can also simply remove NaN values by .dropna()"
      ],
      "metadata": {
        "id": "6cgtvRapx_ke"
      }
    },
    {
      "cell_type": "code",
      "source": [
        "daily_return = last_day.pct_change().dropna()\n",
        "print (daily_return)"
      ],
      "metadata": {
        "colab": {
          "base_uri": "https://localhost:8080/"
        },
        "id": "VJOqeuI8yAe7",
        "outputId": "a0d19aa9-5436-4617-cc32-0b1196f4972c"
      },
      "execution_count": 71,
      "outputs": [
        {
          "output_type": "stream",
          "name": "stdout",
          "text": [
            "Date\n",
            "2017-01-15    0.009584\n",
            "2017-01-22    0.008065\n",
            "2017-01-29    0.016250\n",
            "2017-02-05    0.058467\n",
            "2017-02-12    0.027957\n",
            "2017-02-19    0.027248\n",
            "2017-02-26    0.006926\n",
            "2017-03-05    0.022830\n",
            "2017-03-12   -0.004579\n",
            "2017-03-19    0.006109\n",
            "2017-03-26    0.004643\n",
            "2017-04-02    0.021473\n",
            "2017-04-09   -0.002227\n",
            "2017-04-16   -0.015976\n",
            "2017-04-23    0.008649\n",
            "2017-04-30    0.009700\n",
            "2017-05-07    0.036965\n",
            "2017-05-14    0.052221\n",
            "2017-05-21   -0.020115\n",
            "2017-05-28    0.004249\n",
            "2017-06-04    0.011978\n",
            "2017-06-11   -0.041621\n",
            "2017-06-18   -0.045040\n",
            "2017-06-25    0.028678\n",
            "2017-07-02   -0.015921\n",
            "2017-07-09    0.001111\n",
            "2017-07-16    0.033708\n",
            "2017-07-23    0.008253\n",
            "2017-07-30   -0.005124\n",
            "2017-08-06    0.046087\n",
            "2017-08-13    0.011055\n",
            "2017-08-20    0.000127\n",
            "2017-08-27    0.014984\n",
            "2017-09-03    0.026210\n",
            "2017-09-10   -0.033039\n",
            "2017-09-17    0.007880\n",
            "2017-09-24   -0.049975\n",
            "2017-10-01    0.014682\n",
            "2017-10-08    0.007656\n",
            "2017-10-15    0.010882\n",
            "2017-10-22   -0.005287\n",
            "2017-10-29    0.044121\n",
            "2017-11-05    0.057958\n",
            "2017-11-12    0.012580\n",
            "2017-11-19   -0.025877\n",
            "2017-11-26    0.028328\n",
            "2017-12-03   -0.022404\n",
            "2017-12-10   -0.009822\n",
            "2017-12-17    0.026569\n",
            "2017-12-24    0.006557\n",
            "2017-12-31   -0.033027\n",
            "Freq: W-SUN, Name: Adj. Close, dtype: float64\n"
          ]
        }
      ]
    },
    {
      "cell_type": "markdown",
      "source": [
        "#**ataFrame**\n",
        "The **DataFrame** is the most commonly used data structure in Pandas. It is essentially a table, just like an Excel spreadsheet.\n",
        "\n",
        "More precisely, a DataFrame is a collection of Series objects, each of which may contain different data types. A DataFrame can be created from various data types: dictionary, 2-D numpy.ndarray, a Series or another DataFrame.\n",
        "\n",
        "###**Create DataFrames**\n",
        "The most common method of creating a DataFrame is passing a dictionary:"
      ],
      "metadata": {
        "id": "4dEXQzT8yGLV"
      }
    },
    {
      "cell_type": "code",
      "source": [
        "import numpy as np\n",
        "import pandas as pd\n",
        "dict = {'AAPL': [143.5,  144.09, 142.73, 144.18, 143.77],\n",
        "        'GOOG': [898.7,  911.71, 906.69, 918.59, 926.99],\n",
        "        'IBM':  [155.58, 153.67, 152.36, 152.94, 153.49]}\n",
        "dates = pd.date_range('2017-07-03', periods = 5, freq = 'D')\n",
        "df = pd.DataFrame(dict, index = dates)\n",
        "print (df)"
      ],
      "metadata": {
        "colab": {
          "base_uri": "https://localhost:8080/"
        },
        "id": "0TvThmOdyUvu",
        "outputId": "7e743bea-b835-4e95-d76e-567faaa38cbb"
      },
      "execution_count": 126,
      "outputs": [
        {
          "output_type": "stream",
          "name": "stdout",
          "text": [
            "              AAPL    GOOG     IBM\n",
            "2017-07-03  143.50  898.70  155.58\n",
            "2017-07-04  144.09  911.71  153.67\n",
            "2017-07-05  142.73  906.69  152.36\n",
            "2017-07-06  144.18  918.59  152.94\n",
            "2017-07-07  143.77  926.99  153.49\n"
          ]
        }
      ]
    },
    {
      "cell_type": "markdown",
      "source": [
        "###**Manipulating DataFrames**\n",
        "We can fetch values in a DataFrame by columns and index. Each column in a DataFrame is essentially a Pandas Series. We can fetch a column by square brackets: df['column_name']\n",
        "\n",
        "If a column name contains no spaces, then we can also use df.column_name to fetch a column:"
      ],
      "metadata": {
        "id": "JeX03qMVysVq"
      }
    },
    {
      "cell_type": "code",
      "source": [
        "df = aapl_table\n",
        "print (df.Close.tail(5))\n",
        "print (df['Adj. Volume'].tail(5))"
      ],
      "metadata": {
        "colab": {
          "base_uri": "https://localhost:8080/"
        },
        "id": "1qmcFbEjywvA",
        "outputId": "c31fc07e-93bf-47f9-b232-c69514a9de36"
      },
      "execution_count": 84,
      "outputs": [
        {
          "output_type": "stream",
          "name": "stdout",
          "text": [
            "Date\n",
            "2018-03-21    171.270\n",
            "2018-03-22    168.845\n",
            "2018-03-23    164.940\n",
            "2018-03-26    172.770\n",
            "2018-03-27    168.340\n",
            "Name: Close, dtype: float64\n",
            "Date\n",
            "2018-03-21    35247358.0\n",
            "2018-03-22    41051076.0\n",
            "2018-03-23    40248954.0\n",
            "2018-03-26    36272617.0\n",
            "2018-03-27    38962839.0\n",
            "Name: Adj. Volume, dtype: float64\n"
          ]
        }
      ]
    },
    {
      "cell_type": "markdown",
      "source": [
        "###My example 81"
      ],
      "metadata": {
        "id": "ehJAcw7rzWms"
      }
    },
    {
      "cell_type": "code",
      "source": [
        "df = aapl_table\n",
        "print (df.Close.tail(6))\n",
        "print (df['Adj. Volume'].tail(5))"
      ],
      "metadata": {
        "colab": {
          "base_uri": "https://localhost:8080/"
        },
        "id": "sqaVNy6szcW9",
        "outputId": "ba1a23e3-69b0-4c50-9af7-d56ea6be4af6"
      },
      "execution_count": 85,
      "outputs": [
        {
          "output_type": "stream",
          "name": "stdout",
          "text": [
            "Date\n",
            "2018-03-20    175.240\n",
            "2018-03-21    171.270\n",
            "2018-03-22    168.845\n",
            "2018-03-23    164.940\n",
            "2018-03-26    172.770\n",
            "2018-03-27    168.340\n",
            "Name: Close, dtype: float64\n",
            "Date\n",
            "2018-03-21    35247358.0\n",
            "2018-03-22    41051076.0\n",
            "2018-03-23    40248954.0\n",
            "2018-03-26    36272617.0\n",
            "2018-03-27    38962839.0\n",
            "Name: Adj. Volume, dtype: float64\n"
          ]
        }
      ]
    },
    {
      "cell_type": "markdown",
      "source": [
        "All the methods we applied to a Series index such as iloc[], loc[] and resampling methods, can also be applied to a DataFrame:"
      ],
      "metadata": {
        "id": "ElcC96UazoPv"
      }
    },
    {
      "cell_type": "code",
      "source": [
        "aapl_2016 = df['2016']\n",
        "aapl_month = aapl_2016.resample('M').agg(lambda x: x[-1])\n",
        "print (aapl_month)"
      ],
      "metadata": {
        "colab": {
          "base_uri": "https://localhost:8080/"
        },
        "id": "jiINikYPzpyN",
        "outputId": "bad162c4-b976-48ab-9053-4b9464bf7432"
      },
      "execution_count": 86,
      "outputs": [
        {
          "output_type": "stream",
          "name": "stdout",
          "text": [
            "              Open      High     Low   Close      Volume  Ex-Dividend  \\\n",
            "Date                                                                    \n",
            "2016-01-31   94.79   97.3400   94.35   97.34  64416504.0          0.0   \n",
            "2016-02-29   96.86   98.2300   96.65   96.69  35216277.0          0.0   \n",
            "2016-03-31  109.72  109.9000  108.88  108.99  25888449.0          0.0   \n",
            "2016-04-30   93.99   94.7200   92.51   93.74  68531478.0          0.0   \n",
            "2016-05-31   99.60  100.4000   98.82   99.86  42307212.0          0.0   \n",
            "2016-06-30   94.44   95.7700   94.30   95.60  35836356.0          0.0   \n",
            "2016-07-31  104.19  104.5500  103.68  104.21  27733688.0          0.0   \n",
            "2016-08-31  105.66  106.5699  105.64  106.10  29662406.0          0.0   \n",
            "2016-09-30  112.46  113.3700  111.80  113.05  36379106.0          0.0   \n",
            "2016-10-31  113.65  114.2300  113.20  113.54  26419398.0          0.0   \n",
            "2016-11-30  111.56  112.2000  110.27  110.52  36162258.0          0.0   \n",
            "2016-12-31  116.65  117.2000  115.43  115.82  30586265.0          0.0   \n",
            "\n",
            "            Split Ratio   Adj. Open   Adj. High    Adj. Low  Adj. Close  \\\n",
            "Date                                                                      \n",
            "2016-01-31          1.0   91.581233   94.044912   91.156128   94.044912   \n",
            "2016-02-29          1.0   94.084911   95.415659   93.880927   93.919781   \n",
            "2016-03-31          1.0  106.576465  106.751308  105.760531  105.867380   \n",
            "2016-04-30          1.0   91.297138   92.006223   89.859540   91.054300   \n",
            "2016-05-31          1.0   97.337844   98.119674   96.575559   97.591939   \n",
            "2016-06-30          1.0   92.295040   93.594832   92.158220   93.428693   \n",
            "2016-07-31          1.0  101.823594  102.175417  101.325177  101.843140   \n",
            "2016-08-31          1.0  103.816156  104.710177  103.796505  104.248477   \n",
            "2016-09-30          1.0  110.497491  111.391610  109.849008  111.077195   \n",
            "2016-10-31          1.0  111.666724  112.236603  111.224577  111.558644   \n",
            "2016-11-30          1.0  110.182071  110.814166  108.908004  109.154917   \n",
            "2016-12-31          1.0  115.209202  115.752409  114.004271  114.389454   \n",
            "\n",
            "            Adj. Volume  \n",
            "Date                     \n",
            "2016-01-31   64416504.0  \n",
            "2016-02-29   35216277.0  \n",
            "2016-03-31   25888449.0  \n",
            "2016-04-30   68531478.0  \n",
            "2016-05-31   42307212.0  \n",
            "2016-06-30   35836356.0  \n",
            "2016-07-31   27733688.0  \n",
            "2016-08-31   29662406.0  \n",
            "2016-09-30   36379106.0  \n",
            "2016-10-31   26419398.0  \n",
            "2016-11-30   36162258.0  \n",
            "2016-12-31   30586265.0  \n"
          ]
        },
        {
          "output_type": "stream",
          "name": "stderr",
          "text": [
            "/usr/local/lib/python3.7/dist-packages/ipykernel_launcher.py:1: FutureWarning: Indexing a DataFrame with a datetimelike index using a single string to slice the rows, like `frame[string]`, is deprecated and will be removed in a future version. Use `frame.loc[string]` instead.\n",
            "  \"\"\"Entry point for launching an IPython kernel.\n"
          ]
        }
      ]
    },
    {
      "cell_type": "markdown",
      "source": [
        "###My example 82"
      ],
      "metadata": {
        "id": "joi511rMzxEX"
      }
    },
    {
      "cell_type": "code",
      "source": [
        "aapl_2018 = df['2018']\n",
        "aapl_month = aapl_2018.resample('M').agg(lambda x: x[-1])\n",
        "print (aapl_month)"
      ],
      "metadata": {
        "colab": {
          "base_uri": "https://localhost:8080/"
        },
        "id": "lyRmyyX_z1YH",
        "outputId": "a272b7c8-0aa7-4ec9-d479-d585aaf81428"
      },
      "execution_count": 87,
      "outputs": [
        {
          "output_type": "stream",
          "name": "stdout",
          "text": [
            "              Open      High     Low   Close      Volume  Ex-Dividend  \\\n",
            "Date                                                                    \n",
            "2018-01-31  166.87  168.4417  166.50  167.43  30984099.0          0.0   \n",
            "2018-02-28  179.26  180.6150  178.05  178.12  33604574.0          0.0   \n",
            "2018-03-31  173.68  175.1500  166.92  168.34  38962839.0          0.0   \n",
            "\n",
            "            Split Ratio  Adj. Open  Adj. High  Adj. Low  Adj. Close  \\\n",
            "Date                                                                  \n",
            "2018-01-31          1.0     166.87   168.4417    166.50      167.43   \n",
            "2018-02-28          1.0     179.26   180.6150    178.05      178.12   \n",
            "2018-03-31          1.0     173.68   175.1500    166.92      168.34   \n",
            "\n",
            "            Adj. Volume  \n",
            "Date                     \n",
            "2018-01-31   30984099.0  \n",
            "2018-02-28   33604574.0  \n",
            "2018-03-31   38962839.0  \n"
          ]
        },
        {
          "output_type": "stream",
          "name": "stderr",
          "text": [
            "/usr/local/lib/python3.7/dist-packages/ipykernel_launcher.py:1: FutureWarning: Indexing a DataFrame with a datetimelike index using a single string to slice the rows, like `frame[string]`, is deprecated and will be removed in a future version. Use `frame.loc[string]` instead.\n",
            "  \"\"\"Entry point for launching an IPython kernel.\n"
          ]
        }
      ]
    },
    {
      "cell_type": "markdown",
      "source": [
        "We can even specify both rows and columns using loc[]. The row indices and column names are separated by a comma:"
      ],
      "metadata": {
        "id": "13N4fy2Fz756"
      }
    },
    {
      "cell_type": "code",
      "source": [
        "print (aapl_month.loc['2016-03':'2016-06', ['Open', 'High', 'Low', 'Close']])"
      ],
      "metadata": {
        "colab": {
          "base_uri": "https://localhost:8080/"
        },
        "id": "GJwGt2imz-MP",
        "outputId": "fab86e77-0e87-4fc1-8024-4eaf5c752262"
      },
      "execution_count": 88,
      "outputs": [
        {
          "output_type": "stream",
          "name": "stdout",
          "text": [
            "Empty DataFrame\n",
            "Columns: [Open, High, Low, Close]\n",
            "Index: []\n"
          ]
        }
      ]
    },
    {
      "cell_type": "markdown",
      "source": [
        "The subset methods in DataFrame is quite useful. By writing logical statements in square brackets, we can make customized subsets:"
      ],
      "metadata": {
        "id": "aaLg3ss50FQJ"
      }
    },
    {
      "cell_type": "code",
      "source": [
        "#above = aapl_bar[aapl_bar.Close > np.mean(aapl_bar.Close)]\n",
        "#print (above)"
      ],
      "metadata": {
        "id": "pKqhx2Kn0HRe"
      },
      "execution_count": 15,
      "outputs": []
    },
    {
      "cell_type": "markdown",
      "source": [
        "###**Data Validation**\n",
        "As mentioned, all methods that apply to a Series can also be applied to a DataFrame. Here we add a new column to an existing DataFrame:"
      ],
      "metadata": {
        "id": "0tHl4aEv0kFa"
      }
    },
    {
      "cell_type": "code",
      "source": [
        "###aapl_bar['rate_return'] = aapl_bar.Close.pct_change()\n",
        "###print (aapl_bar)"
      ],
      "metadata": {
        "id": "iv8Lv4J50o-8"
      },
      "execution_count": 94,
      "outputs": []
    },
    {
      "cell_type": "markdown",
      "source": [
        "Here the calculation introduced a NaN value. If the DataFrame is large, we would not be able to observe it. isnull() provides a convenient way to check abnormal values"
      ],
      "metadata": {
        "id": "HRgfcrm80xIX"
      }
    },
    {
      "cell_type": "code",
      "source": [
        "#missing = aapl_bar.isnull()\n",
        "#print (missing)\n",
        "#print ('---------------------------------------------')\n",
        "#print (missing.describe())\n"
      ],
      "metadata": {
        "id": "7s6fyge61EvS"
      },
      "execution_count": 93,
      "outputs": []
    },
    {
      "cell_type": "markdown",
      "source": [
        "The row labelled \"unique\" indicates the number of unique values in each column. Since the \"rate_return\" column has 2 unique values, it has at least one missing value.\n",
        "\n",
        "We can deduce the number of missing values by comparing \"count\" with \"freq\". There are 12 counts and 11 False values, so there is one True value which corresponds to the missing value.\n",
        "\n",
        "We can also find the rows with missing values easily:"
      ],
      "metadata": {
        "id": "WQK454z31SAF"
      }
    },
    {
      "cell_type": "code",
      "source": [
        "###print missing[missing.rate_return == True]\n",
        "\n",
        "###             Open   High    Low  Close rate_return\n",
        "###Date\n",
        "###2016-01-31  False  False  False  False        True|"
      ],
      "metadata": {
        "id": "4_iLOkse1T4e"
      },
      "execution_count": 110,
      "outputs": []
    },
    {
      "cell_type": "markdown",
      "source": [
        "Usually when dealing with missing data, we either delete the whole row or fill it with some value. As we introduced in the Series chapter, the same method dropna() and fillna() can be applied to a DataFrame."
      ],
      "metadata": {
        "id": "ypHXhsYW1fw3"
      }
    },
    {
      "cell_type": "code",
      "source": [
        "#drop = aapl_bar.dropna()\n",
        "#print drop\n",
        "##print '\\n--------------------------------------------------\\n'\n",
        "#fill = aapl_bar.fillna(0)\n",
        "#print fill"
      ],
      "metadata": {
        "id": "hLFdyhVo1h-V"
      },
      "execution_count": 109,
      "outputs": []
    },
    {
      "cell_type": "markdown",
      "source": [
        "###**DataFrame Concat**\n",
        "We have seen how to extract a Series from a dataFrame. Now we need to consider how to merge a Series or a DataFrame into another one.\n",
        "\n",
        "In Pandas, the function concat() allows us to merge multiple Series into a DataFrame:"
      ],
      "metadata": {
        "id": "vKOD-6Qr1nYf"
      }
    },
    {
      "cell_type": "code",
      "source": [
        "#s1 = pd.Series([143.5, 144.09, 142.73, 144.18, 143.77], name = 'AAPL')\n",
        "##s2 = pd.Series([898.7, 911.71, 906.69, 918.59, 926.99], name = 'GOOG')\n",
        "#data_frame = pd.concat([s1, s2], axis = 1)\n",
        "#print (data_frame)"
      ],
      "metadata": {
        "id": "q71ENj9D1tZl"
      },
      "execution_count": 108,
      "outputs": []
    },
    {
      "cell_type": "markdown",
      "source": [
        "The \"axis = 1\" parameter will join two DataFrames by columns:"
      ],
      "metadata": {
        "id": "K7f-seWg11qd"
      }
    },
    {
      "cell_type": "code",
      "source": [
        "#log_price = np.log(aapl_bar.Close)\n",
        "#log_price.name = 'log_price'\n",
        "#print log_price\n",
        "#print '\\n--------------------------------------------\\n'\n",
        "#concat = pd.concat([aapl_bar, log_price], axis = 1)\n",
        "#print concat"
      ],
      "metadata": {
        "id": "DyahpEV2131P"
      },
      "execution_count": null,
      "outputs": []
    },
    {
      "cell_type": "markdown",
      "source": [
        "We can also join two DataFrames by rows. Consider these two DataFrames:"
      ],
      "metadata": {
        "id": "jS56tHuy1-XN"
      }
    },
    {
      "cell_type": "code",
      "source": [
        "df_volume = aapl_table.loc['2016-10':'2017-04', ['Volume', 'Split Ratio']].resample('M').agg(lambda x: x[-1])\n",
        "print (df_volume)\n",
        "print ('\\n-------------------------------------------\\n')\n",
        "df_2017 = aapl_table.loc['2016-10':'2017-04', ['Open', 'High', 'Low', 'Close']].resample('M').agg(lambda x: x[-1])\n",
        "print (df_2017)"
      ],
      "metadata": {
        "colab": {
          "base_uri": "https://localhost:8080/"
        },
        "id": "YMq7IoDI2ARp",
        "outputId": "81088462-5226-421e-fe0e-4e1d691716d3"
      },
      "execution_count": 99,
      "outputs": [
        {
          "output_type": "stream",
          "name": "stdout",
          "text": [
            "                Volume  Split Ratio\n",
            "Date                               \n",
            "2016-10-31  26419398.0          1.0\n",
            "2016-11-30  36162258.0          1.0\n",
            "2016-12-31  30586265.0          1.0\n",
            "2017-01-31  49200993.0          1.0\n",
            "2017-02-28  23482860.0          1.0\n",
            "2017-03-31  19661651.0          1.0\n",
            "2017-04-30  20247187.0          1.0\n",
            "\n",
            "-------------------------------------------\n",
            "\n",
            "              Open     High     Low   Close\n",
            "Date                                       \n",
            "2016-10-31  113.65  114.230  113.20  113.54\n",
            "2016-11-30  111.56  112.200  110.27  110.52\n",
            "2016-12-31  116.65  117.200  115.43  115.82\n",
            "2017-01-31  121.15  121.390  120.62  121.35\n",
            "2017-02-28  137.08  137.435  136.70  136.99\n",
            "2017-03-31  143.72  144.270  143.01  143.66\n",
            "2017-04-30  144.09  144.300  143.27  143.65\n"
          ]
        }
      ]
    },
    {
      "cell_type": "markdown",
      "source": [
        "Now we merge the DataFrames with our DataFrame 'aapl_bar'"
      ],
      "metadata": {
        "id": "lgEbftgN2KWu"
      }
    },
    {
      "cell_type": "code",
      "source": [
        "#concat = pd.concat([aapl_bar, df_volume], axis = 1)\n",
        "#print (concat)"
      ],
      "metadata": {
        "id": "t678XBlo2MD7"
      },
      "execution_count": 101,
      "outputs": []
    },
    {
      "cell_type": "markdown",
      "source": [
        "By default the DataFrame are joined with all of the data. This default options results in zero information loss. We can also merge them by intersection, this is called 'inner join':"
      ],
      "metadata": {
        "id": "wgdcMkn22S2t"
      }
    },
    {
      "cell_type": "code",
      "source": [
        "#concat = pd.concat([aapl_bar, df_volume], axis = 1, join = 'inner')\n",
        "#print (concat)"
      ],
      "metadata": {
        "id": "Uwk72lSX2Xf-"
      },
      "execution_count": 104,
      "outputs": []
    },
    {
      "cell_type": "markdown",
      "source": [
        "Only the intersection part was left if use 'inner join' method. Now let's try to append a DataFrame to another one:"
      ],
      "metadata": {
        "id": "epWtakeB2dU6"
      }
    },
    {
      "cell_type": "code",
      "source": [
        "#append = aapl_bar.append(df_2017)\n",
        "#print append"
      ],
      "metadata": {
        "id": "86GuDl5Y2e34"
      },
      "execution_count": null,
      "outputs": []
    },
    {
      "cell_type": "markdown",
      "source": [
        "'Append' is essentially to concat two DataFrames by axis = 0, thus here is an alternative way to append:"
      ],
      "metadata": {
        "id": "SqzOofEQ2nud"
      }
    },
    {
      "cell_type": "code",
      "source": [
        "#concat = pd.concat([aapl_bar, df_2017], axis = 0)\n",
        "#print concat"
      ],
      "metadata": {
        "id": "XtCmjtQf2qdh"
      },
      "execution_count": null,
      "outputs": []
    },
    {
      "cell_type": "markdown",
      "source": [
        "Please note that if the two DataFrame have some columns with the same column names, these columns are considered to be the same and will be merged. It's very important to have the right column names. If we change a column names here:"
      ],
      "metadata": {
        "id": "R4Soissg2uKo"
      }
    },
    {
      "cell_type": "code",
      "source": [
        "#df_2017.columns = ['Change', 'High', 'Low', 'Close']\n",
        "#concat = pd.concat([aapl_bar, df_2017], axis = 0)\n",
        "#print (concat)"
      ],
      "metadata": {
        "id": "HCcHSfJc2v3d"
      },
      "execution_count": 107,
      "outputs": []
    },
    {
      "cell_type": "markdown",
      "source": [
        "Since the column name of 'Open' has been changed, the new DataFrame has an new column named 'Change'.\n",
        "\n",
        "###**Summary**\n",
        "Hereby we introduced the most import part of python: resampling and DataFrame manipulation. We only introduced the most commonly used method in Financial data analysis. There are also many methods used in data mining, which are also beneficial. You can always check the Pandas official documentations for help."
      ],
      "metadata": {
        "id": "X8MJAxsb22Do"
      }
    },
    {
      "cell_type": "markdown",
      "source": [
        "**#TUTORIAL 2**\n",
        "#Quantopian "
      ],
      "metadata": {
        "id": "8d3Qu8PR3hFW"
      }
    },
    {
      "cell_type": "markdown",
      "source": [
        "**Introduction to the Research Environment**\n",
        "\n",
        "The research environment is powered by IPython notebooks, which allow one to perform a great deal of data analysis and statistical validation. We'll demonstrate a few simple techniques here.\n",
        "\n",
        "**Code Cells vs. Text Cells**\n",
        "\n",
        "As you can see, each cell can be either code or text. To select between them, choose from the 'Cell Type' dropdown menu on the top left.\n",
        "\n",
        "Executing a Command\n",
        "A code cell will be evaluated when you press play, or when you press the shortcut, shift-enter. Evaluating a cell evaluates each line of code in sequence, and prints the results of the last line below the cell."
      ],
      "metadata": {
        "id": "ozHXUsuT3qkF"
      }
    },
    {
      "cell_type": "code",
      "source": [
        "2+2"
      ],
      "metadata": {
        "colab": {
          "base_uri": "https://localhost:8080/"
        },
        "id": "-hFAZCHi35bh",
        "outputId": "27869613-861a-49b2-f6aa-084a17f12ccc"
      },
      "execution_count": 111,
      "outputs": [
        {
          "output_type": "execute_result",
          "data": {
            "text/plain": [
              "4"
            ]
          },
          "metadata": {},
          "execution_count": 111
        }
      ]
    },
    {
      "cell_type": "markdown",
      "source": [
        "###My example 83"
      ],
      "metadata": {
        "id": "raNaxk1a3-80"
      }
    },
    {
      "cell_type": "code",
      "source": [
        "4+5"
      ],
      "metadata": {
        "colab": {
          "base_uri": "https://localhost:8080/"
        },
        "id": "DsxYXCsd4Eg-",
        "outputId": "b1a238af-57df-4ad3-c9f1-de1eaca605f8"
      },
      "execution_count": 112,
      "outputs": [
        {
          "output_type": "execute_result",
          "data": {
            "text/plain": [
              "9"
            ]
          },
          "metadata": {},
          "execution_count": 112
        }
      ]
    },
    {
      "cell_type": "markdown",
      "source": [
        "###My example 84"
      ],
      "metadata": {
        "id": "TvLykff_4Gz2"
      }
    },
    {
      "cell_type": "code",
      "source": [
        "46635532+523552365"
      ],
      "metadata": {
        "colab": {
          "base_uri": "https://localhost:8080/"
        },
        "id": "-s_9bwsc4JBf",
        "outputId": "8e77e483-6743-4099-efb3-436df2aadda8"
      },
      "execution_count": 113,
      "outputs": [
        {
          "output_type": "execute_result",
          "data": {
            "text/plain": [
              "570187897"
            ]
          },
          "metadata": {},
          "execution_count": 113
        }
      ]
    },
    {
      "cell_type": "markdown",
      "source": [
        "###My example 85"
      ],
      "metadata": {
        "id": "aEnIuhLC4MTi"
      }
    },
    {
      "cell_type": "code",
      "source": [
        "99999999999999999999+1"
      ],
      "metadata": {
        "colab": {
          "base_uri": "https://localhost:8080/"
        },
        "id": "MdFW4aeS4PJD",
        "outputId": "dc255f26-4b2e-461c-d4cf-6d09464ef621"
      },
      "execution_count": 114,
      "outputs": [
        {
          "output_type": "execute_result",
          "data": {
            "text/plain": [
              "100000000000000000000"
            ]
          },
          "metadata": {},
          "execution_count": 114
        }
      ]
    },
    {
      "cell_type": "markdown",
      "source": [
        "Sometimes there is no result to be printed, as is the case with assignment."
      ],
      "metadata": {
        "id": "8FaYcBMh4ZyD"
      }
    },
    {
      "cell_type": "code",
      "source": [
        "x=2"
      ],
      "metadata": {
        "id": "o9hdiO7-4bTn"
      },
      "execution_count": 115,
      "outputs": []
    },
    {
      "cell_type": "markdown",
      "source": [
        "###My example 86"
      ],
      "metadata": {
        "id": "D7NFIRXL4ePw"
      }
    },
    {
      "cell_type": "code",
      "source": [
        "h=2"
      ],
      "metadata": {
        "id": "_S3wbL954qQ4"
      },
      "execution_count": 116,
      "outputs": []
    },
    {
      "cell_type": "markdown",
      "source": [
        "Remember that only the result from the last line is printed."
      ],
      "metadata": {
        "id": "1jSCQWT14utD"
      }
    },
    {
      "cell_type": "code",
      "source": [
        "2+2\n",
        "3+3"
      ],
      "metadata": {
        "colab": {
          "base_uri": "https://localhost:8080/"
        },
        "id": "jZGjrosM4v7h",
        "outputId": "b3fcc353-8ce1-4282-a2d3-f460ef9447bf"
      },
      "execution_count": 118,
      "outputs": [
        {
          "output_type": "execute_result",
          "data": {
            "text/plain": [
              "6"
            ]
          },
          "metadata": {},
          "execution_count": 118
        }
      ]
    },
    {
      "cell_type": "markdown",
      "source": [
        "###My example 87"
      ],
      "metadata": {
        "id": "QpqE2drr41eB"
      }
    },
    {
      "cell_type": "code",
      "source": [
        "4+4\n",
        "6+2"
      ],
      "metadata": {
        "colab": {
          "base_uri": "https://localhost:8080/"
        },
        "id": "HmIF72PX43xi",
        "outputId": "6520b291-6709-48a9-9d0d-4257f28fcabc"
      },
      "execution_count": 119,
      "outputs": [
        {
          "output_type": "execute_result",
          "data": {
            "text/plain": [
              "8"
            ]
          },
          "metadata": {},
          "execution_count": 119
        }
      ]
    },
    {
      "cell_type": "markdown",
      "source": [
        "However, you can print whichever lines you want using the print statement."
      ],
      "metadata": {
        "id": "ofSc9t0v48qE"
      }
    },
    {
      "cell_type": "code",
      "source": [
        "print(2+2)\n",
        "3+3"
      ],
      "metadata": {
        "colab": {
          "base_uri": "https://localhost:8080/"
        },
        "id": "xMc_RcUj49la",
        "outputId": "d7e8fc69-9512-4138-b599-2178ca472a7f"
      },
      "execution_count": 120,
      "outputs": [
        {
          "output_type": "stream",
          "name": "stdout",
          "text": [
            "4\n"
          ]
        },
        {
          "output_type": "execute_result",
          "data": {
            "text/plain": [
              "6"
            ]
          },
          "metadata": {},
          "execution_count": 120
        }
      ]
    },
    {
      "cell_type": "markdown",
      "source": [
        "###My example 88"
      ],
      "metadata": {
        "id": "b0uS0nqv5BL3"
      }
    },
    {
      "cell_type": "code",
      "source": [
        "print(4+4)\n",
        "6+2"
      ],
      "metadata": {
        "colab": {
          "base_uri": "https://localhost:8080/"
        },
        "id": "sR0gsLp45FAg",
        "outputId": "dfcbec8c-8892-4081-8872-604618735606"
      },
      "execution_count": 121,
      "outputs": [
        {
          "output_type": "stream",
          "name": "stdout",
          "text": [
            "8\n"
          ]
        },
        {
          "output_type": "execute_result",
          "data": {
            "text/plain": [
              "8"
            ]
          },
          "metadata": {},
          "execution_count": 121
        }
      ]
    },
    {
      "cell_type": "markdown",
      "source": [
        "###**Knowing When a Cell is Running**\n",
        "While a cell is running, a [*] will display on the left. When a cell has yet to be executed, [ ] will display. When it has been run, a number will display indicating the order in which it was run during the execution of the notebook [5]. Try on this cell and note it happening."
      ],
      "metadata": {
        "id": "6drtcZPP5MjE"
      }
    },
    {
      "cell_type": "code",
      "source": [
        "#Take some time to run something\n",
        "c = 0\n",
        "for i in range(10000000):\n",
        "    c = c + i\n",
        "c"
      ],
      "metadata": {
        "colab": {
          "base_uri": "https://localhost:8080/"
        },
        "id": "qVVdyMzt5Ub9",
        "outputId": "357ec1e7-26b0-41e2-e424-f3b545005a9d"
      },
      "execution_count": 122,
      "outputs": [
        {
          "output_type": "execute_result",
          "data": {
            "text/plain": [
              "49999995000000"
            ]
          },
          "metadata": {},
          "execution_count": 122
        }
      ]
    },
    {
      "cell_type": "markdown",
      "source": [
        "###My example 89"
      ],
      "metadata": {
        "id": "iRNYCpLW5Zg7"
      }
    },
    {
      "cell_type": "code",
      "source": [
        "#Take some time to run something\n",
        "h = 10\n",
        "for j in range(99999999):\n",
        "    h = h + i\n",
        "h"
      ],
      "metadata": {
        "colab": {
          "base_uri": "https://localhost:8080/"
        },
        "id": "HR7gDKEL5pcH",
        "outputId": "cb1828a2-99b2-411f-f4a1-9cb944b70077"
      },
      "execution_count": 123,
      "outputs": [
        {
          "output_type": "execute_result",
          "data": {
            "text/plain": [
              "999999890000011"
            ]
          },
          "metadata": {},
          "execution_count": 123
        }
      ]
    },
    {
      "cell_type": "markdown",
      "source": [
        "###**Importing Libraries**\n",
        "The vast majority of the time, you'll want to use functions from pre-built libraries. You can't import every library on Quantopian due to security issues, but you can import most of the common scientific ones. Here I import numpy and pandas, the two most common and useful libraries in quant finance. I recommend copying this import statement to every new notebook.\n",
        "\n",
        "Notice that you can rename libraries to whatever you want after importing. The as statement allows this. Here we use np and pd as aliases for numpy and pandas. This is a very common aliasing and will be found in most code snippets around the web. The point behind this is to allow you to type fewer characters when you are frequently accessing these libraries."
      ],
      "metadata": {
        "id": "Wf20EFck6CKS"
      }
    },
    {
      "cell_type": "code",
      "source": [
        "import numpy as np\n",
        "import pandas as pd\n",
        "\n",
        "# This is a plotting library for pretty pictures.\n",
        "import matplotlib.pyplot as plt"
      ],
      "metadata": {
        "id": "xQ75neFE6dxr"
      },
      "execution_count": 154,
      "outputs": []
    },
    {
      "cell_type": "markdown",
      "source": [
        "###**Tab Autocomplete**\n",
        "Pressing tab will give you a list of IPython's best guesses for what you might want to type next. This is incredibly valuable and will save you a lot of time. If there is only one possible option for what you could type next, IPython will fill that in for you. Try pressing tab very frequently, it will seldom fill in anything you don't want, as if there is ambiguity a list will be shown. This is a great way to see what functions are available in a library.\n",
        "\n",
        "Try placing your cursor after the . and pressing tab."
      ],
      "metadata": {
        "id": "lHDiUYx76_XM"
      }
    },
    {
      "cell_type": "code",
      "source": [
        "np.random"
      ],
      "metadata": {
        "colab": {
          "base_uri": "https://localhost:8080/"
        },
        "id": "oNyz_m-M7FYa",
        "outputId": "378b0dcd-93cf-475f-fbfa-23b3a49720f3"
      },
      "execution_count": 130,
      "outputs": [
        {
          "output_type": "execute_result",
          "data": {
            "text/plain": [
              "<module 'numpy.random' from '/usr/local/lib/python3.7/dist-packages/numpy/random/__init__.py'>"
            ]
          },
          "metadata": {},
          "execution_count": 130
        }
      ]
    },
    {
      "cell_type": "markdown",
      "source": [
        "###**Getting Documentation Help**\n",
        "Placing a question mark after a function and executing that line of code will give you the documentation IPython has for that function. It's often best to do this in a new cell, as you avoid re-executing other code and running into bugs."
      ],
      "metadata": {
        "id": "tZc4QvM57MMH"
      }
    },
    {
      "cell_type": "code",
      "source": [
        "np.random.normal"
      ],
      "metadata": {
        "colab": {
          "base_uri": "https://localhost:8080/"
        },
        "id": "CnShKUzE7PjT",
        "outputId": "9d6bd73e-0f8b-4d27-cf28-035cb040eebe"
      },
      "execution_count": 133,
      "outputs": [
        {
          "output_type": "execute_result",
          "data": {
            "text/plain": [
              "<function RandomState.normal>"
            ]
          },
          "metadata": {},
          "execution_count": 133
        }
      ]
    },
    {
      "cell_type": "markdown",
      "source": [
        "###**Sampling**\n",
        "We'll sample some random data using a function from numpy."
      ],
      "metadata": {
        "id": "vpOQ9CMr7WnQ"
      }
    },
    {
      "cell_type": "code",
      "source": [
        "# Sample 100 points with a mean of 0 and an std of 1. This is a standard normal distribution.\n",
        "X = np.random.normal(0, 1, 100)\n",
        "print(x)"
      ],
      "metadata": {
        "colab": {
          "base_uri": "https://localhost:8080/"
        },
        "id": "m8La8axM7bFu",
        "outputId": "05ea17d0-c11c-4d24-b326-005f08c802e2"
      },
      "execution_count": 152,
      "outputs": [
        {
          "output_type": "stream",
          "name": "stdout",
          "text": [
            "2\n"
          ]
        }
      ]
    },
    {
      "cell_type": "markdown",
      "source": [
        "###My example 90"
      ],
      "metadata": {
        "id": "YCnERa0o7oJF"
      }
    },
    {
      "cell_type": "code",
      "source": [
        "h = np.random.normal(0, 1, 10)\n",
        "print(h)"
      ],
      "metadata": {
        "colab": {
          "base_uri": "https://localhost:8080/"
        },
        "id": "CM_kiyYL7rkE",
        "outputId": "9c1eb042-5985-463f-cfcf-10e425ff5e1e"
      },
      "execution_count": 165,
      "outputs": [
        {
          "output_type": "stream",
          "name": "stdout",
          "text": [
            "[ 2.17714137  0.29291538  0.58871037  0.3329881  -1.67053391  1.61840081\n",
            "  0.55590025 -0.70909782  3.22337021  2.15286405]\n"
          ]
        }
      ]
    },
    {
      "cell_type": "markdown",
      "source": [
        "Plotting\n",
        "We can use the plotting library we imported as follows."
      ],
      "metadata": {
        "id": "1VEkOyuO769U"
      }
    },
    {
      "cell_type": "code",
      "source": [
        "plt.plot(X)"
      ],
      "metadata": {
        "colab": {
          "base_uri": "https://localhost:8080/",
          "height": 282
        },
        "id": "EpY0JKd778gq",
        "outputId": "e3090652-a11d-4fc0-88d6-6ba07217fa0b"
      },
      "execution_count": 156,
      "outputs": [
        {
          "output_type": "execute_result",
          "data": {
            "text/plain": [
              "[<matplotlib.lines.Line2D at 0x7f106781d790>]"
            ]
          },
          "metadata": {},
          "execution_count": 156
        },
        {
          "output_type": "display_data",
          "data": {
            "text/plain": [
              "<Figure size 432x288 with 1 Axes>"
            ],
            "image/png": "[encoded data removed]"
          },
          "metadata": {
            "needs_background": "light"
          }
        }
      ]
    },
    {
      "cell_type": "markdown",
      "source": [
        "#**Squelching Line Output**\n",
        "You might have noticed the annoying line of the form [<matplotlib.lines.Line2D at 0x7f72fdbc1710>] before the plots. This is because the .plot function actually produces output. Sometimes we wish not to display output, we can accomplish this with the semi-colon as follows."
      ],
      "metadata": {
        "id": "Y1jVr_-D8mK3"
      }
    },
    {
      "cell_type": "code",
      "source": [
        "plt.plot(X);"
      ],
      "metadata": {
        "colab": {
          "base_uri": "https://localhost:8080/",
          "height": 265
        },
        "id": "devfyQK08pfk",
        "outputId": "121ce8f2-7b9c-476f-8895-f50d6a7641fe"
      },
      "execution_count": 157,
      "outputs": [
        {
          "output_type": "display_data",
          "data": {
            "text/plain": [
              "<Figure size 432x288 with 1 Axes>"
            ],
            "image/png": "[encoded data removed]"
          },
          "metadata": {
            "needs_background": "light"
          }
        }
      ]
    },
    {
      "cell_type": "markdown",
      "source": [
        "###**Adding Axis Labels**\n",
        "No self-respecting quant leaves a graph without labeled axes. Here are some commands to help with that."
      ],
      "metadata": {
        "id": "k8JRY1GB8wYV"
      }
    },
    {
      "cell_type": "code",
      "source": [
        "X = np.random.normal(0, 1, 100)\n",
        "X2 = np.random.normal(0, 1, 100)\n",
        "\n",
        "plt.plot(X);\n",
        "plt.plot(X2);\n",
        "plt.xlabel('Time') # The data we generated is unitless, but don't forget units in general.\n",
        "plt.ylabel('Returns')\n",
        "plt.legend(['X', 'X2']);"
      ],
      "metadata": {
        "colab": {
          "base_uri": "https://localhost:8080/",
          "height": 278
        },
        "id": "80Nebr2M82Dl",
        "outputId": "196b5b99-826c-45b9-d839-6474a03d7746"
      },
      "execution_count": 158,
      "outputs": [
        {
          "output_type": "display_data",
          "data": {
            "text/plain": [
              "<Figure size 432x288 with 1 Axes>"
            ],
            "image/png": "[encoded data removed]"
          },
          "metadata": {
            "needs_background": "light"
          }
        }
      ]
    },
    {
      "cell_type": "markdown",
      "source": [
        "###My example 91"
      ],
      "metadata": {
        "id": "p7LeTWbA9uGt"
      }
    },
    {
      "cell_type": "code",
      "source": [
        "X = np.random.normal(0, 1, 5)\n",
        "X2 = np.random.normal(0, 1, 5)\n",
        "\n",
        "plt.plot(X);\n",
        "plt.plot(X2);\n",
        "plt.xlabel('eje x') # The data we generated is unitless, but don't forget units in general.\n",
        "plt.ylabel('eje y')\n",
        "plt.legend(['X', 'X2'])"
      ],
      "metadata": {
        "colab": {
          "base_uri": "https://localhost:8080/",
          "height": 296
        },
        "id": "XIsUNdIW90ha",
        "outputId": "408ab577-9437-4c00-cbbe-57be86268d3c"
      },
      "execution_count": 162,
      "outputs": [
        {
          "output_type": "execute_result",
          "data": {
            "text/plain": [
              "<matplotlib.legend.Legend at 0x7f10679f5610>"
            ]
          },
          "metadata": {},
          "execution_count": 162
        },
        {
          "output_type": "display_data",
          "data": {
            "text/plain": [
              "<Figure size 432x288 with 1 Axes>"
            ],
            "image/png": "[encoded data removed]"
          },
          "metadata": {
            "needs_background": "light"
          }
        }
      ]
    },
    {
      "cell_type": "markdown",
      "source": [
        "Generating Statistics\n",
        "Let's use numpy to take some simple statistics."
      ],
      "metadata": {
        "id": "lf8s7hBQ-JHw"
      }
    },
    {
      "cell_type": "code",
      "source": [
        "np.mean(X)"
      ],
      "metadata": {
        "colab": {
          "base_uri": "https://localhost:8080/"
        },
        "id": "R9_Nd155-KE8",
        "outputId": "4f096136-99c0-4dfc-daee-aa636496908a"
      },
      "execution_count": 163,
      "outputs": [
        {
          "output_type": "execute_result",
          "data": {
            "text/plain": [
              "0.15364581535208952"
            ]
          },
          "metadata": {},
          "execution_count": 163
        }
      ]
    },
    {
      "cell_type": "code",
      "source": [
        "np.std(X)"
      ],
      "metadata": {
        "colab": {
          "base_uri": "https://localhost:8080/"
        },
        "id": "WKknlbt0-OaB",
        "outputId": "b4d0f74f-f969-4caf-c0d4-d94a1b8a949e"
      },
      "execution_count": 164,
      "outputs": [
        {
          "output_type": "execute_result",
          "data": {
            "text/plain": [
              "0.7073056649275399"
            ]
          },
          "metadata": {},
          "execution_count": 164
        }
      ]
    },
    {
      "cell_type": "markdown",
      "source": [
        "###My example 92"
      ],
      "metadata": {
        "id": "p9Tp6N7M-omC"
      }
    },
    {
      "cell_type": "code",
      "source": [
        "np.mean(h)"
      ],
      "metadata": {
        "colab": {
          "base_uri": "https://localhost:8080/"
        },
        "id": "p5wF7S8x-vbo",
        "outputId": "008c9bc7-3172-455f-b5de-0a533349695a"
      },
      "execution_count": 166,
      "outputs": [
        {
          "output_type": "execute_result",
          "data": {
            "text/plain": [
              "0.8562658804467894"
            ]
          },
          "metadata": {},
          "execution_count": 166
        }
      ]
    },
    {
      "cell_type": "markdown",
      "source": [
        "###My example 93"
      ],
      "metadata": {
        "id": "YoqaOpeC-swP"
      }
    },
    {
      "cell_type": "code",
      "source": [
        "np.std(h)"
      ],
      "metadata": {
        "colab": {
          "base_uri": "https://localhost:8080/"
        },
        "id": "sl6TLHrU-y7s",
        "outputId": "58819d55-75fb-42d0-b4c7-eb5f5cf5a588"
      },
      "execution_count": 167,
      "outputs": [
        {
          "output_type": "execute_result",
          "data": {
            "text/plain": [
              "1.3855677906338506"
            ]
          },
          "metadata": {},
          "execution_count": 167
        }
      ]
    },
    {
      "cell_type": "markdown",
      "source": [
        "###**Getting Real Pricing Data**\n",
        "Randomly sampled data can be great for testing ideas, but let's get some real data. We can use get_pricing to do that. You can use the ? syntax as discussed above to get more information on get_pricing's arguments."
      ],
      "metadata": {
        "id": "c4DCPKQn-3WK"
      }
    },
    {
      "cell_type": "code",
      "source": [
        "!pip install --upgrade pandas-datareader"
      ],
      "metadata": {
        "colab": {
          "base_uri": "https://localhost:8080/"
        },
        "id": "CwWO98sIB5Nq",
        "outputId": "87a26ea0-ea8c-48a9-d1cc-8600386f0764"
      },
      "execution_count": 185,
      "outputs": [
        {
          "output_type": "stream",
          "name": "stdout",
          "text": [
            "Requirement already satisfied: pandas-datareader in /usr/local/lib/python3.7/dist-packages (0.10.0)\n",
            "Requirement already satisfied: lxml in /usr/local/lib/python3.7/dist-packages (from pandas-datareader) (4.2.6)\n",
            "Requirement already satisfied: pandas>=0.23 in /usr/local/lib/python3.7/dist-packages (from pandas-datareader) (1.3.5)\n",
            "Requirement already satisfied: requests>=2.19.0 in /usr/local/lib/python3.7/dist-packages (from pandas-datareader) (2.23.0)\n",
            "Requirement already satisfied: python-dateutil>=2.7.3 in /usr/local/lib/python3.7/dist-packages (from pandas>=0.23->pandas-datareader) (2.8.2)\n",
            "Requirement already satisfied: numpy>=1.17.3 in /usr/local/lib/python3.7/dist-packages (from pandas>=0.23->pandas-datareader) (1.21.5)\n",
            "Requirement already satisfied: pytz>=2017.3 in /usr/local/lib/python3.7/dist-packages (from pandas>=0.23->pandas-datareader) (2018.9)\n",
            "Requirement already satisfied: six>=1.5 in /usr/local/lib/python3.7/dist-packages (from python-dateutil>=2.7.3->pandas>=0.23->pandas-datareader) (1.15.0)\n",
            "Requirement already satisfied: chardet<4,>=3.0.2 in /usr/local/lib/python3.7/dist-packages (from requests>=2.19.0->pandas-datareader) (3.0.4)\n",
            "Requirement already satisfied: urllib3!=1.25.0,!=1.25.1,<1.26,>=1.21.1 in /usr/local/lib/python3.7/dist-packages (from requests>=2.19.0->pandas-datareader) (1.24.3)\n",
            "Requirement already satisfied: idna<3,>=2.5 in /usr/local/lib/python3.7/dist-packages (from requests>=2.19.0->pandas-datareader) (2.10)\n",
            "Requirement already satisfied: certifi>=2017.4.17 in /usr/local/lib/python3.7/dist-packages (from requests>=2.19.0->pandas-datareader) (2021.10.8)\n"
          ]
        }
      ]
    },
    {
      "cell_type": "markdown",
      "source": [
        "###My example 94"
      ],
      "metadata": {
        "id": "EyKyqMLfFyyE"
      }
    },
    {
      "cell_type": "code",
      "source": [
        "import pandas_datareader as pdr\n",
        "import numpy as np\n",
        "import pandas as pd\n",
        "\n",
        "# This is a plotting library for pretty pictures.\n",
        "import matplotlib.pyplot as plt\n",
        "import datetime\n",
        "symbol = \"CMG\"\n",
        "start = \"2012-01-01\"\n",
        "end = \"2016-01-01\"\n",
        "prices = pdr.get_data_yahoo(symbol, start=start, end=end)['Adj Close']"
      ],
      "metadata": {
        "id": "LfldjkJH_sZZ"
      },
      "execution_count": 44,
      "outputs": []
    },
    {
      "cell_type": "markdown",
      "source": [
        "Our data is now a dataframe. You can see the datetime index and the colums with different pricing data."
      ],
      "metadata": {
        "id": "M7KneKVW_8Y1"
      }
    },
    {
      "cell_type": "markdown",
      "source": [
        "Our data is now a dataframe. You can see the datetime index and the colums with different pricing data."
      ],
      "metadata": {
        "id": "9N_HaSC5CXfb"
      }
    },
    {
      "cell_type": "code",
      "source": [
        "prices"
      ],
      "metadata": {
        "colab": {
          "base_uri": "https://localhost:8080/"
        },
        "id": "eKz5UCXeCYdb",
        "outputId": "e4de80b5-fd98-47e1-c709-c779f4bdec66"
      },
      "execution_count": 20,
      "outputs": [
        {
          "output_type": "execute_result",
          "data": {
            "text/plain": [
              "Date\n",
              "2012-01-03    341.269989\n",
              "2012-01-04    348.750000\n",
              "2012-01-05    350.480011\n",
              "2012-01-06    348.950012\n",
              "2012-01-09    339.739990\n",
              "                 ...    \n",
              "2015-12-24    495.100006\n",
              "2015-12-28    493.519989\n",
              "2015-12-29    489.940002\n",
              "2015-12-30    485.790009\n",
              "2015-12-31    479.850006\n",
              "Name: Adj Close, Length: 1006, dtype: float64"
            ]
          },
          "metadata": {},
          "execution_count": 20
        }
      ]
    },
    {
      "cell_type": "markdown",
      "source": [
        "###My example 95"
      ],
      "metadata": {
        "id": "chzhhnrrF3sQ"
      }
    },
    {
      "cell_type": "code",
      "source": [
        "X= prices"
      ],
      "metadata": {
        "id": "7NEid_IBDfDc"
      },
      "execution_count": 23,
      "outputs": []
    },
    {
      "cell_type": "markdown",
      "source": [
        "This is a pandas dataframe, so we can index in to just get price like this. For more info on pandas, please click here."
      ],
      "metadata": {
        "id": "ttrN722NCi9L"
      }
    },
    {
      "cell_type": "markdown",
      "source": [
        "Because there is now also date information in our data, we provide two series to .plot. X.index gives us the datetime index, and X.values gives us the pricing values. These are used as the X and Y coordinates to make a graph."
      ],
      "metadata": {
        "id": "UT--f-p5C6JU"
      }
    },
    {
      "cell_type": "markdown",
      "source": [
        "###My example 96"
      ],
      "metadata": {
        "id": "xU4RNynMF6px"
      }
    },
    {
      "cell_type": "code",
      "source": [
        "plt.plot(X.index, X.values)\n",
        "plt.ylabel(\"prices\")\n",
        "plt.legend(['CMG']);"
      ],
      "metadata": {
        "colab": {
          "base_uri": "https://localhost:8080/",
          "height": 265
        },
        "id": "0oZwqUKZDXZV",
        "outputId": "e1dedc64-a140-4d07-f89c-3f658f4a6326"
      },
      "execution_count": 26,
      "outputs": [
        {
          "output_type": "display_data",
          "data": {
            "text/plain": [
              "<Figure size 432x288 with 1 Axes>"
            ],
            "image/png": "[encoded data removed]"
          },
          "metadata": {
            "needs_background": "light"
          }
        }
      ]
    },
    {
      "cell_type": "markdown",
      "source": [
        "We can get statistics again on real data."
      ],
      "metadata": {
        "id": "lAPdDqdWGAoF"
      }
    },
    {
      "cell_type": "markdown",
      "source": [
        "###My example 97"
      ],
      "metadata": {
        "id": "DUp7P78AGBSU"
      }
    },
    {
      "cell_type": "code",
      "source": [
        "np.mean(X)"
      ],
      "metadata": {
        "colab": {
          "base_uri": "https://localhost:8080/"
        },
        "id": "K_Nxqj1WGFRV",
        "outputId": "8c22d482-daad-472c-f1f7-0fe8f314da4f"
      },
      "execution_count": 27,
      "outputs": [
        {
          "output_type": "execute_result",
          "data": {
            "text/plain": [
              "501.63665038880487"
            ]
          },
          "metadata": {},
          "execution_count": 27
        }
      ]
    },
    {
      "cell_type": "markdown",
      "source": [
        "###My example 98"
      ],
      "metadata": {
        "id": "f_6G_98UGGfk"
      }
    },
    {
      "cell_type": "code",
      "source": [
        "np.std(X)"
      ],
      "metadata": {
        "colab": {
          "base_uri": "https://localhost:8080/"
        },
        "id": "-aY9IyL0GKA-",
        "outputId": "1a9870a1-168f-4b37-ee46-0fd92673b5db"
      },
      "execution_count": 28,
      "outputs": [
        {
          "output_type": "execute_result",
          "data": {
            "text/plain": [
              "146.6158129064512"
            ]
          },
          "metadata": {},
          "execution_count": 28
        }
      ]
    },
    {
      "cell_type": "markdown",
      "source": [
        "#**Getting Returns from Prices**\n",
        "We can use the pct_change function to get returns. Notice how we drop the first element after doing this, as it will be NaN (nothing -> something results in a NaN percent change)."
      ],
      "metadata": {
        "id": "R8xUiSgVGMZF"
      }
    },
    {
      "cell_type": "code",
      "source": [
        "R = X.pct_change()[1:]"
      ],
      "metadata": {
        "id": "t5rgLDqnGRUr"
      },
      "execution_count": 29,
      "outputs": []
    },
    {
      "cell_type": "markdown",
      "source": [
        "We can plot the returns distribution as a histogram."
      ],
      "metadata": {
        "id": "evxXR97pGT4L"
      }
    },
    {
      "cell_type": "markdown",
      "source": [
        "###My example 99"
      ],
      "metadata": {
        "id": "YB5GqAuYGn5I"
      }
    },
    {
      "cell_type": "code",
      "source": [
        "plt.hist(R, bins=20)\n",
        "plt.xlabel('Return')\n",
        "plt.ylabel('Frequency')\n",
        "plt.legend(['CMG Returns']);"
      ],
      "metadata": {
        "colab": {
          "base_uri": "https://localhost:8080/",
          "height": 281
        },
        "id": "GuDJH5hPGVZH",
        "outputId": "fd77fc39-916b-4001-f8c8-46e428325836"
      },
      "execution_count": 33,
      "outputs": [
        {
          "output_type": "display_data",
          "data": {
            "text/plain": [
              "<Figure size 432x288 with 1 Axes>"
            ],
            "image/png": "[encoded data removed]"
          },
          "metadata": {
            "needs_background": "light"
          }
        }
      ]
    },
    {
      "cell_type": "markdown",
      "source": [
        "Get statistics again."
      ],
      "metadata": {
        "id": "ap65RoSgHAyN"
      }
    },
    {
      "cell_type": "markdown",
      "source": [
        "###My example 100"
      ],
      "metadata": {
        "id": "sxqJCvCEHFul"
      }
    },
    {
      "cell_type": "code",
      "source": [
        "np.mean(R)"
      ],
      "metadata": {
        "colab": {
          "base_uri": "https://localhost:8080/"
        },
        "id": "g7vLfMO9HB6A",
        "outputId": "0bd44d77-698f-4806-a7d2-4eac58794c91"
      },
      "execution_count": 36,
      "outputs": [
        {
          "output_type": "execute_result",
          "data": {
            "text/plain": [
              "0.0005395040179378484"
            ]
          },
          "metadata": {},
          "execution_count": 36
        }
      ]
    },
    {
      "cell_type": "markdown",
      "source": [
        "###My example 101"
      ],
      "metadata": {
        "id": "SMit7w6zHI3O"
      }
    },
    {
      "cell_type": "code",
      "source": [
        "np.std(R)"
      ],
      "metadata": {
        "colab": {
          "base_uri": "https://localhost:8080/"
        },
        "id": "MJEK_ecmHDY4",
        "outputId": "4659d052-faa9-4293-eeb4-f4335dfad618"
      },
      "execution_count": 37,
      "outputs": [
        {
          "output_type": "execute_result",
          "data": {
            "text/plain": [
              "0.019857909896717908"
            ]
          },
          "metadata": {},
          "execution_count": 37
        }
      ]
    },
    {
      "cell_type": "markdown",
      "source": [
        "Now let's go backwards and generate data out of a normal distribution using the statistics we estimated from Microsoft's returns. We'll see that we have good reason to suspect Microsoft's returns may not be normal, as the resulting normal distribution looks far different."
      ],
      "metadata": {
        "id": "aKl_5L55HMvF"
      }
    },
    {
      "cell_type": "markdown",
      "source": [
        "My example 102"
      ],
      "metadata": {
        "id": "rvrPfwC1HTDZ"
      }
    },
    {
      "cell_type": "code",
      "source": [
        "plt.hist(np.random.normal(np.mean(R), np.std(R), 10000), bins=20)\n",
        "plt.xlabel('Return')\n",
        "plt.ylabel('Frequency')\n",
        "plt.legend(['Normally Distributed Returns']);"
      ],
      "metadata": {
        "colab": {
          "base_uri": "https://localhost:8080/",
          "height": 278
        },
        "id": "H0Nr9JCEHPH7",
        "outputId": "3ae6307e-03b2-4eb4-aa52-b0d7e7bd203e"
      },
      "execution_count": 38,
      "outputs": [
        {
          "output_type": "display_data",
          "data": {
            "text/plain": [
              "<Figure size 432x288 with 1 Axes>"
            ],
            "image/png": "[encoded data removed]"
          },
          "metadata": {
            "needs_background": "light"
          }
        }
      ]
    },
    {
      "cell_type": "markdown",
      "source": [
        "###**Generating a Moving Average**\n",
        "pandas has some nice tools to allow us to generate rolling statistics. Here's an example. Notice how there's no moving average for the first 60 days, as we don't have 60 days of data on which to generate the statistic."
      ],
      "metadata": {
        "id": "DdnCSvpPHW9m"
      }
    },
    {
      "cell_type": "code",
      "source": [
        "# Take the average of the last 60 days at each timepoint.\n",
        "#MAVG = pd.rolling_mean(X, window=60)\n",
        "##plt.plot(X.index, X.values)\n",
        "#plt.plot(MAVG.index, MAVG.values)\n",
        "##plt.ylabel('Prices')\n",
        "#plt.legend(['CMG', '60-day MAVG']);\n"
      ],
      "metadata": {
        "id": "DtIle68BHbz-"
      },
      "execution_count": 46,
      "outputs": []
    },
    {
      "cell_type": "markdown",
      "source": [
        "This presentation is for informational purposes only and does not constitute an offer to sell, a solicitation to buy, or a recommendation for any security; nor does it constitute an offer to provide investment advisory or other services by Quantopian, Inc. (\"Quantopian\"). Nothing contained herein constitutes investment advice or offers any opinion with respect to the suitability of any security, and any views expressed herein should not be taken as advice to buy, sell, or hold any security or as an endorsement of any security or company. In preparing the information contained herein, Quantopian, Inc. has not taken into account the investment needs, objectives, and financial circumstances of any particular investor. Any views expressed and data illustrated herein were prepared based upon information, believed to be reliable, available to Quantopian, Inc. at the time of publication. Quantopian makes no guarantees as to their accuracy or completeness. All information is subject to change and may quickly become unreliable for various reasons, including changes in market conditions or economic circumstances."
      ],
      "metadata": {
        "id": "CbSLCCZaH13T"
      }
    },
    {
      "cell_type": "markdown",
      "source": [
        "#**Introduction to Python**\n",
        "by Maxwell Margenot\n",
        "\n",
        "Part of the Quantopian Lecture Series"
      ],
      "metadata": {
        "id": "zVKGcPnSI5D4"
      }
    },
    {
      "cell_type": "markdown",
      "source": [
        "All of the coding that you will do on the Quantopian platform will be in Python. It is also just a good, jack-of-all-trades language to know! Here we will provide you with the basics so that you can feel confident going through our other lectures and understanding what is happening.\n",
        "\n",
        "**Code Comments**\n",
        "\n",
        "A comment is a note made by a programmer in the source code of a program. Its purpose is to clarify the source code and make it easier for people to follow along with what is happening. Anything in a comment is generally ignored when the code is actually run, making comments useful for including explanations and reasoning as well as removing specific lines of code that you may be unsure about. Comments in Python are created by using the pound symbol (# Insert Text Here). Including a # in a line of code will comment out anything that follows it."
      ],
      "metadata": {
        "id": "zup40t_JJAls"
      }
    },
    {
      "cell_type": "code",
      "source": [
        "# This is a comment\n",
        "# These lines of code will not change any values\n",
        "# Anything following the first # is not run as code"
      ],
      "metadata": {
        "id": "CJrWXzkbJGbP"
      },
      "execution_count": null,
      "outputs": []
    },
    {
      "cell_type": "markdown",
      "source": [
        "###My example 103"
      ],
      "metadata": {
        "id": "QHApE__LJHJn"
      }
    },
    {
      "cell_type": "code",
      "source": [
        "#esto es el laboratorio 1"
      ],
      "metadata": {
        "id": "PYtnr5D7JMkH"
      },
      "execution_count": 47,
      "outputs": []
    },
    {
      "cell_type": "markdown",
      "source": [
        "You may hear text enclosed in triple quotes (\"\"\" Insert Text Here \"\"\") referred to as multi-line comments, but this is not entirely accurate. This is a special type of string (a data type we will cover), called a docstring, used to explain the purpose of a function."
      ],
      "metadata": {
        "id": "HPafIvBpJVX1"
      }
    },
    {
      "cell_type": "code",
      "source": [
        "\"\"\" This is a special string \"\"\""
      ],
      "metadata": {
        "colab": {
          "base_uri": "https://localhost:8080/",
          "height": 34
        },
        "id": "VW8P3VujJW8P",
        "outputId": "fcf4d04e-9bee-480d-879f-8713681527d1"
      },
      "execution_count": 48,
      "outputs": [
        {
          "output_type": "execute_result",
          "data": {
            "text/plain": [
              "' This is a special string '"
            ],
            "application/vnd.google.colaboratory.intrinsic+json": {
              "type": "string"
            }
          },
          "metadata": {},
          "execution_count": 48
        }
      ]
    },
    {
      "cell_type": "markdown",
      "source": [
        "###My example 104"
      ],
      "metadata": {
        "id": "u1Z8C8wEJ33D"
      }
    },
    {
      "cell_type": "code",
      "source": [
        "\"\"\"esto es un tipo de dato de text0 especial\"\"\""
      ],
      "metadata": {
        "colab": {
          "base_uri": "https://localhost:8080/",
          "height": 34
        },
        "id": "xKP3JBvPJqFh",
        "outputId": "934ad7cb-d235-4102-df0b-171ec07e8216"
      },
      "execution_count": 49,
      "outputs": [
        {
          "output_type": "execute_result",
          "data": {
            "text/plain": [
              "'esto es un tipo de dato de text0 especial'"
            ],
            "application/vnd.google.colaboratory.intrinsic+json": {
              "type": "string"
            }
          },
          "metadata": {},
          "execution_count": 49
        }
      ]
    },
    {
      "cell_type": "markdown",
      "source": [
        "Make sure you read the comments within each code cell (if they are there). They will provide more real-time explanations of what is going on as you look at each line of code."
      ],
      "metadata": {
        "id": "7Y6aBpWcJghW"
      }
    },
    {
      "cell_type": "markdown",
      "source": [
        "###**Variables**\n",
        "Variables provide names for values in programming. If you want to save a value for later or repeated use, you give the value a name, storing the contents in a variable. Variables in programming work in a fundamentally similar way to variables in algebra, but in Python they can take on various different data types.\n",
        "\n",
        "The basic variable types that we will cover in this section are integers, floating point numbers, booleans, and strings.\n",
        "\n",
        "An integer in programming is the same as in mathematics, a round number with no values after the decimal point. We use the built-in print function here to display the values of our variables as well as their types!"
      ],
      "metadata": {
        "id": "0QmFSn_yJ9hh"
      }
    },
    {
      "cell_type": "code",
      "source": [
        "my_integer = 50\n",
        "print (my_integer, type(my_integer))"
      ],
      "metadata": {
        "colab": {
          "base_uri": "https://localhost:8080/"
        },
        "id": "1CRcOi3RKRCl",
        "outputId": "a535cbd4-342d-4397-cae3-c7c38cc82ea1"
      },
      "execution_count": 50,
      "outputs": [
        {
          "output_type": "stream",
          "name": "stdout",
          "text": [
            "50 <class 'int'>\n"
          ]
        }
      ]
    },
    {
      "cell_type": "markdown",
      "source": [
        "###My example 105"
      ],
      "metadata": {
        "id": "i4PRuiU4KUHu"
      }
    },
    {
      "cell_type": "code",
      "source": [
        "my_integer = 999\n",
        "print (my_integer, type(my_integer))"
      ],
      "metadata": {
        "colab": {
          "base_uri": "https://localhost:8080/"
        },
        "id": "UU2V-GDKKbU7",
        "outputId": "5c93564f-6bbb-4dc4-f921-0c10d90c88f0"
      },
      "execution_count": 52,
      "outputs": [
        {
          "output_type": "stream",
          "name": "stdout",
          "text": [
            "999 <class 'int'>\n"
          ]
        }
      ]
    },
    {
      "cell_type": "markdown",
      "source": [
        "###My example 106"
      ],
      "metadata": {
        "id": "uVG2d1KcKf6y"
      }
    },
    {
      "cell_type": "code",
      "source": [
        "mi_entero = 999\n",
        "print (mi_entero, type(mi_entero))"
      ],
      "metadata": {
        "colab": {
          "base_uri": "https://localhost:8080/"
        },
        "id": "hliWZTamKmo8",
        "outputId": "fea5e953-ad03-4905-ba99-a74a4956d017"
      },
      "execution_count": 53,
      "outputs": [
        {
          "output_type": "stream",
          "name": "stdout",
          "text": [
            "999 <class 'int'>\n"
          ]
        }
      ]
    },
    {
      "cell_type": "markdown",
      "source": [
        "Variables, regardless of type, are assigned by using a single equals sign (=). Variables are case-sensitive so any changes in variation in the capitals of a variable name will reference a different variable entirely."
      ],
      "metadata": {
        "id": "UinG7AFMKvHs"
      }
    },
    {
      "cell_type": "code",
      "source": [
        "one = 1\n",
        "print (one)"
      ],
      "metadata": {
        "colab": {
          "base_uri": "https://localhost:8080/"
        },
        "id": "Ug3MP-XrKyQL",
        "outputId": "ba4e6531-1e71-40bd-ec64-385a66fb2e2a"
      },
      "execution_count": 56,
      "outputs": [
        {
          "output_type": "stream",
          "name": "stdout",
          "text": [
            "1\n"
          ]
        }
      ]
    },
    {
      "cell_type": "markdown",
      "source": [
        "###My example 107"
      ],
      "metadata": {
        "id": "unm3MkVPK8uD"
      }
    },
    {
      "cell_type": "code",
      "source": [
        "uno = 1\n",
        "print(uno)"
      ],
      "metadata": {
        "colab": {
          "base_uri": "https://localhost:8080/"
        },
        "id": "OxjSCve3LAEz",
        "outputId": "0e6c9c57-4612-47f6-93ed-7137c5b6a143"
      },
      "execution_count": 58,
      "outputs": [
        {
          "output_type": "stream",
          "name": "stdout",
          "text": [
            "1\n"
          ]
        }
      ]
    },
    {
      "cell_type": "markdown",
      "source": [
        "###My example 108"
      ],
      "metadata": {
        "id": "UxiulC4xLFxZ"
      }
    },
    {
      "cell_type": "code",
      "source": [
        "dos = 2\n",
        "print(dos)"
      ],
      "metadata": {
        "colab": {
          "base_uri": "https://localhost:8080/"
        },
        "id": "wt3qK5frLIpl",
        "outputId": "f03b9864-af86-4671-8e13-9aa7adcaaab5"
      },
      "execution_count": 59,
      "outputs": [
        {
          "output_type": "stream",
          "name": "stdout",
          "text": [
            "2\n"
          ]
        }
      ]
    },
    {
      "cell_type": "markdown",
      "source": [
        "A floating point number, or a float is a fancy name for a real number (again as in mathematics). To define a float, we need to either include a decimal point or specify that the value is a float."
      ],
      "metadata": {
        "id": "eNH5q9kyLNOT"
      }
    },
    {
      "cell_type": "code",
      "source": [
        "my_float = 1.0\n",
        "print (my_float, type(my_float))\n",
        "my_float = float(1)\n",
        "print (my_float, type(my_float))"
      ],
      "metadata": {
        "colab": {
          "base_uri": "https://localhost:8080/"
        },
        "id": "eV1h-dGdLOuL",
        "outputId": "dfaba522-9b86-4019-8dcb-a3098f4d4b8b"
      },
      "execution_count": 60,
      "outputs": [
        {
          "output_type": "stream",
          "name": "stdout",
          "text": [
            "1.0 <class 'float'>\n",
            "1.0 <class 'float'>\n"
          ]
        }
      ]
    },
    {
      "cell_type": "markdown",
      "source": [
        "###My example 109"
      ],
      "metadata": {
        "id": "If6TqJ47LS77"
      }
    },
    {
      "cell_type": "code",
      "source": [
        "my_float = 9.999\n",
        "print (my_float, type(my_float))\n",
        "my_float = float(1)\n",
        "print (my_float, type(my_float))"
      ],
      "metadata": {
        "colab": {
          "base_uri": "https://localhost:8080/"
        },
        "id": "EnWbCuy7LVHN",
        "outputId": "7dea8926-2d4f-42e3-a544-a14d6d0321da"
      },
      "execution_count": 61,
      "outputs": [
        {
          "output_type": "stream",
          "name": "stdout",
          "text": [
            "9.999 <class 'float'>\n",
            "1.0 <class 'float'>\n"
          ]
        }
      ]
    },
    {
      "cell_type": "markdown",
      "source": [
        "###My example 110"
      ],
      "metadata": {
        "id": "5pXLFXQkLzMJ"
      }
    },
    {
      "cell_type": "code",
      "source": [
        "mi_decimal = 9.999\n",
        "print (mi_decimal, type(mi_decimal))\n",
        "mi_decimal = float(10)\n",
        "print (mi_decimal , type(mi_decimal))"
      ],
      "metadata": {
        "colab": {
          "base_uri": "https://localhost:8080/"
        },
        "id": "B4wOtmaqL2TO",
        "outputId": "279a4cb9-b3a2-4132-a8ff-2805c63fd103"
      },
      "execution_count": 64,
      "outputs": [
        {
          "output_type": "stream",
          "name": "stdout",
          "text": [
            "9.999 <class 'float'>\n",
            "10.0 <class 'float'>\n"
          ]
        }
      ]
    },
    {
      "cell_type": "markdown",
      "source": [
        "A variable of type float will not round the number that you store in it, while a variable of type integer will. This makes floats more suitable for mathematical calculations where you want more than just integers.\n",
        "\n",
        "Note that as we used the float() function to force an number to be considered a float, we can use the int() function to force a number to be considered an int."
      ],
      "metadata": {
        "id": "jhLu_DrEMTrw"
      }
    },
    {
      "cell_type": "code",
      "source": [
        "my_int = int(3.14159)\n",
        "print (my_int, type(my_int))"
      ],
      "metadata": {
        "colab": {
          "base_uri": "https://localhost:8080/"
        },
        "id": "sUmIwUFxMXiP",
        "outputId": "f7348bb9-b434-4ad2-bd04-8019b0810340"
      },
      "execution_count": 66,
      "outputs": [
        {
          "output_type": "stream",
          "name": "stdout",
          "text": [
            "3 <class 'int'>\n"
          ]
        }
      ]
    },
    {
      "cell_type": "markdown",
      "source": [
        "###My example 111"
      ],
      "metadata": {
        "id": "nVU6CRomMavt"
      }
    },
    {
      "cell_type": "code",
      "source": [
        "my_int = int(5.1645644)\n",
        "print (my_int, type(my_int))"
      ],
      "metadata": {
        "colab": {
          "base_uri": "https://localhost:8080/"
        },
        "id": "7aDSfphpMu1l",
        "outputId": "51c2a743-c45a-4944-df98-a5fbba4f7020"
      },
      "execution_count": 67,
      "outputs": [
        {
          "output_type": "stream",
          "name": "stdout",
          "text": [
            "5 <class 'int'>\n"
          ]
        }
      ]
    },
    {
      "cell_type": "markdown",
      "source": [
        "My example 112"
      ],
      "metadata": {
        "id": "Aw0PyyRjMzMR"
      }
    },
    {
      "cell_type": "code",
      "source": [
        "mi_entero = int(5.1645644)\n",
        "print (mi_entero, type(mi_entero))"
      ],
      "metadata": {
        "colab": {
          "base_uri": "https://localhost:8080/"
        },
        "id": "gciPo7W6M1R8",
        "outputId": "8f1f25f7-fde2-49bb-b9a4-fc90c784c8c7"
      },
      "execution_count": 68,
      "outputs": [
        {
          "output_type": "stream",
          "name": "stdout",
          "text": [
            "5 <class 'int'>\n"
          ]
        }
      ]
    }
  ]
}