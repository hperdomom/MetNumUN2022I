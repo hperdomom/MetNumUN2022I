{
  "nbformat": 4,
  "nbformat_minor": 0,
  "metadata": {
    "colab": {
      "name": "hperdomom_Lab1.ipynb",
      "provenance": [],
      "authorship_tag": "ABX9TyOc+qE9QQbrF1m0uAzHFwmW"
    },
    "kernelspec": {
      "name": "python3",
      "display_name": "Python 3"
    },
    "language_info": {
      "name": "python"
    }
  },
  "cells": [
    {
      "cell_type": "code",
      "execution_count": null,
      "metadata": {
        "id": "gASiWC8NwEQQ"
      },
      "outputs": [],
      "source": [
        ""
      ]
    }
  ]
}